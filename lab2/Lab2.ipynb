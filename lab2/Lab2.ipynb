{
 "cells": [
  {
   "cell_type": "markdown",
   "metadata": {
    "id": "NbTUIJVrAaIr"
   },
   "source": [
    "<center><img src=\"http://what-when-how.com/wp-content/uploads/2012/07/tmp26dc139_thumb.png\" width=50% > </center>\n",
    "\n",
    "# <center> Assignment 2: Neighborhood Processing & Filters </center>\n",
    "<center> Computer Vision 1 University of Amsterdam </center>\n",
    "    <center> Due 23:59PM, September 24, 2022 (Amsterdam time) </center>\n",
    "    \n",
    "***"
   ]
  },
  {
   "cell_type": "markdown",
   "metadata": {
    "id": "ufYIQhgROv4X"
   },
   "source": [
    "##(100 pts)"
   ]
  },
  {
   "cell_type": "markdown",
   "metadata": {
    "id": "UMW9vG1dBifa"
   },
   "source": [
    "## General guidelines\n",
    "Your code and discussion must be completed in this **jupyter notebook** before the deadline by submitting it to the Canvas Lab 2 Assignment. Submit your assignment in a **zip file**, with all the relevant files and images need to run your notebook. Name your zip file as follows:  **StudentID1_StudentID2_StudentID3.zip**\n",
    "For full credit, make sure you follow these guidelines:\n",
    "\n",
    "- Make sure you use the provided python environment. You can create the environment using conda and the provided YAML file using the following command: `conda env create --file=CV1_env.yaml`, then activate it as `conda activate cv1`. Using different packages versions may result in the impossibility to run the submitted code and therefore in the subtraction of points. Below you will find a code cell to check the versions of your packages. \n",
    "- Please express your thoughts concisely. The number of words does not necessarily correlate with how well you understand the concepts.\n",
    "- Answer all given questions.\n",
    "- Try to understand the problem as much as you can. When answering a question, give evidences (qualitative and/or quantitative results, references to papers, figures etc.) to support your arguments. Note that not everything might be explicitly asked for and you are expected to think about what might strengthen you arguments and make your notebook self-contained and complete.\n",
    "- Analyze your results and discuss them, e.g. why algorithm A works better than algorithm B in a certain problem.\n",
    "- Tables and figures must be accompanied by a brief description. Do not forget to add a number, a title, and if applicable name and unit of variables in a table, name and unit of axes and legends in a figure.\n",
    "- Make sure all the code in your notebook runs without errors or bugs before submitting. Code that does not run can result in a lower grade. \n",
    "\n",
    "Late submissions are not allowed. Assignments that are submitted after the strict deadline will not be graded. In case of submission conflicts, TAs’ system clock is taken as reference. We strongly recommend submitting well in advance, to avoid last minute system failure issues.\n",
    "Plagiarism note: Keep in mind that plagiarism (submitted materials which are not your work) is a serious crime and any misconduct shall be punished with the university regulations."
   ]
  },
  {
   "cell_type": "code",
   "execution_count": 95,
   "metadata": {
    "id": "nBCvx1UiTn_j"
   },
   "outputs": [],
   "source": [
    "import cv2\n",
    "import matplotlib\n",
    "import matplotlib.pyplot as plt\n",
    "import math\n",
    "import numpy as np\n",
    "import time\n",
    "import sklearn\n",
    "from sklearn.decomposition import PCA\n",
    "\n",
    "#import requests\n"
   ]
  },
  {
   "cell_type": "code",
   "execution_count": 84,
   "metadata": {
    "colab": {
     "base_uri": "https://localhost:8080/",
     "height": 235
    },
    "executionInfo": {
     "elapsed": 226,
     "status": "error",
     "timestamp": 1663316103937,
     "user": {
      "displayName": "Pieter Pierrot",
      "userId": "05479018623794835299"
     },
     "user_tz": -120
    },
    "id": "DXbuUaRUud2H",
    "outputId": "d644980b-991a-4048-c408-a6827525b962"
   },
   "outputs": [
    {
     "ename": "AssertionError",
     "evalue": "You're not using the provided Python environment!",
     "output_type": "error",
     "traceback": [
      "\u001b[1;31m---------------------------------------------------------------------------\u001b[0m",
      "\u001b[1;31mAssertionError\u001b[0m                            Traceback (most recent call last)",
      "\u001b[1;32m<ipython-input-84-709cb3eb5e76>\u001b[0m in \u001b[0;36m<module>\u001b[1;34m\u001b[0m\n\u001b[0;32m      1\u001b[0m \u001b[1;31m# Make sure you're using the provided environment!\u001b[0m\u001b[1;33m\u001b[0m\u001b[1;33m\u001b[0m\u001b[1;33m\u001b[0m\u001b[0m\n\u001b[1;32m----> 2\u001b[1;33m \u001b[1;32massert\u001b[0m \u001b[0mcv2\u001b[0m\u001b[1;33m.\u001b[0m\u001b[0m__version__\u001b[0m \u001b[1;33m==\u001b[0m \u001b[1;34m\"3.4.2\"\u001b[0m\u001b[1;33m,\u001b[0m \u001b[1;34m\"You're not using the provided Python environment!\"\u001b[0m\u001b[1;33m\u001b[0m\u001b[1;33m\u001b[0m\u001b[0m\n\u001b[0m\u001b[0;32m      3\u001b[0m \u001b[1;32massert\u001b[0m \u001b[0mnp\u001b[0m\u001b[1;33m.\u001b[0m\u001b[0m__version__\u001b[0m \u001b[1;33m==\u001b[0m \u001b[1;34m\"1.19.5\"\u001b[0m\u001b[1;33m,\u001b[0m \u001b[1;34m\"You're not using the provided Python environment!\"\u001b[0m\u001b[1;33m\u001b[0m\u001b[1;33m\u001b[0m\u001b[0m\n\u001b[0;32m      4\u001b[0m \u001b[1;32massert\u001b[0m \u001b[0mmatplotlib\u001b[0m\u001b[1;33m.\u001b[0m\u001b[0m__version__\u001b[0m \u001b[1;33m==\u001b[0m \u001b[1;34m\"3.3.4\"\u001b[0m\u001b[1;33m,\u001b[0m \u001b[1;34m\"You're not using the provided Python environment!\"\u001b[0m\u001b[1;33m\u001b[0m\u001b[1;33m\u001b[0m\u001b[0m\n\u001b[0;32m      5\u001b[0m \u001b[1;32massert\u001b[0m \u001b[0msklearn\u001b[0m\u001b[1;33m.\u001b[0m\u001b[0m__version__\u001b[0m \u001b[1;33m==\u001b[0m \u001b[1;34m\"0.23.0\"\u001b[0m\u001b[1;33m\u001b[0m\u001b[1;33m\u001b[0m\u001b[0m\n",
      "\u001b[1;31mAssertionError\u001b[0m: You're not using the provided Python environment!"
     ]
    }
   ],
   "source": [
    "# Make sure you're using the provided environment!\n",
    "assert cv2.__version__ == \"3.4.2\", \"You're not using the provided Python environment!\"\n",
    "assert np.__version__ == \"1.19.5\", \"You're not using the provided Python environment!\"\n",
    "assert matplotlib.__version__ == \"3.3.4\", \"You're not using the provided Python environment!\"\n",
    "assert sklearn.__version__ == \"0.23.0\"\n",
    "\n",
    "# Proceed to the next cell only if you don't get any error.\n"
   ]
  },
  {
   "cell_type": "markdown",
   "metadata": {
    "id": "OIIOhzlprt6C"
   },
   "source": [
    "# 1 Introduction "
   ]
  },
  {
   "cell_type": "markdown",
   "metadata": {
    "id": "-NbweJbQCUny"
   },
   "source": [
    "\n",
    "In this assignment, you will get familiar with fundamentals of neighborhood processing for image processing. These techniques allow for low-level image understanding via extraction of structural patterns such as edges and blobs. Similarly, they find an extensive use in image denoising and higher level image reasoning such as shape recognition. Moreover, neighborhood or block processing is one of the key components of *Convolutional Neural Networks*. Therefore, a good understanding of these\n",
    "procedures will be a stepping stone towards understanding more complex machinery used in computer vision and machine learning.\n",
    "\n",
    "In subsequent sections of this assignment, we will first explain neighborhood processing and introduce low-level filters commonly used to analyze images. After that, we will see how these mathematical concepts relate to practice by working through fundamental tasks such as denoising and segmentation. By the end of this assignment, you will have an overall understanding of the following:\n",
    "* Gaussian and Gabor filters\n",
    "* Edge detection and image denoising\n",
    "* Texture-based image segmentation\n",
    "\n",
    "\n",
    "---\n",
    "\n",
    "\n",
    "First we need two helper functions "
   ]
  },
  {
   "cell_type": "code",
   "execution_count": 96,
   "metadata": {
    "id": "e1GK_-R4cWPb"
   },
   "outputs": [],
   "source": [
    "# Use this for the last exercise\n",
    "\n",
    "def load_image(image_id: str = 'Polar'):\n",
    "    '''\n",
    "    Loads an image, resizes image with proper resize factor and sets proper color representation\n",
    "    :param image_id: id of an image: Kobi, Polar, Robin0, Robin-2, Cows, SciencePark\n",
    "    :return: image\n",
    "    '''\n",
    "    if image_id == 'Kobi':\n",
    "        img = cv2.imread('./sample_data/sample_data/kobi.png')\n",
    "        img = cv2.cvtColor(img, cv2.COLOR_BGR2RGB)\n",
    "        resize_factor = 1.25\n",
    "    elif image_id == 'Polar':\n",
    "        img = cv2.imread('./sample_data/sample_data/polar-bear-hiding.jpg')\n",
    "        img = cv2.cvtColor(img, cv2.COLOR_BGR2RGB)\n",
    "        resize_factor = 1.75\n",
    "    elif image_id == 'Robin0':\n",
    "        img = cv2.imread('./sample_data/sample_data/robin-1.jpg')\n",
    "        img = cv2.cvtColor(img, cv2.COLOR_BGR2RGB)\n",
    "        resize_factor = 2\n",
    "    elif image_id == 'Robin-1':\n",
    "        img = cv2.imread('./sample_data/sample_data/robin-2.jpg')\n",
    "        img = cv2.cvtColor(img, cv2.COLOR_BGR2RGB)\n",
    "        resize_factor = 1.5\n",
    "    elif image_id == 'Cows':\n",
    "        img = cv2.imread('./sample_data/sample_data/cows.jpg')\n",
    "        img = cv2.cvtColor(img, cv2.COLOR_BGR2RGB)\n",
    "        resize_factor = 1.5\n",
    "    elif image_id == 'SciencePark':\n",
    "        img = cv2.imread('./sample_data/sample_data/sciencepark.jpg')\n",
    "        img = cv2.cvtColor(img, cv2.COLOR_BGR2RGB)\n",
    "        resize_factor = 1.2\n",
    "    else:\n",
    "        raise ValueError('Image not available.')\n",
    "    img = cv2.resize(img, (0, 0), fx=resize_factor, fy=resize_factor)\n",
    "    img = cv2.cvtColor(img, cv2.COLOR_RGB2GRAY)\n",
    "    return img"
   ]
  },
  {
   "cell_type": "code",
   "execution_count": 97,
   "metadata": {
    "id": "d-4o3ljKeJku"
   },
   "outputs": [],
   "source": [
    "def show_image(image, image_title: str = \"Polar\", cmap='gray'):\n",
    "    '''Displays image in grey scale'''\n",
    "    plt.figure()\n",
    "    plt.title(image_title)\n",
    "    plt.imshow(image, cmap=cmap)\n",
    "    plt.axis(\"off\")"
   ]
  },
  {
   "cell_type": "markdown",
   "metadata": {
    "id": "fk8dblKYr2z4"
   },
   "source": [
    "# 2 Neighborhood Processing"
   ]
  },
  {
   "cell_type": "markdown",
   "metadata": {
    "id": "wI0keTjXDhS0"
   },
   "source": [
    "\n",
    "Neighborhood processing is simply about looking around a point $I(x, y)$ (i.e. pixel) in the image, $I$, and applying a function, $h(k, l)$, which measures certain properties or relationships between the pixels in that localized window. The function, $h(k, l)$, is generally referred to as the neighborhood operator or local operator. One of the most common forms of a neighborhood operator is a linear filter. Linear filters simply compute the weighted sum of neighboring pixel intensities and assign it to the pixel of interest (output $I_{out}(i, j)$). The filters in which we are interested here are usually represented as a square matrix.\n",
    "\n",
    "---\n",
    "**Hint**: Filters, kernels, weight matrices or masks are interchangeably used in the literature. A kernel is a matrix with which we describe a neighborhood operation. This operation can, for example, be edge detection or smoothing.\n",
    "\n",
    "---\n",
    "\n",
    "Linear filters are shifted over the entire image plane via operators such as correlation ($\\otimes$) and convolution ($\\ast$). Both of these operators are *linear shift-invariant* (LSI) implying that the filters behave the same way over the entire image. Discrete forms of these operators are given in the following:\n",
    "\n",
    "\n",
    "Correlation (1):\n",
    "<center>\n",
    "$\\mathbf{I}_{out} = I \\otimes  \\mathbf{h}\\\\\n",
    " \\mathbf{I}_{out}(i,j) = \\sum_{k,l}  \\mathbf{I}(i+k,j+l) \\mathbf{h}(k,l)$\n",
    "</center>\n",
    "Convolution (2):\n",
    "<center>\n",
    "$    \\mathbf{I}_{out} = \\mathbf{I} \\ast  \\mathbf{h}\\\\\n",
    " \\mathbf{I}_{out}(i,j) = \\sum_{k,l} \\mathbf{I}(i-k,j-l) \\mathbf{h}(k,l)$\n",
    " </center>\n",
    "\n",
    "\n",
    "---\n",
    "The following example illustrates the overall idea of neighborhood processing. The kernel or the mask convolves over the input image. In the case of linear filters, this is simply multiplying each pixel intensity with the corresponding weight in the kernel (see the yellowish $7x7$ window where the kernel is placed). In the example, the kernel is $7x7$ averaging mask. You can see its effect by comparing the red (before filtering) and the green (after filtering) frames.\n",
    "\n",
    "\n",
    "\n"
   ]
  },
  {
   "cell_type": "markdown",
   "metadata": {
    "id": "6hQY3W1wLmHv"
   },
   "source": [
    "**Example:**\n",
    "![](https://drive.google.com/uc?export=view&id=1HXt-WTi2Mg-jHYU4tvcKl4R29gi-g1QY)"
   ]
  },
  {
   "cell_type": "markdown",
   "metadata": {
    "id": "7mZ_fs1wWRl8"
   },
   "source": [
    "### Question (10 pts)\n",
    "1.   What is the difference between correlation and convolution operators? How do they treat the signals $\\mathbf{I}$ and $\\mathbf{h}$?\n",
    "2.   Correlation and convolution operators are equivalent when we make an assumption on the form of the mask $\\mathbf{h}$. Can you identify the case?\n"
   ]
  },
  {
   "cell_type": "markdown",
   "metadata": {
    "id": "ylaRzZZNLPpU"
   },
   "source": [
    "1. Cross correlation slides the filter $\\mathbf{h}$ along the x-axis of the image $\\mathbf{I}$ in an intuitive way. It starts on the top-left and works its way down along the rows. During this slide it computes a new value for a pixel in $\\mathbf{I}$ beneath the center pixelvalue of $\\mathbf{h}$. It does so based on the surrounding neighbourhood pixels of the image also captured within the filter. This can be a multitude of different filters. Convolution does the same with one significant difference: the filter/mask $\\mathbf{h}$ is rotated 180 degrees / often defined as 'flipped'. Both correlation and convolution are linear and translation invariant. One important property is that convolutions are associative, or in other words, the order of applying filters doesn't matter: $(f \\ast g) \\ast h = f \\ast (g \\ast h)$. This is extremely helpful if we have to apply a sequence of filters to an image, because we can essentially create a combined filter before sliding it over the image, instead of having to slide several filters over the image one at a time. This does not work for correlation.\n",
    "2. If the filter/mask h is point-symmetric then the correlation and convolution operators are the same. This is because flipping the mask has no impact on the mask itself, the values contained within the mask stay within the same order. Thus sliding the filter along the image and computing the values, the kernel's status of flipped or not flipped does not matter. Filters like this would be the Gaussian or Laplacian."
   ]
  },
  {
   "cell_type": "markdown",
   "metadata": {
    "id": "DJlTkHdTOROo"
   },
   "source": [
    "# 3 Low-level filters\n"
   ]
  },
  {
   "cell_type": "markdown",
   "metadata": {
    "id": "6Blbzx35sVsf"
   },
   "source": [
    "In this section, you will design common linear filters used in neighborhood processing. We will focus in particular on Gaussian and Gabor filters."
   ]
  },
  {
   "cell_type": "markdown",
   "metadata": {
    "id": "_NhWPur7P1_Q"
   },
   "source": [
    "## 3.1 Gaussian Filters"
   ]
  },
  {
   "cell_type": "markdown",
   "metadata": {
    "id": "1oBHyce1saAI"
   },
   "source": [
    "### 3.1.1 1D Gaussian Filter"
   ]
  },
  {
   "cell_type": "markdown",
   "metadata": {
    "id": "NyGUgGekPz-a"
   },
   "source": [
    "\n",
    "\n",
    "The 1D  Gaussian filter is defined as follows:\n",
    "<center>\n",
    "$ G_{\\sigma}(x)=\\frac{1}{\\sigma\\sqrt{2\\pi}}\\text{ exp}(-\\frac{x^2}{2\\sigma^2}),$\n",
    "</center>\n",
    "where $\\sigma$ is the variance of the Gaussian. However, such formulation creates an infinitely large convolution kernel. In practice, the kernel is truncated with a `kernel_size` parameter such that $-\\left\\lfloor \\frac{kernel\\_size}{2}\\right\\rfloor \\leq x \\leq \\left\\lfloor \\frac{kernel\\_size}{2} \\right\\rfloor$, where $\\left\\lfloor . \\right\\rfloor$ is the floor operator. As an example, if `kernel_size` equals 3, $x \\in \\{ -1, 0, 1 \\} $."
   ]
  },
  {
   "cell_type": "markdown",
   "metadata": {
    "id": "V2NtMMr9RSVv"
   },
   "source": [
    "### Exercise \n",
    "Now, implement the following *gauss1D* function.\n",
    "\n",
    "**Hint:** \n",
    "Do not forget to normalize your filter.\n",
    "\n",
    "**Note:** You are not allowed to use a Python built-in function provided by *SciPy* or other libraries to compute the kernel."
   ]
  },
  {
   "cell_type": "code",
   "execution_count": 98,
   "metadata": {
    "colab": {
     "base_uri": "https://localhost:8080/"
    },
    "id": "b4f5nPDqBdf_",
    "outputId": "8f020ddf-2b1a-45ce-d685-19056676c7eb"
   },
   "outputs": [],
   "source": [
    "def gauss1D(sigma, kernel_size):\n",
    "    G = np.zeros((1, kernel_size))\n",
    "    if kernel_size % 2 == 0:\n",
    "        raise ValueError('kernel_size must be odd, otherwise the filter will not have a center to convolve on')\n",
    "    x_lim = int(np.floor(kernel_size/2))\n",
    "    x = np.linspace(-x_lim, x_lim, kernel_size)    \n",
    "        \n",
    "    # solution\n",
    "    G[0] = 1/(sigma*np.sqrt(2*np.pi))*np.exp(-x**2/(2*sigma**2))\n",
    "\n",
    "    return G / np.sum(G)"
   ]
  },
  {
   "cell_type": "code",
   "execution_count": null,
   "metadata": {
    "id": "MUwwgpFaR5XH"
   },
   "outputs": [],
   "source": [
    "# Run this to test your function:\n",
    "assert np.all(np.round(gauss1D(2,5), 4) == [0.1525, 0.2218, 0.2514, 0.2218, 0.1525]) # check if values are close enough if assert gives error"
   ]
  },
  {
   "cell_type": "markdown",
   "metadata": {
    "id": "RkT7BklaTUmj"
   },
   "source": [
    "### 3.1.2 2D Gaussian Filter\n"
   ]
  },
  {
   "cell_type": "markdown",
   "metadata": {
    "id": "cW9S9S-CspJn"
   },
   "source": [
    "\n",
    "One of the most important properties of 2D Gaussian kernels is separability. Therefore, convolving an image with a 2D Gaussian is equivalent to convolving\n",
    "the image twice with a 1D Gaussian filter, once along the x-axis and once along the y-axis **separately**. A 2D Gaussian kernel can then be defined as a product of two 1D Gaussian kernels:\n",
    "<center>\n",
    "$\n",
    "G_{\\sigma}(x, y) = G_{\\sigma}(x) \\times G_{\\sigma}(y)$ *(Eq. A)*\n",
    "\n",
    "$\n",
    " = \\frac{1}{\\sigma^2 2\\pi}\\text{ exp}(-\\frac{x^2 + y^2}{2\\sigma^2})\n",
    " $ *(Eq. B)*\n",
    " </center>"
   ]
  },
  {
   "cell_type": "markdown",
   "metadata": {
    "id": "762bvpRYTual"
   },
   "source": [
    "### Exercise \n",
    "\n",
    "Implement `gauss2D` function that corresponds to *Eq. A* (not *Eq. B*) and you should make use of `gauss1D`.\n",
    "\n",
    "**Note:** Again, you are not allowed to use a Python built-in function provided by *SciPy* or other libraries to compute the kernel."
   ]
  },
  {
   "cell_type": "code",
   "execution_count": 99,
   "metadata": {
    "colab": {
     "base_uri": "https://localhost:8080/"
    },
    "id": "WhfGMWffTtzm",
    "outputId": "62a98d7b-a3d5-4ada-b4c2-ef47982a4dea"
   },
   "outputs": [],
   "source": [
    "def gauss2D(sigma_x, sigma_y, kernel_size):\n",
    "    gauss_x = gauss1D(sigma_x, kernel_size)\n",
    "    gauss_y = gauss1D(sigma_y, kernel_size)\n",
    "    \n",
    "    G = gauss_x.T @ gauss_y\n",
    "    \n",
    "    return G"
   ]
  },
  {
   "cell_type": "code",
   "execution_count": null,
   "metadata": {
    "id": "HgMHxPlgVbgQ"
   },
   "outputs": [],
   "source": [
    "# Run this to test your function:\n",
    "assert np.all( np.round(gauss2D(2, 2, 3) , 4) == [[0.1019, 0.1154, 0.1019],\n",
    "       [0.1154, 0.1308, 0.1154],\n",
    "       [0.1019, 0.1154, 0.1019]])"
   ]
  },
  {
   "cell_type": "markdown",
   "metadata": {
    "id": "-2ZB6tEeV_Ls"
   },
   "source": [
    "### Question (5pts)\n",
    "What is the difference between convolving an image with (1) a 2D Gaussian kernel and (2) a 1D Gaussian kernel in the x- and y-direction? Will the result be the same? What is their computational complexity?"
   ]
  },
  {
   "cell_type": "markdown",
   "metadata": {
    "id": "8gTOdwi4WCyi"
   },
   "source": [
    "There is no difference because of the aforementioned associativity of convolving kernels and images aside from the fact that convolving an image twice with 1d gaussian filters will take longer. The result will therefore be the same. The computational complexity of ---------- ANSWER"
   ]
  },
  {
   "cell_type": "markdown",
   "metadata": {
    "id": "ViVNlHPOa2Jd"
   },
   "source": [
    "### 3.1.3 Gaussian Derivatives\n",
    "So far the Gaussian kernels that we computed are mainly targeted to image enhancement algorithms (e.g. denoising an image). These kernels can also be used for detecting changes in the image intensity pixels. These low-level features can then further be used as building blocks for more complicated tasks like object detection or segmentation.\n",
    "\n",
    "\n",
    "Concretely, the  first order derivative of the 1D Gaussian kernel is given by:\n",
    "\n",
    "<center>\n",
    "$\n",
    "\\frac{d}{dx}G_\\sigma(x)  =\\frac{d}{dx}\\left( \\frac{1}{\\sigma\\sqrt{2\\pi}}\\exp(-\\frac{x^2}{2\\sigma^2}) \\right )$\n",
    "\n",
    "$\n",
    " = -\\frac{x}{\\sigma^3\\sqrt{2\\pi}}\\exp(-\\frac{x^2}{2\\sigma^2})$ \n",
    "*(Eq. C)*\n",
    "\n",
    " $\n",
    " = -\\frac{x}{\\sigma^2}G_\\sigma(x)\n",
    " $\n",
    "</center>\n",
    "Similarly, the first order derivative of the 2D Gaussian kernel can be obtained by computing $\\frac{d}{dx}G_\\sigma(x,y)$ and $\\frac{d}{dy}G_\\sigma(x,y)$."
   ]
  },
  {
   "cell_type": "markdown",
   "metadata": {
    "id": "eMgRkSaSa-7u"
   },
   "source": [
    "#### Question (5pts)\n",
    "A second order derivative of the Gaussian kernel can also be computed. Why\n",
    "is it interesting to design a second order kernel?"
   ]
  },
  {
   "cell_type": "markdown",
   "metadata": {
    "id": "HtsxpaP8bGqC"
   },
   "source": [
    "<b>Answer:</b> A second order can detect local minima and maxima. Local minima and maxima are the indication of where the rate of change in the derivative equals to 0. Corners and edges are such regions. Along a certain line/edge the second derivative will be zero since that is what defines a constant line or edge. However on the sides of that edge the derivative is very large and will rapidly decrease or increase moving up to that edge. A second derivative filter will detect the lack of change in pixel-intensity along an edge and thus display the edge for us. Why is this important? Edges and corners are often the outline of features we want to detect within an image. We often are able to detect an object from its edges and cornes alone."
   ]
  },
  {
   "cell_type": "markdown",
   "metadata": {
    "id": "OtMu-uUgbIHi"
   },
   "source": [
    "## 3.2 Gabor filters\n"
   ]
  },
  {
   "cell_type": "markdown",
   "metadata": {
    "id": "G40RQGvgsxAj"
   },
   "source": [
    "Gabor filters fall into the category of linear filters and are widely used for *texture analysis*. The reason why they are a good choice for texture analysis is that they localize well in the frequency spectrum (*optimally* bandlimited) and therefore work as flexible *band-pass* filters.\n",
    "\n",
    "In the following image you can see even (cosine-modulated) and odd parts (sine-modulated) of Gabor filters with fixed-σ Gaussian. You can observe time-domain filters for the modulating sinusoidals of central frequencies, 10, 20, 30, 40 and 50 Hz, respectively.\n"
   ]
  },
  {
   "cell_type": "markdown",
   "metadata": {
    "id": "Qs5KY3RIL23Z"
   },
   "source": [
    "![](https://drive.google.com/uc?export=view&id=1wv6ZUOfiHMDgg0jW7n5lqkaFiFztjnEo)"
   ]
  },
  {
   "cell_type": "markdown",
   "metadata": {
    "id": "yPyZ-8JveugN"
   },
   "source": [
    "Gabor filters with varying center frequencies are sensitive to different\n",
    "frequency bands. Notice that the neighboring (in the frequency spectrum) filters minimally interfere with each other."
   ]
  },
  {
   "cell_type": "markdown",
   "metadata": {
    "id": "zLgAHvd3MBxU"
   },
   "source": [
    "![](https://drive.google.com/uc?export=view&id=1hUQaKE_TwC-9_jMIao1CCxyjembMrUab)"
   ]
  },
  {
   "cell_type": "markdown",
   "metadata": {
    "id": "H1mP6EytbZE2"
   },
   "source": [
    "### 3.2.1 1D Gabor Filters"
   ]
  },
  {
   "cell_type": "markdown",
   "metadata": {
    "id": "f0qj4afHtBkK"
   },
   "source": [
    "For the sake of simplicity, we start by studying what a Gabor function is using 1D signals (e.g. speech). The idea will later be generalized to the 2D case, which is suited for our primary interest, images. A Gabor function is a Gaussian function modulated with a complex sinusoidal carrier signal. Let us denote the Gaussian with $x(t)$ and complex sinusoidal with $m(t)$. Then, a Gabor function $g(t)$ can be formulated by:\n",
    "\n",
    "$\n",
    "g(t) = x(t) m(t)   \n",
    "$ *(Eq. D)*\n",
    "\n",
    "where $x(t) = \\frac{1}{\\sqrt{2\\pi}\\sigma}e^{-\\frac{t^2}{2\\sigma^2}}$ and $m(t)=e^{j 2 \\pi f_c t} = e^{j w_c t}$. $\\sigma$ is the parameter determining the spread of the Gaussian and $w_c$ is the central frequency of the carrier signal.\n",
    "\n",
    "\n",
    "---\n",
    "\n",
    "\n",
    "**Hint:**\n",
    "A complex sinusoidal can be represented as follows using the *Euler's formula*:\n",
    "$e^{jwt} = \\cos(wt) + j\\sin(wt)$\n",
    "\n",
    "\n",
    "---\n",
    "\n",
    "\n",
    "\n",
    "Using Euler's formula, we get the following:\n",
    "\\begin{align}\n",
    "    g(t) &= x(t)m(t) \\\\\n",
    "    g(t) &= \\frac{1}{\\sqrt{2\\pi}\\sigma}e^{-\\frac{t^2}{2\\sigma^2}} e^{j w_c t} \\\\\n",
    "    g(t) &= \\frac{1}{\\sqrt{2\\pi}\\sigma}e^{-\\frac{t^2}{2\\sigma^2}} [\\cos(w_c t) + j\\sin(w_c t)]\n",
    "\\end{align}\n",
    "We can further arrange the terms and arrive at the following form\n",
    "\\begin{align}\n",
    "    g(t) = g_e(t) + jg_o(t)\n",
    "\\end{align}\n",
    "where $g_e(t)$ and $g_o(t)$ are the even and odd parts arranged orthogonally on the complex plane $\\mathbf{Z}^2$. In practice, one can use either the even or the odd part for filtering purposes (or one can use the complex form).  "
   ]
  },
  {
   "cell_type": "markdown",
   "metadata": {
    "id": "a2fL29EAbaYt"
   },
   "source": [
    "### 3.2.2 2D Gabor Filters"
   ]
  },
  {
   "cell_type": "markdown",
   "metadata": {
    "id": "8Wor-yxqtLnl"
   },
   "source": [
    "\n",
    "The Gabor filters can also be defined in 2D as well. The main difference lies in the dimensionality of the signals (i.e. carrier and gaussian). A sine wave in 2D is described by two orthogonal spatial frequencies $u_0$ and $v_0$ such that it is given as $s(x,y) = sin(2\\pi(u_0 x + v_0 y))$ where a 2D gaussian is simply $C e^{-(\\frac{(x-x_0)^2}{2\\sigma_x^2}) + \\frac{(y-y_0)^2}{2\\sigma_y^2})}$ with $C$ being a normalizing constant. 2D Gabor function then takes the following forms in the real and complex parts:\n",
    "\n",
    "\\begin{align}\n",
    "    g_{real}(x,y; \\lambda, \\theta, \\psi, \\sigma, \\gamma) = \\exp\\left(-\\frac{x^{\\prime2}+\\gamma^2 y^{\\prime2}}{2\\sigma^2}\\right)\n",
    "\\cos\\left( 2\\pi \\frac{x^{\\prime}}{\\lambda} + \\psi  \\right)                                              \n",
    "\\end{align}\n",
    "\\begin{align}\n",
    "g_{im}(x,y; \\lambda, \\theta, \\psi, \\sigma, \\gamma) &= \\exp\\left(-\\frac{x^{\\prime2}+\\gamma^2 y^{\\prime2}}{2\\sigma^2}\\right)\n",
    "\\sin\\left( 2\\pi \\frac{x^{\\prime}}{\\lambda} + \\psi  \\right)\n",
    "\\end{align}\n",
    "\n",
    "where\n",
    "\\begin{align}\n",
    "    x^\\prime &= x\\cos\\theta + y\\sin\\theta \\\\\n",
    "    y^\\prime &= -x\\sin\\theta + y\\cos\\theta\n",
    "\\end{align}"
   ]
  },
  {
   "cell_type": "markdown",
   "metadata": {
    "id": "32eQTHQobdGG"
   },
   "source": [
    "#### Question 4 (5pts)\n",
    "Conduct a self-study on the Gabor filters. Explain shortly what the parameters $\\lambda, \\theta, \\psi, \\sigma, \\gamma$ control."
   ]
  },
  {
   "cell_type": "markdown",
   "metadata": {
    "id": "UfCvFPCltWXs"
   },
   "source": [
    "$\\lambda$ controls the wavelength of the sinusoidal signals. In terms of the filter, it controls the thickness of the bandwidth stripes through which information is passed.\n",
    "\n",
    "$\\theta$ controls the orientation in degrees of that aforementioned stripes. If $\\theta = 0$, then the strip is vertical. Naturally if $\\theta = 90$, the strip's orientation will be horizontal.\n",
    "\n",
    "$\\psi$ controls the phase offset of the sinusoidal signals. It's a time indication for the offset between the sine waves.  \n",
    "\n",
    "$\\sigma$ is the standard deviation of the Gaussian envelope. Higher standard deviation leads to higher bandwidth/more Gabor stripes through which information is passed. Can be seen as controlling the overall size of the Gabor filter's bandwidth.\n",
    "\n",
    "$\\gamma$ controls the flattening (ellipticity) of the Gaussian envelope; so the aspect-ratio of circle-to-ellipse for the Gaussian distribution. In terms of the filter, it controls the length/height of the stripes."
   ]
  },
  {
   "cell_type": "markdown",
   "metadata": {
    "id": "WIpIVPE4tvE9"
   },
   "source": [
    "### Exercise "
   ]
  },
  {
   "cell_type": "markdown",
   "metadata": {
    "id": "_QVZG7MciTJn"
   },
   "source": [
    "##### Design array of Gabor Filters\n",
    "\n",
    "Now, you will create a Gabor Filterbank. A filterbank is a collection of filters with varying properties (e.g. {shape, texture}). A Gabor filterbank consists of Gabor filters of distinct orientations and scales. We will use this bank to extract texture information from the input image. "
   ]
  },
  {
   "cell_type": "markdown",
   "metadata": {
    "id": "xTqtQqRqvm6E"
   },
   "source": [
    "Your task is to implement function `createGabor` but to do that you will need some helper functions, which are defined below. Finish the implementation of those and then use them in `createGabor`."
   ]
  },
  {
   "cell_type": "code",
   "execution_count": 100,
   "metadata": {
    "id": "jeM6YS5blFZ-"
   },
   "outputs": [],
   "source": [
    "def generateRotationMatrix(theta):\n",
    "  # Returns the rotation matrix. \n",
    "  # Hint: https://en.wikipedia.org/wiki/Rotation_matrix\n",
    "    rotMat = np.array([[np.cos(theta), np.sin(theta)], [-np.sin(theta), np.cos(theta)]])\n",
    "    return rotMat\n"
   ]
  },
  {
   "cell_type": "code",
   "execution_count": 101,
   "metadata": {
    "id": "zCXnvzLav1Xg"
   },
   "outputs": [],
   "source": [
    "def createCos(rot_x, lamda, psi):\n",
    "  # Returns the 2D cosine carrier. \n",
    "\n",
    "    cosCarrier = np.cos((2*np.pi)*(rot_x/lamda) + psi)\n",
    "    \n",
    "    # Reshape the vector representation to matrix.\n",
    "    cosCarrier = np.reshape(cosCarrier, (np.int32(np.sqrt(len(cosCarrier))), -1))\n",
    "    return cosCarrier"
   ]
  },
  {
   "cell_type": "code",
   "execution_count": 102,
   "metadata": {
    "id": "xGPBzDW_v1c8"
   },
   "outputs": [],
   "source": [
    "def createSin(rot_x, lamda, psi):\n",
    "  # Returns the 2D sine carrier. \n",
    "  \n",
    "    sinCarrier = np.sin((2*np.pi)*(rot_x/lamda) + psi)\n",
    "    \n",
    "    # Reshape the vector representation to matrix.\n",
    "    sinCarrier = np.reshape(sinCarrier, (np.int32(np.sqrt(len(sinCarrier))), -1))\n",
    "    return sinCarrier"
   ]
  },
  {
   "cell_type": "code",
   "execution_count": 103,
   "metadata": {
    "id": "pZYsGehtwBUf"
   },
   "outputs": [],
   "source": [
    "def createGauss(rot_x, rot_y, gamma, sigma):\n",
    "  # Returns the 2D Gaussian Envelope. \n",
    "  \n",
    "    gaussEnv = np.exp(-(rot_x**2 + rot_y**2*gamma**2)/(2*sigma**2))\n",
    "    gaussEnv = np.reshape(gaussEnv, (np.int32(np.sqrt(len(gaussEnv))), -1))\n",
    "    \n",
    "    return gaussEnv / np.sum(gaussEnv)"
   ]
  },
  {
   "cell_type": "markdown",
   "metadata": {
    "id": "iCwJtg9fbgUz"
   },
   "source": [
    "Implement the function `createGabor` using above helper functions and equations for $g_{real} $ and $g_{im}$. \n"
   ]
  },
  {
   "cell_type": "code",
   "execution_count": 104,
   "metadata": {
    "id": "Lsf82AdMlbOO"
   },
   "outputs": [
    {
     "name": "stdout",
     "output_type": "stream",
     "text": [
      "Change in orientation of bandwidth strips by adjusting the angle of rotation theta.\n",
      "Change in size by adjusting the standard deviation sigma of the Gaussian Envelope.\n",
      "Change in ellipticity of the Gaussian Envelope by adjusting Gamma.\n",
      "----\n"
     ]
    },
    {
     "data": {
      "image/png": "[encoded data removed]",
      "text/plain": [
       "<Figure size 432x288 with 2 Axes>"
      ]
     },
     "metadata": {
      "needs_background": "light"
     },
     "output_type": "display_data"
    },
    {
     "data": {
      "image/png": "[encoded data removed]",
      "text/plain": [
       "<Figure size 432x288 with 2 Axes>"
      ]
     },
     "metadata": {
      "needs_background": "light"
     },
     "output_type": "display_data"
    },
    {
     "data": {
      "image/png": "[encoded data removed]",
      "text/plain": [
       "<Figure size 432x288 with 2 Axes>"
      ]
     },
     "metadata": {
      "needs_background": "light"
     },
     "output_type": "display_data"
    },
    {
     "data": {
      "image/png": "[encoded data removed]",
      "text/plain": [
       "<Figure size 432x288 with 2 Axes>"
      ]
     },
     "metadata": {
      "needs_background": "light"
     },
     "output_type": "display_data"
    },
    {
     "data": {
      "image/png": "[encoded data removed]",
      "text/plain": [
       "<Figure size 432x288 with 2 Axes>"
      ]
     },
     "metadata": {
      "needs_background": "light"
     },
     "output_type": "display_data"
    },
    {
     "data": {
      "image/png": "[encoded data removed]",
      "text/plain": [
       "<Figure size 432x288 with 2 Axes>"
      ]
     },
     "metadata": {
      "needs_background": "light"
     },
     "output_type": "display_data"
    }
   ],
   "source": [
    "def createGabor(sigma, theta, lamda, psi, gamma):\n",
    "    '''\n",
    "    Creates a complex valued Gabor filter.\n",
    "    myGabor = createGabor(sigma, theta, lamda, psi, gamma) generates Gabor kernels. \n",
    "    :param sigma: Standard deviation of Gaussian envelope.\n",
    "    :param theta: Orientation of the Gaussian envelope. Takes arguments in the range [0, pi/2).\n",
    "    :param lamda: The wavelength for the carriers. The central frequency (w_c) of the carrier signals.\n",
    "    :param psi: Phase offset for the carrier signal, sin(w_c . t + psi).\n",
    "    :param gamma: Controls the aspect ratio of the Gaussian envelope\n",
    "    :return: myGabor - A matrix of size [h,w,2], holding the real and imaginary \n",
    "                        parts of the Gabor in myGabor(:,:,1) and myGabor(:,:,2), respectively.\n",
    "    '''\n",
    "\n",
    "    # Set the aspect ratio.\n",
    "    sigma_x = sigma\n",
    "    sigma_y = float(sigma)/gamma\n",
    "\n",
    "    # Generate a grid\n",
    "    nstds = 3\n",
    "    xmax = max(abs(nstds*sigma_x*np.cos(theta)),abs(nstds*sigma_y*np.sin(theta)))\n",
    "    xmax = np.ceil(max(1,xmax))\n",
    "    ymax = max(abs(nstds*sigma_x*np.sin(theta)),abs(nstds*sigma_y*np.cos(theta)))\n",
    "    ymax = np.ceil(max(1,ymax))\n",
    "\n",
    "    # Make sure that we get square filters. \n",
    "    xmax = max(xmax,ymax)\n",
    "    ymax = max(xmax,ymax)\n",
    "    xmin = -xmax \n",
    "    ymin = -ymax\n",
    "\n",
    "    # Generate a coordinate system in the range [xmin,xmax] and [ymin, ymax]. \n",
    "    [x,y] = np.meshgrid(np.arange(xmin, xmax+1), np.arange(ymin, ymax+1))\n",
    "\n",
    "    # Convert to a 2-by-N matrix where N is the number of pixels in the kernel.\n",
    "    XY = np.concatenate((x.reshape(1, -1), y.reshape(1, -1)), axis=0)\n",
    "\n",
    "    # Compute the rotation of pixels by theta.\n",
    "    # Hint: Create appropriate rotation matrix to compute the rotated pixel coordinates: rot(theta) * XY.\n",
    "    rotMat = generateRotationMatrix(theta)\n",
    "    rot_XY = np.matmul(rotMat, XY)\n",
    "    rot_x = rot_XY[0,:]\n",
    "    rot_y = rot_XY[1,:]\n",
    "\n",
    "\n",
    "    # Create the Gaussian envelope.\n",
    "    # IMPLEMENT the helper function createGauss above.\n",
    "    gaussianEnv = createGauss(rot_x, rot_y, gamma, sigma)\n",
    "\n",
    "    # Create the orthogonal carrier signals.\n",
    "    # IMPLEMENT the helper functions createCos and createSin above.\n",
    "    cosCarrier = createCos(rot_x, lamda, psi)\n",
    "    sinCarrier = createSin(rot_x, lamda, psi)\n",
    "    \n",
    "    # Modulate (multiply) Gaussian envelope with the carriers to compute \n",
    "    # the real and imaginary components of the complex Gabor filter. \n",
    "    myGabor_real = gaussianEnv*cosCarrier  # TODO: modulate gaussianEnv with cosCarrier\n",
    "    myGabor_imaginary = gaussianEnv*sinCarrier  # TODO: modulate gaussianEnv with sinCarrier\n",
    "\n",
    "    # Pack myGabor_real and myGabor_imaginary into myGabor.\n",
    "    h, w = myGabor_real.shape\n",
    "    myGabor = np.zeros((h, w, 2))\n",
    "    myGabor[:,:,0] = myGabor_real\n",
    "    myGabor[:,:,1] = myGabor_imaginary\n",
    "\n",
    "    # Uncomment below lines from \"fig = plt.figure()\" to see how are the gabor filters\n",
    "    # figure\n",
    "    # subplot(121), imshow(myGabor_real,[])\n",
    "    # subplot(122), imshow(myGabor_imaginary, [])\n",
    "\n",
    "    fig = plt.figure()\n",
    "    ax = fig.add_subplot(1, 2, 1)\n",
    "    ax.imshow(myGabor_real, cmap='gray')    # Real\n",
    "    ax.axis(\"off\")\n",
    "    ax = fig.add_subplot(1, 2, 2)\n",
    "    ax.imshow(myGabor_imaginary, cmap='gray')    # Real\n",
    "    ax.axis(\"off\")\n",
    "\n",
    "    return myGabor\n",
    "\n",
    "print('Change in orientation of bandwidth strips by adjusting the angle of rotation theta.')\n",
    "createGabor(5, 0, 2, 0, 1)\n",
    "createGabor(5, np.pi/2, 2, 0, 1)\n",
    "print('Change in size by adjusting the standard deviation sigma of the Gaussian Envelope.')\n",
    "createGabor(1, 0, 2, 0, 1)\n",
    "createGabor(5, 0, 2, 0, 1)\n",
    "print('Change in ellipticity of the Gaussian Envelope by adjusting Gamma.')\n",
    "createGabor(5, 0, 2, 0, 1)\n",
    "createGabor(5, 0, 2, 0, 3)\n",
    "print('----')"
   ]
  },
  {
   "cell_type": "markdown",
   "metadata": {
    "id": "38iQckSqkLjC"
   },
   "source": [
    "#### Question (5pts)\n",
    "Visualize how the parameters $\\theta$, $\\sigma$ and $\\gamma$ affect the filter in spatial domain. "
   ]
  },
  {
   "cell_type": "markdown",
   "metadata": {
    "id": "Iv13duslkHKe"
   },
   "source": [
    "$\\theta$: $\\theta$ is responsible for the orientation of the stripes. Inputting 0 radians gives the stripes a vertical direction. However $\\frac{\\pi}{2}$ results in the bandwidth stripes having an orientation of an angle with 90 degrees.\n",
    "\n",
    "$\\sigma$: $\\sigma$ changes the size of the overall filter. A higher standard deviation leads to bigger-sized kernel. \n",
    "\n",
    "$\\gamma$: As mentioned in the answer before, $\\gamma$ controls the height of the bandwidth. Not only that, by changing the aspect ratio controlled by $\\gamma$ (especially increasing from 1) it can clearly be seen how the bandwith slowly changes from a circle into an ellipse."
   ]
  },
  {
   "cell_type": "markdown",
   "metadata": {
    "id": "E41QZ9ZsO6vf"
   },
   "source": [
    "# 4 Applications in image processing "
   ]
  },
  {
   "cell_type": "markdown",
   "metadata": {
    "id": "xXyH4WNDJtSK"
   },
   "source": [
    "## 4.1 Noise in digital images"
   ]
  },
  {
   "cell_type": "markdown",
   "metadata": {
    "id": "m0vlajJhKojZ"
   },
   "source": [
    "The quality of digital images can be affected in different ways. For example, the\n",
    "acquisition process can be very noisy and with a low-resolution (e.g. some medical\n",
    "imaging modalities only generate a 128x128 image). Noise can also come from the\n",
    "user who set wrong parameters on the digital camera. Consequently, different computer vision algorithms are required to enhance noisy or corrupted images. With the\n",
    "growing amount of photos taken every day, image enhancement has then become a\n",
    "very active area of research.\n",
    "\n",
    "In this section, we only focus on simple algorithms to correct noise coming typically from the sensor of your camera. Many other types of noise or corruption can happen but are out of the scope of this assignment."
   ]
  },
  {
   "cell_type": "markdown",
   "metadata": {
    "id": "1gZn2TPQKtA8"
   },
   "source": [
    "### 4.1.1 Salt-and-pepper noise"
   ]
  },
  {
   "cell_type": "markdown",
   "metadata": {
    "id": "b_vRqsMUK3XV"
   },
   "source": [
    "Noise can also occur with over-exposition causing a ”hot” pixel or with a defective\n",
    "sensor causing a ”dead” pixel. This is called salt-and-pepper noise. Pixels in the\n",
    "image are randomly replaced by either a white or black pixel."
   ]
  },
  {
   "cell_type": "markdown",
   "metadata": {
    "id": "CcgoNmEWK7Zk"
   },
   "source": [
    "### 4.1.2 Additive Gaussian noise"
   ]
  },
  {
   "cell_type": "markdown",
   "metadata": {
    "id": "9sQFRLM8LA2e"
   },
   "source": [
    "Noise also occurs frequently when the camera heats up. This is called thermal noise\n",
    "and this can be modeled as an additive Gaussian noise. Every pixel in the image\n",
    "has a noise component that corresponds to a random value chosen independently\n",
    "from the same Gaussian probability distribution. The Gaussian distribution has a\n",
    "mean of 0 and its standard deviation corresponds to a parameter.\n",
    "\n",
    "\\begin{equation}\n",
    "\\begin{array}{rl}\n",
    "\\mathbf{I}^{\\prime}(x) = \\mathbf{I}(x) + \\epsilon \\text{, where } \\epsilon \\sim  \\mathcal{N}(0, \\sigma^2)\n",
    "\\end{array}\n",
    "\\end{equation}\n",
    "\n",
    "where $\\mathbf{I}^{\\prime}$ is the noisy image and $\\mathbf{I}$ is the original image without any noise $\\epsilon$."
   ]
  },
  {
   "cell_type": "markdown",
   "metadata": {
    "id": "a8rYWOruVbNB"
   },
   "source": [
    "## 4.2 Image denoising"
   ]
  },
  {
   "cell_type": "markdown",
   "metadata": {
    "id": "g4WNOpLWVlnA"
   },
   "source": [
    "### 4.2.1 Quantitative evaluation"
   ]
  },
  {
   "cell_type": "markdown",
   "metadata": {
    "id": "RI5c7v3zVsbD"
   },
   "source": [
    "The peak signal-to-noise ratio (PSNR) is a commonly used metric to quantitatively evaluate the performance of image enhancement algorithms. It is derived from the mean squared error (MSE):\n",
    "\n",
    "\\begin{equation}\n",
    "\\begin{array}{rl}\n",
    "MSE = \\frac{1}{m \\cdot n}\\sum\\limits_{x,y}\\Big[\\mathbf{I}(x,y) - \\mathbf{\\hat{I}}(x,y)\\Big]^2\n",
    "\\end{array}\n",
    "\\end{equation}\n",
    "where $\\mathbf{I}$ is the original image of size $m\\times n$ and $\\mathbf{\\hat{I}}$ its approximation (i.e. in our case an enhanced corrupted image). The PSNR corresponds to:\n",
    "\n",
    "\\begin{equation}\n",
    "\\begin{split}\n",
    "PSNR & = 10 \\cdot \\log_{10} \\Big(\\frac{\\mathbf{I}_{max}^2}{MSE}\\Big) \\\\\n",
    " & = 20 \\cdot \\log_{10} \\Big(\\frac{\\mathbf{I}_{max}}{\\sqrt{MSE}}\\Big) \\\\\n",
    " & = 20 \\cdot \\log_{10} \\Big(\\frac{\\mathbf{I}_{max}}{RMSE}\\Big)\n",
    "\\end{split}\n",
    "\\end{equation}\n",
    "where $\\mathbf{I}_{max}$ is the maximum pixel value of $\\mathbf{I}$ and RMSE is the root of the MSE.\n",
    "\n"
   ]
  },
  {
   "cell_type": "markdown",
   "metadata": {
    "id": "Vw8ev7NXYpKj"
   },
   "source": [
    "### 4.2.1.0 Implementing myPSNR\n",
    "\n",
    "In the following section a function is implemented for calculating the PSNR using the above definitions, given an original image and enhanced corrupted image. "
   ]
  },
  {
   "cell_type": "code",
   "execution_count": 105,
   "metadata": {
    "id": "AzrSRfzrZVhd"
   },
   "outputs": [],
   "source": [
    "def myPSNR(orig_image, approx_image):\n",
    "    \"\"\" Calculate the Peak Signal to Noise Ratio between an orignal image and an enhanced corruped image\n",
    "    Input:\n",
    "        orig_image: \n",
    "            The orginal image without noise\n",
    "        approx_image: \n",
    "            The artificially enhanced image with noise\n",
    "        \n",
    "    Return:\n",
    "        PSNR: \n",
    "            The peak signal to noise ratio\n",
    "    \"\"\"\n",
    "    \n",
    "    MSE = np.mean((orig_image-approx_image) ** 2)\n",
    "    PSNR = 20*np.log10(orig_image.max()/np.sqrt(MSE))\n",
    "    \n",
    "    return PSNR"
   ]
  },
  {
   "cell_type": "markdown",
   "metadata": {
    "id": "wPB_GO6QbMzH"
   },
   "source": [
    "## 4.2.1.1 Peak-Signal-to-Noise-Raio\n",
    "\n",
    "The peak-signal-to-noise-ratio yields an expression of the relationship between the maximum value of a signal and a measure of the intensity of the noise distorting the signal. In image processing the PSNR becomes an empirical measure of the effects of various image enhancements algorithms. That is, by taking the ratio between the maximum value of a pixel, and compering it to the MSE calculated between an original image pixel and an artificially enhanced photo. The MSE is an expression of the noise in the signal, as provides a measure of average square difference of the deviation from the original per pixel, in a cumulative manner.\n",
    "\n",
    "When comparing different enhancement methods with the PSNR metric generally a higher value is better, as it would indicate that the peak signal value is large compared to the noise in the image. A low PSNR value would indicate that the difference between the original and the processed image is small compared to the signal strength, which would indicate that less noise is removed by the process. "
   ]
  },
  {
   "cell_type": "markdown",
   "metadata": {
    "id": "5rUxvvozbQSf"
   },
   "source": [
    "## 4.2.1.2 PSNR with salt and pepper noise\n",
    "\n",
    "In the following we estimate the PSNR of an image and a variation of the image containing salt and pepper noise, we find that the PSNR value between the two images is 15.46."
   ]
  },
  {
   "cell_type": "code",
   "execution_count": 106,
   "metadata": {},
   "outputs": [
    {
     "name": "stdout",
     "output_type": "stream",
     "text": [
      "My peak signal to salt and pepper noise ratio for image1 is:  nan\n"
     ]
    }
   ],
   "source": [
    "# Estimating the psnr between original and salt & pepper noise image\n",
    "img_original = cv2.imread('sample_data/sample_data/image1.jpg')\n",
    "img_arr = np.float32(img_original)\n",
    "img_sp = cv2.imread('sample_data/sample_data/image1_saltpepper.jpg')\n",
    "img_sp_arr = np.float32(img_sp)\n",
    "\n",
    "print('My peak signal to salt and pepper noise ratio for image1 is: ', np.round(myPSNR(img_arr, img_sp_arr), 2))"
   ]
  },
  {
   "cell_type": "markdown",
   "metadata": {},
   "source": [
    "### 4.2.1.3 PSNR with gaussian noise\n",
    "\n",
    "In the following we estimate the PSNR of an image and a variation of the image containing gaussian noise, we find that the PSNR value between the two images is 15.46."
   ]
  },
  {
   "cell_type": "code",
   "execution_count": 92,
   "metadata": {},
   "outputs": [
    {
     "name": "stdout",
     "output_type": "stream",
     "text": [
      "My peak signal to gaussian noise ratio for image1 is:  nan\n"
     ]
    }
   ],
   "source": [
    "# Estimating the psnr between original and gaussian noise image\n",
    "img_g = cv2.imread('sample_data/sample_data/image1_gaussian.jpg')\n",
    "img_g_arr = np.float32(img_g)\n",
    "\n",
    "print('My peak signal to gaussian noise ratio for image1 is: ', np.round(myPSNR(img_arr, img_g_arr), 2))"
   ]
  },
  {
   "cell_type": "markdown",
   "metadata": {
    "id": "7-pj7HA9aqAq"
   },
   "source": [
    "## 4.2.2 Neighborhood processing for image denoising"
   ]
  },
  {
   "cell_type": "markdown",
   "metadata": {
    "id": "1lpNUDhxayLY"
   },
   "source": [
    "We us the following functions to denoise the image:\n",
    "\n",
    "1. *box filtering*: You can use **cv2.blur** function.\n",
    "2. *median filtering*: You can use **cv2.medianBlur** function.\n",
    "3. *Gaussian filtering*: You must use your **cv2.GaussianBlur** function.\n",
    "\n",
    "### 4.2.2.0 Implementing the denoise function\n"
   ]
  },
  {
   "cell_type": "code",
   "execution_count": 109,
   "metadata": {
    "id": "ASH65zVMdCsq"
   },
   "outputs": [],
   "source": [
    "def denoise(image, kernel_type, kernel_size = None, sigmaX = 0):\n",
    "    if kernel_type == 'box':\n",
    "        imOut = cv2.blur(image, (kernel_size, kernel_size))\n",
    "    elif kernel_type == 'median':\n",
    "        imOut = cv2.medianBlur(image, kernel_size)\n",
    "    elif kernel_type == 'gaussian':\n",
    "        imOut = cv2.GaussianBlur(image, (kernel_size, kernel_size), sigmaX)\n",
    "    else:\n",
    "        print('Operation Not implemented')\n",
    "    return imOut\n",
    "\n"
   ]
  },
  {
   "cell_type": "markdown",
   "metadata": {
    "id": "isKllbE-d1id"
   },
   "source": [
    "### 4.2.2.1\n",
    "\n",
    "We denoise the images image1_saltpepper.jpg and image1_gaussian.jpg with the function denoise by applying the following filters\n",
    "\n",
    "      (a) Box filtering of size: 3x3, 5x5, and 7x7.\n",
    "\n",
    "      (b) Median filtering with size: 3x3, 5x5 and 7x7.\n",
    "\n",
    "    \n"
   ]
  },
  {
   "cell_type": "code",
   "execution_count": 110,
   "metadata": {
    "scrolled": false
   },
   "outputs": [
    {
     "ename": "TypeError",
     "evalue": "Image data of dtype object cannot be converted to float",
     "output_type": "error",
     "traceback": [
      "\u001b[1;31m---------------------------------------------------------------------------\u001b[0m",
      "\u001b[1;31mTypeError\u001b[0m                                 Traceback (most recent call last)",
      "\u001b[1;32m<ipython-input-110-ef96c01613b1>\u001b[0m in \u001b[0;36m<module>\u001b[1;34m\u001b[0m\n\u001b[0;32m     20\u001b[0m \u001b[0mfig\u001b[0m\u001b[1;33m,\u001b[0m \u001b[0maxis\u001b[0m \u001b[1;33m=\u001b[0m \u001b[0mplt\u001b[0m\u001b[1;33m.\u001b[0m\u001b[0msubplots\u001b[0m\u001b[1;33m(\u001b[0m\u001b[1;36m1\u001b[0m\u001b[1;33m,\u001b[0m \u001b[1;36m2\u001b[0m\u001b[1;33m,\u001b[0m \u001b[0mfigsize\u001b[0m \u001b[1;33m=\u001b[0m \u001b[1;33m(\u001b[0m\u001b[1;36m15\u001b[0m\u001b[1;33m,\u001b[0m\u001b[1;36m15\u001b[0m\u001b[1;33m)\u001b[0m\u001b[1;33m)\u001b[0m\u001b[1;33m\u001b[0m\u001b[1;33m\u001b[0m\u001b[0m\n\u001b[0;32m     21\u001b[0m \u001b[0maxis\u001b[0m\u001b[1;33m[\u001b[0m\u001b[1;36m0\u001b[0m\u001b[1;33m]\u001b[0m\u001b[1;33m.\u001b[0m\u001b[0mset_title\u001b[0m\u001b[1;33m(\u001b[0m\u001b[1;34m'Salt and pepper noise'\u001b[0m\u001b[1;33m)\u001b[0m\u001b[1;33m\u001b[0m\u001b[1;33m\u001b[0m\u001b[0m\n\u001b[1;32m---> 22\u001b[1;33m \u001b[0maxis\u001b[0m\u001b[1;33m[\u001b[0m\u001b[1;36m0\u001b[0m\u001b[1;33m]\u001b[0m\u001b[1;33m.\u001b[0m\u001b[0mimshow\u001b[0m\u001b[1;33m(\u001b[0m\u001b[0mimg_sp\u001b[0m\u001b[1;33m)\u001b[0m\u001b[1;33m\u001b[0m\u001b[1;33m\u001b[0m\u001b[0m\n\u001b[0m\u001b[0;32m     23\u001b[0m \u001b[0maxis\u001b[0m\u001b[1;33m[\u001b[0m\u001b[1;36m1\u001b[0m\u001b[1;33m]\u001b[0m\u001b[1;33m.\u001b[0m\u001b[0mset_title\u001b[0m\u001b[1;33m(\u001b[0m\u001b[1;34m'Gaussian noise'\u001b[0m\u001b[1;33m)\u001b[0m\u001b[1;33m\u001b[0m\u001b[1;33m\u001b[0m\u001b[0m\n\u001b[0;32m     24\u001b[0m \u001b[0maxis\u001b[0m\u001b[1;33m[\u001b[0m\u001b[1;36m1\u001b[0m\u001b[1;33m]\u001b[0m\u001b[1;33m.\u001b[0m\u001b[0mimshow\u001b[0m\u001b[1;33m(\u001b[0m\u001b[0mimg_g\u001b[0m\u001b[1;33m)\u001b[0m\u001b[1;33m\u001b[0m\u001b[1;33m\u001b[0m\u001b[0m\n",
      "\u001b[1;32m~\\ansel\\anaconda\\lib\\site-packages\\matplotlib\\__init__.py\u001b[0m in \u001b[0;36minner\u001b[1;34m(ax, data, *args, **kwargs)\u001b[0m\n\u001b[0;32m   1445\u001b[0m     \u001b[1;32mdef\u001b[0m \u001b[0minner\u001b[0m\u001b[1;33m(\u001b[0m\u001b[0max\u001b[0m\u001b[1;33m,\u001b[0m \u001b[1;33m*\u001b[0m\u001b[0margs\u001b[0m\u001b[1;33m,\u001b[0m \u001b[0mdata\u001b[0m\u001b[1;33m=\u001b[0m\u001b[1;32mNone\u001b[0m\u001b[1;33m,\u001b[0m \u001b[1;33m**\u001b[0m\u001b[0mkwargs\u001b[0m\u001b[1;33m)\u001b[0m\u001b[1;33m:\u001b[0m\u001b[1;33m\u001b[0m\u001b[1;33m\u001b[0m\u001b[0m\n\u001b[0;32m   1446\u001b[0m         \u001b[1;32mif\u001b[0m \u001b[0mdata\u001b[0m \u001b[1;32mis\u001b[0m \u001b[1;32mNone\u001b[0m\u001b[1;33m:\u001b[0m\u001b[1;33m\u001b[0m\u001b[1;33m\u001b[0m\u001b[0m\n\u001b[1;32m-> 1447\u001b[1;33m             \u001b[1;32mreturn\u001b[0m \u001b[0mfunc\u001b[0m\u001b[1;33m(\u001b[0m\u001b[0max\u001b[0m\u001b[1;33m,\u001b[0m \u001b[1;33m*\u001b[0m\u001b[0mmap\u001b[0m\u001b[1;33m(\u001b[0m\u001b[0msanitize_sequence\u001b[0m\u001b[1;33m,\u001b[0m \u001b[0margs\u001b[0m\u001b[1;33m)\u001b[0m\u001b[1;33m,\u001b[0m \u001b[1;33m**\u001b[0m\u001b[0mkwargs\u001b[0m\u001b[1;33m)\u001b[0m\u001b[1;33m\u001b[0m\u001b[1;33m\u001b[0m\u001b[0m\n\u001b[0m\u001b[0;32m   1448\u001b[0m \u001b[1;33m\u001b[0m\u001b[0m\n\u001b[0;32m   1449\u001b[0m         \u001b[0mbound\u001b[0m \u001b[1;33m=\u001b[0m \u001b[0mnew_sig\u001b[0m\u001b[1;33m.\u001b[0m\u001b[0mbind\u001b[0m\u001b[1;33m(\u001b[0m\u001b[0max\u001b[0m\u001b[1;33m,\u001b[0m \u001b[1;33m*\u001b[0m\u001b[0margs\u001b[0m\u001b[1;33m,\u001b[0m \u001b[1;33m**\u001b[0m\u001b[0mkwargs\u001b[0m\u001b[1;33m)\u001b[0m\u001b[1;33m\u001b[0m\u001b[1;33m\u001b[0m\u001b[0m\n",
      "\u001b[1;32m~\\ansel\\anaconda\\lib\\site-packages\\matplotlib\\axes\\_axes.py\u001b[0m in \u001b[0;36mimshow\u001b[1;34m(self, X, cmap, norm, aspect, interpolation, alpha, vmin, vmax, origin, extent, filternorm, filterrad, resample, url, **kwargs)\u001b[0m\n\u001b[0;32m   5521\u001b[0m                               resample=resample, **kwargs)\n\u001b[0;32m   5522\u001b[0m \u001b[1;33m\u001b[0m\u001b[0m\n\u001b[1;32m-> 5523\u001b[1;33m         \u001b[0mim\u001b[0m\u001b[1;33m.\u001b[0m\u001b[0mset_data\u001b[0m\u001b[1;33m(\u001b[0m\u001b[0mX\u001b[0m\u001b[1;33m)\u001b[0m\u001b[1;33m\u001b[0m\u001b[1;33m\u001b[0m\u001b[0m\n\u001b[0m\u001b[0;32m   5524\u001b[0m         \u001b[0mim\u001b[0m\u001b[1;33m.\u001b[0m\u001b[0mset_alpha\u001b[0m\u001b[1;33m(\u001b[0m\u001b[0malpha\u001b[0m\u001b[1;33m)\u001b[0m\u001b[1;33m\u001b[0m\u001b[1;33m\u001b[0m\u001b[0m\n\u001b[0;32m   5525\u001b[0m         \u001b[1;32mif\u001b[0m \u001b[0mim\u001b[0m\u001b[1;33m.\u001b[0m\u001b[0mget_clip_path\u001b[0m\u001b[1;33m(\u001b[0m\u001b[1;33m)\u001b[0m \u001b[1;32mis\u001b[0m \u001b[1;32mNone\u001b[0m\u001b[1;33m:\u001b[0m\u001b[1;33m\u001b[0m\u001b[1;33m\u001b[0m\u001b[0m\n",
      "\u001b[1;32m~\\ansel\\anaconda\\lib\\site-packages\\matplotlib\\image.py\u001b[0m in \u001b[0;36mset_data\u001b[1;34m(self, A)\u001b[0m\n\u001b[0;32m    700\u001b[0m         if (self._A.dtype != np.uint8 and\n\u001b[0;32m    701\u001b[0m                 not np.can_cast(self._A.dtype, float, \"same_kind\")):\n\u001b[1;32m--> 702\u001b[1;33m             raise TypeError(\"Image data of dtype {} cannot be converted to \"\n\u001b[0m\u001b[0;32m    703\u001b[0m                             \"float\".format(self._A.dtype))\n\u001b[0;32m    704\u001b[0m \u001b[1;33m\u001b[0m\u001b[0m\n",
      "\u001b[1;31mTypeError\u001b[0m: Image data of dtype object cannot be converted to float"
     ]
    },
    {
     "data": {
      "text/plain": [
       "<Figure size 216x504 with 0 Axes>"
      ]
     },
     "metadata": {},
     "output_type": "display_data"
    },
    {
     "data": {
      "image/png": "[encoded data removed]",
      "text/plain": [
       "<Figure size 1080x1080 with 2 Axes>"
      ]
     },
     "metadata": {
      "needs_background": "light"
     },
     "output_type": "display_data"
    }
   ],
   "source": [
    "filtersize = np.array([3,5,7])\n",
    "titles = np.array(['Original', 'Noise', 'Denoise'])\n",
    "\n",
    "\n",
    "def plot_subfig(img, title_, kernel, kernel_size = None, sigma_X = None):\n",
    "    fig, axis = plt.subplots(1, 3, figsize = (15,15))\n",
    "    for i in range(3):\n",
    "        im = denoise(img, kernel, kernel_size[i], sigma_X)\n",
    "        axis[i].imshow(im[:,:,::-1])\n",
    "        axis[i].set_title(' Kernelsize ' + str(kernel_size[i]))\n",
    "        if i == 0:\n",
    "            axis[i].text(0, -60, title_, bbox={'facecolor': 'white', 'pad': 10})\n",
    "    plt.legend()\n",
    "    fig.tight_layout()\n",
    "    #fig.suptitle(title)\n",
    "    fig.show()\n",
    "\n",
    "\n",
    "plt.figure(figsize = (3,7))\n",
    "fig, axis = plt.subplots(1, 2, figsize = (15,15))\n",
    "axis[0].set_title('Salt and pepper noise')\n",
    "axis[0].imshow(img_sp)\n",
    "axis[1].set_title('Gaussian noise')\n",
    "axis[1].imshow(img_g)\n",
    "plt.show()\n",
    "\n",
    "# Problem A using box filter\n",
    "plot_subfig(img_sp, 'Denoise on Salt & Pepper using a box kernel', 'box', filtersize)\n",
    "plot_subfig(img_g, 'Denoise on Gaussian noise using a box kernel', 'box', filtersize)\n",
    "\n",
    "# Problem B using median filter\n",
    "plot_subfig(img_sp, 'Denoise on Salt & Pepper using a median kernel', 'median', filtersize)\n",
    "plot_subfig(img_g, 'Denoise on Gaussian noise using a median kernel', 'median', filtersize)"
   ]
  },
  {
   "cell_type": "markdown",
   "metadata": {
    "id": "Ih0Xb1WZcaAs"
   },
   "source": [
    "### 4.2.2.2 Estimating PSNR as a function of filter size\n",
    "We present the quantitative results of estimating the PSNR with the function **myPSNR** for all kernels listed in section 4.2.2.1 and present them in table [1]"
   ]
  },
  {
   "cell_type": "code",
   "execution_count": 111,
   "metadata": {
    "scrolled": false
   },
   "outputs": [
    {
     "ename": "error",
     "evalue": "OpenCV(4.5.4-dev) D:\\a\\opencv-python\\opencv-python\\opencv\\modules\\imgproc\\src\\box_filter.dispatch.cpp:446: error: (-215:Assertion failed) !_src.empty() in function 'cv::boxFilter'\n",
     "output_type": "error",
     "traceback": [
      "\u001b[1;31m---------------------------------------------------------------------------\u001b[0m",
      "\u001b[1;31merror\u001b[0m                                     Traceback (most recent call last)",
      "\u001b[1;32m<ipython-input-111-2a31ac4c5662>\u001b[0m in \u001b[0;36m<module>\u001b[1;34m\u001b[0m\n\u001b[0;32m      6\u001b[0m \u001b[1;32mfor\u001b[0m \u001b[0mi\u001b[0m \u001b[1;32min\u001b[0m \u001b[0mkerneltype\u001b[0m\u001b[1;33m:\u001b[0m\u001b[1;33m\u001b[0m\u001b[1;33m\u001b[0m\u001b[0m\n\u001b[0;32m      7\u001b[0m     \u001b[1;32mfor\u001b[0m \u001b[0mj\u001b[0m \u001b[1;32min\u001b[0m \u001b[0mfiltersize\u001b[0m\u001b[1;33m:\u001b[0m\u001b[1;33m\u001b[0m\u001b[1;33m\u001b[0m\u001b[0m\n\u001b[1;32m----> 8\u001b[1;33m         \u001b[0mim_kernel\u001b[0m \u001b[1;33m=\u001b[0m \u001b[0mdenoise\u001b[0m\u001b[1;33m(\u001b[0m\u001b[0mimg_sp\u001b[0m\u001b[1;33m,\u001b[0m \u001b[0mi\u001b[0m\u001b[1;33m,\u001b[0m \u001b[0mj\u001b[0m\u001b[1;33m)\u001b[0m\u001b[1;33m\u001b[0m\u001b[1;33m\u001b[0m\u001b[0m\n\u001b[0m\u001b[0;32m      9\u001b[0m         \u001b[0mPSNR_values\u001b[0m\u001b[1;33m.\u001b[0m\u001b[0mappend\u001b[0m\u001b[1;33m(\u001b[0m\u001b[0mnp\u001b[0m\u001b[1;33m.\u001b[0m\u001b[0mround\u001b[0m\u001b[1;33m(\u001b[0m\u001b[0mmyPSNR\u001b[0m\u001b[1;33m(\u001b[0m\u001b[0mimg_arr\u001b[0m\u001b[1;33m,\u001b[0m \u001b[0mim_kernel\u001b[0m\u001b[1;33m)\u001b[0m\u001b[1;33m,\u001b[0m\u001b[1;36m2\u001b[0m\u001b[1;33m)\u001b[0m\u001b[1;33m)\u001b[0m\u001b[1;33m;\u001b[0m \u001b[0mkerneltypes\u001b[0m\u001b[1;33m.\u001b[0m\u001b[0mappend\u001b[0m\u001b[1;33m(\u001b[0m\u001b[0mi\u001b[0m\u001b[1;33m)\u001b[0m\u001b[1;33m;\u001b[0m \u001b[0msize\u001b[0m\u001b[1;33m.\u001b[0m\u001b[0mappend\u001b[0m\u001b[1;33m(\u001b[0m\u001b[0mj\u001b[0m\u001b[1;33m)\u001b[0m\u001b[1;33m;\u001b[0m \u001b[0msourceimage\u001b[0m\u001b[1;33m.\u001b[0m\u001b[0mappend\u001b[0m\u001b[1;33m(\u001b[0m\u001b[1;34m'salt and pepper'\u001b[0m\u001b[1;33m)\u001b[0m\u001b[1;33m;\u001b[0m\u001b[1;33m\u001b[0m\u001b[1;33m\u001b[0m\u001b[0m\n\u001b[0;32m     10\u001b[0m         \u001b[0mim_kernel\u001b[0m \u001b[1;33m=\u001b[0m \u001b[0mdenoise\u001b[0m\u001b[1;33m(\u001b[0m\u001b[0mimg_g\u001b[0m\u001b[1;33m,\u001b[0m \u001b[0mi\u001b[0m\u001b[1;33m,\u001b[0m \u001b[0mj\u001b[0m\u001b[1;33m)\u001b[0m\u001b[1;33m\u001b[0m\u001b[1;33m\u001b[0m\u001b[0m\n",
      "\u001b[1;32m<ipython-input-109-9c2bbfc4e151>\u001b[0m in \u001b[0;36mdenoise\u001b[1;34m(image, kernel_type, kernel_size, sigmaX)\u001b[0m\n\u001b[0;32m      1\u001b[0m \u001b[1;32mdef\u001b[0m \u001b[0mdenoise\u001b[0m\u001b[1;33m(\u001b[0m\u001b[0mimage\u001b[0m\u001b[1;33m,\u001b[0m \u001b[0mkernel_type\u001b[0m\u001b[1;33m,\u001b[0m \u001b[0mkernel_size\u001b[0m \u001b[1;33m=\u001b[0m \u001b[1;32mNone\u001b[0m\u001b[1;33m,\u001b[0m \u001b[0msigmaX\u001b[0m \u001b[1;33m=\u001b[0m \u001b[1;36m0\u001b[0m\u001b[1;33m)\u001b[0m\u001b[1;33m:\u001b[0m\u001b[1;33m\u001b[0m\u001b[1;33m\u001b[0m\u001b[0m\n\u001b[0;32m      2\u001b[0m     \u001b[1;32mif\u001b[0m \u001b[0mkernel_type\u001b[0m \u001b[1;33m==\u001b[0m \u001b[1;34m'box'\u001b[0m\u001b[1;33m:\u001b[0m\u001b[1;33m\u001b[0m\u001b[1;33m\u001b[0m\u001b[0m\n\u001b[1;32m----> 3\u001b[1;33m         \u001b[0mimOut\u001b[0m \u001b[1;33m=\u001b[0m \u001b[0mcv2\u001b[0m\u001b[1;33m.\u001b[0m\u001b[0mblur\u001b[0m\u001b[1;33m(\u001b[0m\u001b[0mimage\u001b[0m\u001b[1;33m,\u001b[0m \u001b[1;33m(\u001b[0m\u001b[0mkernel_size\u001b[0m\u001b[1;33m,\u001b[0m \u001b[0mkernel_size\u001b[0m\u001b[1;33m)\u001b[0m\u001b[1;33m)\u001b[0m\u001b[1;33m\u001b[0m\u001b[1;33m\u001b[0m\u001b[0m\n\u001b[0m\u001b[0;32m      4\u001b[0m     \u001b[1;32melif\u001b[0m \u001b[0mkernel_type\u001b[0m \u001b[1;33m==\u001b[0m \u001b[1;34m'median'\u001b[0m\u001b[1;33m:\u001b[0m\u001b[1;33m\u001b[0m\u001b[1;33m\u001b[0m\u001b[0m\n\u001b[0;32m      5\u001b[0m         \u001b[0mimOut\u001b[0m \u001b[1;33m=\u001b[0m \u001b[0mcv2\u001b[0m\u001b[1;33m.\u001b[0m\u001b[0mmedianBlur\u001b[0m\u001b[1;33m(\u001b[0m\u001b[0mimage\u001b[0m\u001b[1;33m,\u001b[0m \u001b[0mkernel_size\u001b[0m\u001b[1;33m)\u001b[0m\u001b[1;33m\u001b[0m\u001b[1;33m\u001b[0m\u001b[0m\n",
      "\u001b[1;31merror\u001b[0m: OpenCV(4.5.4-dev) D:\\a\\opencv-python\\opencv-python\\opencv\\modules\\imgproc\\src\\box_filter.dispatch.cpp:446: error: (-215:Assertion failed) !_src.empty() in function 'cv::boxFilter'\n"
     ]
    }
   ],
   "source": [
    "kerneltype = ['box', 'median']\n",
    "\n",
    "PSNR_values, kerneltypes, sourceimage, size = [], [], [], []\n",
    "\n",
    "\n",
    "for i in kerneltype:\n",
    "    for j in filtersize:\n",
    "        im_kernel = denoise(img_sp, i, j)\n",
    "        PSNR_values.append(np.round(myPSNR(img_arr, im_kernel),2)); kerneltypes.append(i); size.append(j); sourceimage.append('salt and pepper');\n",
    "        im_kernel = denoise(img_g, i, j)\n",
    "        PSNR_values.append(np.round(myPSNR(img_arr, im_kernel),2)); kerneltypes.append(i); size.append(j); sourceimage.append('Gaussian');\n",
    "        \n",
    "\n",
    "    \n",
    "print('-----------------------------------------------------------')\n",
    "print('Table 1: PSNR values for different kernel types and kernel sizes')\n",
    "print('-----------------------------------------------------------')\n",
    "print (\"{:<13} {:<20} {:<10} {:<10}\".format('Kernel type',' Source image',' size',' PSNR Value'))\n",
    "print('-----------------------------------------------------------')\n",
    "for i in range(12):\n",
    "    print (\"{:<14} {:<20} {:<10} {:<10}\".format(kerneltypes[i], sourceimage[i], size[i], PSNR_values[i]))\n",
    "    \n",
    "print('-----------------------------------------------------------')\n",
    "\n",
    "\n",
    "\n",
    "maxindex = 7\n",
    "maxindex2 = 6\n",
    "print('The process yielding the highest PSNR (' + str(PSNR_values[maxindex])+ ') value for the ' + sourceimage[maxindex] + ' image is the '+ kerneltypes[maxindex] + ' filter with size ' + str(size[maxindex]) + '.')\n",
    "print('The process yielding the highest PSNR (' + str(PSNR_values[maxindex2])+ ') value for the ' + sourceimage[maxindex2] + ' image is the '+ kerneltypes[maxindex2] + ' filter with size ' + str(size[maxindex2]) + '.')"
   ]
  },
  {
   "cell_type": "markdown",
   "metadata": {},
   "source": [
    "**The effect of the filter size on the PSNR**\n",
    "\n",
    "We observe that for the trends for both the salt an pepper noise and the Gaussian noise are the same, and that the PSNR values using the median filters are higher than those of the box filters. For the box filters we see that the highest PSNR value is actually the middle sized 5x5 filter. The performance of the filters relative to their size would be dependent on the complexity of the image under evaluation. In general, one can expect that when using larger filters on more detailed images the effect of averaging over the selected neighborhood produces a less accurate result, in terms of similarity to the original image. That is, more uncorrelated features are combined to estimate the value of the pixel. However, a too small filter runs the risk of allowing for instance a salt noise in the image to be given a larger significance, as its relative weight matters more the smaller the filter is. As such, the filter size relative to the type of image becomes important, and the 5x5 filter appears to yield the highest result in terms of our case study above. \n",
    "\n",
    "The median filters will be less prone to the contribution of outliers, as it discards all extreme values. As we can observe above, the smallest 3x3 filter size performs the best in our case. The performance decreases for both noise types as the filter size increases. This can be understood by considering that the probability that the majority of the pixels within the set of the 9 pixels are representative for the environment is quite large. As such we can expect the 3x3 median filtering to perform quite well. When the filter size increases however, more features are captured and the probability that we are selecting a representative median value for the pixel under consideration decreases. A more detailed description between the filter types follows in the section below."
   ]
  },
  {
   "cell_type": "markdown",
   "metadata": {
    "id": "UF2XuuyKcbcB"
   },
   "source": [
    "### 4.2.2.3 Median versus Box filters\n"
   ]
  },
  {
   "cell_type": "markdown",
   "metadata": {
    "id": "kXmdRw3Tcjct"
   },
   "source": [
    "For the salt-and-pepper noise we observe that the median filter performs better than the box filter for all evaluated kernel sizes. That is because the pixels affected by salt-and-pepper noise takes the either the value 0 (black) or 255 (white). When we run a boxfilter we replace each value with the uniformly weighted average of its neighbors. When these extreme values of 0 and 255 is taken into account in the weighted average it contributes to artificially increase or reduce the pixel values in the neighborhood determined by the filter size. As such an artificial distortion away from the original image proportional to the neighborhoods original average value is imposed. The effect would be greater the further away the values of the neighborhood are from the current noise contribution (very light regions will be artificially darkened by the present of pepper, and very dark regions will be artificially brightened by the presence of salt). In a sense, the noise is simply smudged. When taking the median however, the outlier is effectively discarded and will not contribute to the modified pixels value. That is because the values of 255 and 0 never will appear in the middle of a numerical sorting between RGB values, unless they are all at the extremes anyhow. The median should therefore be an expression of the general color tendencies of the neighborhood. \n",
    "\n",
    "When we evaluate kernels for the Gaussian noise source images we observe as well that the median filters perform better than the box filters in terms of the PSNR. In Gaussian noise the noise does not produce an extreme value but a perturbation of the original pixel values according to a Gaussian distribution, as such one can apply the same logic as for the salt and pepper noise, with the expectation that the effects should be somewhat smaller than the extreme salt and pepper noise. In a sense the median kernel methods are more stable and effective against pixels heavily affected by noise, while box filters are more unstable in the sense that they smudge the effect of the error into the neighborhood without completely removing the noise component.\n"
   ]
  },
  {
   "cell_type": "markdown",
   "metadata": {
    "id": "KoMfg5eccdAX"
   },
   "source": [
    "\n",
    "## Denoising gaussian noise using a gaussian filter \n",
    "\n",
    "For the standard deviation we choose a range of values corresponding to a small, medium and large standard deviation. \n",
    "\n",
    "\n",
    "Even though in theory all pixels needs to be taken into account with the gaussian filter, we can save some computational costs by recognizing that in practice all pixels outside the 3$\\sigma$ range of the mean has a neglishible effect on the estimated pixel value. As such we determine the filter size by taking into account 3$\\sigma$ worth of pixels on each size, leading to an effective formula for the filter size: \n",
    "\n",
    "$$ Filtersize = 2*3*\\sigma = 6\\sigma$$\n",
    "\n",
    "We then roof to the nearest odd integer upwards in order to ensure that we capture all the necessary weights. "
   ]
  },
  {
   "cell_type": "code",
   "execution_count": 112,
   "metadata": {
    "id": "ZBF3hOk-pnAA",
    "scrolled": false
   },
   "outputs": [
    {
     "ename": "error",
     "evalue": "OpenCV(4.5.4-dev) D:\\a\\opencv-python\\opencv-python\\opencv\\modules\\imgproc\\src\\smooth.dispatch.cpp:617: error: (-215:Assertion failed) !_src.empty() in function 'cv::GaussianBlur'\n",
     "output_type": "error",
     "traceback": [
      "\u001b[1;31m---------------------------------------------------------------------------\u001b[0m",
      "\u001b[1;31merror\u001b[0m                                     Traceback (most recent call last)",
      "\u001b[1;32m<ipython-input-112-49ceac7b960c>\u001b[0m in \u001b[0;36m<module>\u001b[1;34m\u001b[0m\n\u001b[0;32m      8\u001b[0m \u001b[1;33m\u001b[0m\u001b[0m\n\u001b[0;32m      9\u001b[0m \u001b[1;32mfor\u001b[0m \u001b[0mi\u001b[0m \u001b[1;32min\u001b[0m \u001b[0mrange\u001b[0m\u001b[1;33m(\u001b[0m\u001b[0mlen\u001b[0m\u001b[1;33m(\u001b[0m\u001b[0mwindow_size\u001b[0m\u001b[1;33m)\u001b[0m\u001b[1;33m)\u001b[0m\u001b[1;33m:\u001b[0m\u001b[1;33m\u001b[0m\u001b[1;33m\u001b[0m\u001b[0m\n\u001b[1;32m---> 10\u001b[1;33m     \u001b[0mimg_g_\u001b[0m \u001b[1;33m=\u001b[0m \u001b[0mdenoise\u001b[0m\u001b[1;33m(\u001b[0m\u001b[0mimg_g\u001b[0m\u001b[1;33m,\u001b[0m \u001b[1;34m'gaussian'\u001b[0m\u001b[1;33m,\u001b[0m \u001b[0mkernel_size\u001b[0m \u001b[1;33m=\u001b[0m \u001b[0mwindow_size\u001b[0m\u001b[1;33m[\u001b[0m\u001b[0mi\u001b[0m\u001b[1;33m]\u001b[0m\u001b[1;33m,\u001b[0m \u001b[0msigmaX\u001b[0m \u001b[1;33m=\u001b[0m \u001b[0mstandard_dev\u001b[0m\u001b[1;33m[\u001b[0m\u001b[0mi\u001b[0m\u001b[1;33m]\u001b[0m\u001b[1;33m)\u001b[0m\u001b[1;33m\u001b[0m\u001b[1;33m\u001b[0m\u001b[0m\n\u001b[0m\u001b[0;32m     11\u001b[0m     \u001b[0maxis\u001b[0m\u001b[1;33m[\u001b[0m\u001b[0mi\u001b[0m\u001b[1;33m]\u001b[0m\u001b[1;33m.\u001b[0m\u001b[0mimshow\u001b[0m\u001b[1;33m(\u001b[0m\u001b[0mimg_g_\u001b[0m\u001b[1;33m)\u001b[0m\u001b[1;33m\u001b[0m\u001b[1;33m\u001b[0m\u001b[0m\n\u001b[0;32m     12\u001b[0m     \u001b[0maxis\u001b[0m\u001b[1;33m[\u001b[0m\u001b[0mi\u001b[0m\u001b[1;33m]\u001b[0m\u001b[1;33m.\u001b[0m\u001b[0mset_title\u001b[0m\u001b[1;33m(\u001b[0m\u001b[1;34m' Kernel size = '\u001b[0m \u001b[1;33m+\u001b[0m \u001b[0mstr\u001b[0m\u001b[1;33m(\u001b[0m\u001b[0mwindow_size\u001b[0m\u001b[1;33m[\u001b[0m\u001b[0mi\u001b[0m\u001b[1;33m]\u001b[0m\u001b[1;33m)\u001b[0m \u001b[1;33m+\u001b[0m \u001b[1;34m'x'\u001b[0m \u001b[1;33m+\u001b[0m \u001b[0mstr\u001b[0m\u001b[1;33m(\u001b[0m\u001b[0mwindow_size\u001b[0m\u001b[1;33m[\u001b[0m\u001b[0mi\u001b[0m\u001b[1;33m]\u001b[0m\u001b[1;33m)\u001b[0m \u001b[1;33m+\u001b[0m \u001b[1;34m', Sigma = '\u001b[0m \u001b[1;33m+\u001b[0m \u001b[0mstr\u001b[0m\u001b[1;33m(\u001b[0m\u001b[0mstandard_dev\u001b[0m\u001b[1;33m[\u001b[0m\u001b[0mi\u001b[0m\u001b[1;33m]\u001b[0m\u001b[1;33m)\u001b[0m\u001b[1;33m)\u001b[0m\u001b[1;33m\u001b[0m\u001b[1;33m\u001b[0m\u001b[0m\n",
      "\u001b[1;32m<ipython-input-109-9c2bbfc4e151>\u001b[0m in \u001b[0;36mdenoise\u001b[1;34m(image, kernel_type, kernel_size, sigmaX)\u001b[0m\n\u001b[0;32m      5\u001b[0m         \u001b[0mimOut\u001b[0m \u001b[1;33m=\u001b[0m \u001b[0mcv2\u001b[0m\u001b[1;33m.\u001b[0m\u001b[0mmedianBlur\u001b[0m\u001b[1;33m(\u001b[0m\u001b[0mimage\u001b[0m\u001b[1;33m,\u001b[0m \u001b[0mkernel_size\u001b[0m\u001b[1;33m)\u001b[0m\u001b[1;33m\u001b[0m\u001b[1;33m\u001b[0m\u001b[0m\n\u001b[0;32m      6\u001b[0m     \u001b[1;32melif\u001b[0m \u001b[0mkernel_type\u001b[0m \u001b[1;33m==\u001b[0m \u001b[1;34m'gaussian'\u001b[0m\u001b[1;33m:\u001b[0m\u001b[1;33m\u001b[0m\u001b[1;33m\u001b[0m\u001b[0m\n\u001b[1;32m----> 7\u001b[1;33m         \u001b[0mimOut\u001b[0m \u001b[1;33m=\u001b[0m \u001b[0mcv2\u001b[0m\u001b[1;33m.\u001b[0m\u001b[0mGaussianBlur\u001b[0m\u001b[1;33m(\u001b[0m\u001b[0mimage\u001b[0m\u001b[1;33m,\u001b[0m \u001b[1;33m(\u001b[0m\u001b[0mkernel_size\u001b[0m\u001b[1;33m,\u001b[0m \u001b[0mkernel_size\u001b[0m\u001b[1;33m)\u001b[0m\u001b[1;33m,\u001b[0m \u001b[0msigmaX\u001b[0m\u001b[1;33m)\u001b[0m\u001b[1;33m\u001b[0m\u001b[1;33m\u001b[0m\u001b[0m\n\u001b[0m\u001b[0;32m      8\u001b[0m     \u001b[1;32melse\u001b[0m\u001b[1;33m:\u001b[0m\u001b[1;33m\u001b[0m\u001b[1;33m\u001b[0m\u001b[0m\n\u001b[0;32m      9\u001b[0m         \u001b[0mprint\u001b[0m\u001b[1;33m(\u001b[0m\u001b[1;34m'Operation Not implemented'\u001b[0m\u001b[1;33m)\u001b[0m\u001b[1;33m\u001b[0m\u001b[1;33m\u001b[0m\u001b[0m\n",
      "\u001b[1;31merror\u001b[0m: OpenCV(4.5.4-dev) D:\\a\\opencv-python\\opencv-python\\opencv\\modules\\imgproc\\src\\smooth.dispatch.cpp:617: error: (-215:Assertion failed) !_src.empty() in function 'cv::GaussianBlur'\n"
     ]
    },
    {
     "data": {
      "image/png": "[encoded data removed]",
      "text/plain": [
       "<Figure size 1080x1080 with 5 Axes>"
      ]
     },
     "metadata": {
      "needs_background": "light"
     },
     "output_type": "display_data"
    }
   ],
   "source": [
    "window_size = np.array([3, 7,13,19,31])\n",
    "standard_dev = np.array([0.5,1,2,3,5])\n",
    "\n",
    "arr = np.zeros((len(window_size), 3))\n",
    "\n",
    "\n",
    "fig, axis = plt.subplots(1,len(window_size), figsize = (15,15))\n",
    "\n",
    "for i in range(len(window_size)):\n",
    "    img_g_ = denoise(img_g, 'gaussian', kernel_size = window_size[i], sigmaX = standard_dev[i])\n",
    "    axis[i].imshow(img_g_)\n",
    "    axis[i].set_title(' Kernel size = ' + str(window_size[i]) + 'x' + str(window_size[i]) + ', Sigma = ' + str(standard_dev[i]))\n",
    "    PSNR = myPSNR(img_arr, img_g_)\n",
    "    arr[i,:] = np.array([window_size[i],standard_dev[i],PSNR])\n",
    "\n",
    "\n",
    "fig, ax = plt.subplots(figsize = (10,5))\n",
    "p = ax.scatter(arr[:,0], arr[:,1], c=arr[:,2], s=40, label = 'PSNR')\n",
    "plt.xlabel('Kernel Size')\n",
    "plt.ylabel('$\\sigma^2$ Standard deviation for a gaussian denoise filter')\n",
    "plt.title('PSNR($\\sigma^2$, Kernel Size)')\n",
    "plt.legend(loc='center left', bbox_to_anchor=(1.2, 0.5))\n",
    "plt.colorbar(p)\n",
    "\n",
    "argmax = np.argmax(arr[:,2])\n",
    "maxvalue = arr[argmax,:]\n",
    "\n",
    "print('The maximum calculated PSNR is ' + str(np.round(maxvalue[2],2)) + ' which corresponds to a kernel size of ' + str(int(maxvalue[0]))+' x ' + str(int(maxvalue[0]))+' and a standard deviation of ' + str(maxvalue[1]) )\n"
   ]
  },
  {
   "cell_type": "markdown",
   "metadata": {
    "id": "HbhpdDM9ceii"
   },
   "source": [
    "\n",
    "5.   What is the effect of the standard deviation on the PSNR? Report the results (in a table) and discuss.\n"
   ]
  },
  {
   "cell_type": "code",
   "execution_count": 113,
   "metadata": {},
   "outputs": [
    {
     "name": "stdout",
     "output_type": "stream",
     "text": [
      "-----------------------------------------------------------\n",
      "Table 2: PSNR values for a Gaussian kernel and various kernel sizes\n",
      "-----------------------------------------------------------\n",
      "size          Standard Deviation    PSNR Value\n",
      "-----------------------------------------------------------\n",
      "3              0.5                  0.0       \n",
      "7              1.0                  0.0       \n",
      "13             2.0                  0.0       \n",
      "19             3.0                  0.0       \n",
      "31             5.0                  0.0       \n",
      "-----------------------------------------------------------\n"
     ]
    }
   ],
   "source": [
    "print('-----------------------------------------------------------')\n",
    "print('Table 2: PSNR values for a Gaussian kernel and various kernel sizes')\n",
    "print('-----------------------------------------------------------')\n",
    "print (\"{:<13} {:<20} {:<10}\".format('size', 'Standard Deviation' ,' PSNR Value'))\n",
    "print('-----------------------------------------------------------')\n",
    "for i in range(len(standard_dev)):\n",
    "    print (\"{:<14} {:<20} {:<10}\".format(window_size[i], standard_dev[i], np.round(arr[i,2],2)))\n",
    "    \n",
    "print('-----------------------------------------------------------')\n"
   ]
  },
  {
   "cell_type": "markdown",
   "metadata": {
    "id": "IDaSrQvXclwD"
   },
   "source": [
    "A Gaussian filter is a weighted average filter who is weights take the shape of a Gaussian distribution. For the quantized filter sigma determines the concentration of the weights across the filter. In the same sense that a Gaussian curve with a small STD is a slim and centralized curve, a small sigma for the filter indicates that the majority of the weights are positioned in the center of the filter with a steep falloff rate. A large sigma would indicate a wider distribution of weights across the filter, and the filter will take a more similar form to a box filter. The larger the standard deviation, the more generalizing the outcome, and similarly the small the standard deviation is the more details are captured in the blurring process. \n",
    "\n",
    "Table 2 presents an overview over the PSNR values derived using different kernels and standard deviation pairs. We can see that the PSNR value peaks at a filter size of 7x7 with a standard deviation at 1. As propositioned above we can understand this by the tendency of larger sigma values to over generalize and erase the details of a photo, which here appears to be increasingly occurring for standard deviations larger than 1. However, a two small filter size and standard deviation might be unable so sufficiently smoothen out the error, by having a large concentration of weights centered on the error pixel value itself.  "
   ]
  },
  {
   "cell_type": "markdown",
   "metadata": {
    "id": "_7ZZvTGxcfp5"
   },
   "source": [
    "### 4.2.2.6 The difference among median filtering, box filtering & Gaussian filtering \n",
    "\n",
    "\n",
    "The median, box and Gaussian filtering processes have several similarities and differences. Median filtering corrects a pixel value by looking at the sorted numerical value in the range of a neighborhood and replacing the pixel current pixel with the median value of the range taken from the input image. As such, a large peak in error of a singular pixel or outliers in the neighborhood is easily removed in order to enhance the image quality, instead the pixel becomes an expression of the median color tendencies in its surroundings. A box filter transforms a pixel value into the average value of the pixels in the input image within its neighborhood. In this sense the new pixel becomes a low pass filter with the property of using equal weights.\n",
    "The Gaussian filtering is based on the convolving of an image with a Gaussian function, and is somewhat similar to the box filtering, except that the kernel it uses represents the shape of a Gaussian. The standard deviation controls how quickly the weights fall of from the central kernel component, and as such the variation around the mean value. The larger the sigma value the larger the variation across the filter. As such, the Gaussian filter is a low pass filter that discards high frequency components, such as the ones found on edges creating a smoothing effect. When evaluating Gaussian filters one has to take into account the combination of choosing a standard deviation with the filter size. \n",
    "\n",
    "Even though methods can appear to yield similar values in terms of the PSNR, the macroscopic effects they produce may differ vastly when observed by a person. The selection and weighting procedures vary - while the box and the Gaussian filter takes weighted averages they produce more rapidly a blurred outcome, as lines and edges are smoothened out. The median filters however are more successful in removing noise while simultaneously producing a more clear picture, given that it is not in effect averaging out the pixel values. "
   ]
  },
  {
   "cell_type": "markdown",
   "metadata": {
    "id": "e9xrXuV7cmS1"
   },
   "source": [
    "\n"
   ]
  },
  {
   "cell_type": "markdown",
   "metadata": {
    "id": "ELQH1DgffAfX"
   },
   "source": [
    "## 4.3 Edge detection"
   ]
  },
  {
   "cell_type": "markdown",
   "metadata": {
    "id": "vtpvRJaQfHN6"
   },
   "source": [
    "Edges appear when there is a sharp change in brightness. In an image this usually corresponds to the boundaries of an object. Edge detection is a fundamental task used in many computer vision applications. One of them is road detection in autonomous driving, which is used for determining the vehicle trajectory.\n",
    "\n",
    "Many different techniques exist for computing the edges. In this section, we will focus on filters that extract the gradient of the image. We will try to detect the road in an still image."
   ]
  },
  {
   "cell_type": "markdown",
   "metadata": {
    "id": "jpC_NGfufN3R"
   },
   "source": [
    "### 4.3.1 First-order derivative filters\n"
   ]
  },
  {
   "cell_type": "markdown",
   "metadata": {
    "id": "8umfWKDIfZD3"
   },
   "source": [
    "**Sobel** kernels approximate the first derivative of a Gaussian filter. Below are the Sobel kernels used in the $x$ and $y$ directions.\n",
    "\n",
    "\\begin{equation}\n",
    "\\begin{array}{rl}\n",
    "G_x = \\begin{bmatrix} +1 & 0 & -1 \\\\ +2 & 0 & -2 \\\\ +1 & 0 & -1 \\end{bmatrix} * \\mathbf{I}\n",
    "\\end{array}\n",
    "\\end{equation}\n",
    "\n",
    "\\begin{equation}\n",
    "\\begin{array}{rl}\n",
    "G_y = \\begin{bmatrix} +1 & +2 & +1 \\\\ 0 & 0 & 0 \\\\ -1 & -2 & -1 \\end{bmatrix} * \\mathbf{I}\n",
    "\\end{array}\n",
    "\\end{equation}\n",
    "The gradient magnitude is defined as the square root of the sum of the squares of the horizontal ($G_x$) and the vertical ($G_y$) components of the gradient of an image, such that: \n",
    "\\begin{equation}\n",
    "G =\\sqrt {{G_x}^2+{G_y}^2}\n",
    "\\end{equation}\n",
    "The gradient direction is calculated as follows:\n",
    "\\begin{equation}\n",
    "\\theta= \\tan ^{ - 1}{\\frac{G_y}{G_x}}\n",
    "\\end{equation}\n"
   ]
  },
  {
   "cell_type": "markdown",
   "metadata": {
    "id": "D7bhn7zvh6bh"
   },
   "source": [
    "### Question (10 pts)\n",
    "Using your implemented function **compute_gradient** on image2.jpg, display the following figures:\n",
    "\n",
    "  1. The gradient of the image in the x-direction.\n",
    "\n",
    "  2. The gradient of the image in the y-direction.\n",
    "\n",
    "  3. The gradient magnitude of each pixel.\n",
    "\n",
    "  4. The gradient direction of each pixel.\n",
    "\n",
    "Discuss what kind of information every image conveys.\n",
    "\n"
   ]
  },
  {
   "cell_type": "code",
   "execution_count": 114,
   "metadata": {
    "id": "xrmc2tRlgtcp"
   },
   "outputs": [],
   "source": [
    "def compute_gradient(image):\n",
    "    Sobel_x = np.array([[1,0,-1],[2,0,-2],[1,0,-1]])\n",
    "    Sobel_y = np.array([[1,2,1],[0,0,0],[-1,-2,-1]])\n",
    "    \n",
    "    Gx = scipy.signal.convolve2d(image,Sobel_x)\n",
    "    Gy = scipy.signal.convolve2d(image,Sobel_y)\n",
    "    \n",
    "    im_magnitude = np.sqrt(np.square(Gx)+np.square(Gy))\n",
    "    im_direction = np.arctan(np.divide(Gy,Gx))\n",
    "    \n",
    "    return Gx, Gy, im_magnitude,im_direction"
   ]
  },
  {
   "cell_type": "code",
   "execution_count": 115,
   "metadata": {},
   "outputs": [
    {
     "ename": "error",
     "evalue": "OpenCV(4.5.4-dev) D:\\a\\opencv-python\\opencv-python\\opencv\\modules\\imgproc\\src\\color.cpp:182: error: (-215:Assertion failed) !_src.empty() in function 'cv::cvtColor'\n",
     "output_type": "error",
     "traceback": [
      "\u001b[1;31m---------------------------------------------------------------------------\u001b[0m",
      "\u001b[1;31merror\u001b[0m                                     Traceback (most recent call last)",
      "\u001b[1;32m<ipython-input-115-105fdb90d7de>\u001b[0m in \u001b[0;36m<module>\u001b[1;34m\u001b[0m\n\u001b[0;32m      3\u001b[0m \u001b[0mcd\u001b[0m \u001b[1;33m=\u001b[0m \u001b[1;34m'./sample_data/sample_data/image2.jpg'\u001b[0m\u001b[1;33m\u001b[0m\u001b[1;33m\u001b[0m\u001b[0m\n\u001b[0;32m      4\u001b[0m \u001b[0mimage\u001b[0m \u001b[1;33m=\u001b[0m \u001b[0mcv2\u001b[0m\u001b[1;33m.\u001b[0m\u001b[0mimread\u001b[0m\u001b[1;33m(\u001b[0m\u001b[0mcd\u001b[0m\u001b[1;33m)\u001b[0m\u001b[1;33m\u001b[0m\u001b[1;33m\u001b[0m\u001b[0m\n\u001b[1;32m----> 5\u001b[1;33m \u001b[0mimage\u001b[0m \u001b[1;33m=\u001b[0m \u001b[0mcv2\u001b[0m\u001b[1;33m.\u001b[0m\u001b[0mcvtColor\u001b[0m\u001b[1;33m(\u001b[0m\u001b[0mimage\u001b[0m\u001b[1;33m,\u001b[0m \u001b[0mcv2\u001b[0m\u001b[1;33m.\u001b[0m\u001b[0mCOLOR_BGR2GRAY\u001b[0m\u001b[1;33m)\u001b[0m\u001b[1;33m\u001b[0m\u001b[1;33m\u001b[0m\u001b[0m\n\u001b[0m\u001b[0;32m      6\u001b[0m \u001b[1;33m[\u001b[0m\u001b[0mGx\u001b[0m\u001b[1;33m,\u001b[0m\u001b[0mGy\u001b[0m\u001b[1;33m,\u001b[0m\u001b[0mim_magnitude\u001b[0m\u001b[1;33m,\u001b[0m\u001b[0mim_direction\u001b[0m\u001b[1;33m]\u001b[0m \u001b[1;33m=\u001b[0m \u001b[0mcompute_gradient\u001b[0m\u001b[1;33m(\u001b[0m\u001b[0mimage\u001b[0m\u001b[1;33m)\u001b[0m\u001b[1;33m\u001b[0m\u001b[1;33m\u001b[0m\u001b[0m\n\u001b[0;32m      7\u001b[0m \u001b[1;33m\u001b[0m\u001b[0m\n",
      "\u001b[1;31merror\u001b[0m: OpenCV(4.5.4-dev) D:\\a\\opencv-python\\opencv-python\\opencv\\modules\\imgproc\\src\\color.cpp:182: error: (-215:Assertion failed) !_src.empty() in function 'cv::cvtColor'\n"
     ]
    }
   ],
   "source": [
    "import scipy.signal\n",
    "import os\n",
    "cd = './sample_data/sample_data/image2.jpg'\n",
    "image = cv2.imread(cd)\n",
    "image = cv2.cvtColor(image, cv2.COLOR_BGR2GRAY)\n",
    "[Gx,Gy,im_magnitude,im_direction] = compute_gradient(image)\n",
    "\n",
    "plt.figure(figsize=(12,8))\n",
    "\n",
    "plt.subplot(221)\n",
    "plt.imshow(Gx,cmap='gray')\n",
    "plt.title('Gradient in x-direction')\n",
    "plt.axis('off')\n",
    "plt.subplot(222)\n",
    "plt.imshow(Gy,cmap='gray')\n",
    "plt.title('Gradient in y-direction')\n",
    "plt.axis('off')\n",
    "plt.subplot(223)\n",
    "plt.imshow(im_magnitude)\n",
    "plt.title('Gradient magnitude')\n",
    "plt.axis('off')\n",
    "plt.subplot(224)\n",
    "plt.imshow(im_direction)\n",
    "plt.title('Gradient direction')\n",
    "plt.axis('off')\n",
    "\n",
    "plt.show()\n",
    "\n"
   ]
  },
  {
   "cell_type": "markdown",
   "metadata": {
    "id": "e8Cy-LVfgjg4"
   },
   "source": [
    "Calculating the gradient in the x-direction will reveal vertical edges, as a large change in gradient in the x-direction means that the difference in pixel value between the left and right pixels are large and this is a scenario that could be found when there is a vertical edge. \n",
    "\n",
    "The gradient in the y-direction will reveal horizontal edges, as the gradient in this direction will be large if there is a large difference between the top and bottom pixels. \n",
    "\n",
    "The output of the images of the gradients in the x and y direction also corroborates the explanation above, as in the image where the gradient in the x-direction, the trunk of the trees are very prominent due to it having a shape with vertical lines, whilst in the image of the gradient in the y-direction the trunks of the trees can not be seen. \n",
    "\n",
    "The magnitude and direction of the gradient can be both used to describe the direction of the edge detected, as the magnitude is a combination of the contribution in both the x-direction gradient and the y-direction gradient, and the direction shows the signifcance of each contribution, for instance an angle of 0 means that all the contribution comes from the gradient in the x-direction."
   ]
  },
  {
   "cell_type": "markdown",
   "metadata": {
    "id": "yq-ynXBQgkQ3"
   },
   "source": [
    "###Exercise"
   ]
  },
  {
   "cell_type": "markdown",
   "metadata": {
    "id": "Fx_8_LPDgoeG"
   },
   "source": [
    "Implement **compute_gradient**\n",
    "\n",
    "**Note:** \n",
    "You are not allowed to use the Python built-in functions for computing gradient. But for doing 2D convolution, you can benefit from *scipy.signal.convolve2d* function."
   ]
  },
  {
   "cell_type": "markdown",
   "metadata": {
    "id": "kWWN7NEzi1Ly"
   },
   "source": [
    "### 4.3.2 Second-order derivative filters"
   ]
  },
  {
   "cell_type": "markdown",
   "metadata": {
    "id": "-rZSE3toi6iP"
   },
   "source": [
    "Compared to the Sobel filter, a Laplacian of Gaussian (LoG) relies on the second derivative of a Gaussian filter. Hence, it will focus on large gradients in the image. A LoG can be computed by the following three methods:\n",
    "\n",
    "\n",
    "\n",
    "*   method 1: Smoothing the image with a Gaussian kernel (kernel size of 5 and standard deviation of 0.5), then taking the Laplacian of the smoothed image (i.e. second derivative).\n",
    "*   method 2: Convolving the image directly with a LoG kernel (kernel size of 5 and standard deviation of 0.5).\n",
    "\n",
    "*   method 3: Taking the Difference of two Gaussians (DoG) computed at different scales $\\sigma_1$ and $\\sigma_2$.\n",
    "\n",
    "\n",
    "\n"
   ]
  },
  {
   "cell_type": "markdown",
   "metadata": {
    "id": "jFkZWEA7EmZB"
   },
   "source": [
    "###Exercise "
   ]
  },
  {
   "cell_type": "markdown",
   "metadata": {
    "id": "k5hqL-iUEnTz"
   },
   "source": [
    "Implement **compute_LoG**\n",
    "\n",
    "The function should be able to apply any of the above mentioned methods depending on the value passed to the parameter *LOG_type*\n",
    "\n",
    "**Note:** \n",
    "You are not allowed to use the Python built-in functions for computing LOG kernels. But for doing 2D convolution, you can benefit from *scipy.signal.convolve2d* function."
   ]
  },
  {
   "cell_type": "code",
   "execution_count": 116,
   "metadata": {
    "id": "7oOpjcpnFDKY"
   },
   "outputs": [],
   "source": [
    "\n",
    "\n",
    "def scale(image):\n",
    "    min_pixel = -np.amin(image)\n",
    "    image = image+min_pixel\n",
    "    max_pixel = np.amax(image)\n",
    "    image = (image/max_pixel)\n",
    "    image = image*255\n",
    "    image = image.astype(int)\n",
    "    return image\n",
    "    \n",
    "def compute_LoG(image, LOG_type):\n",
    "    sigma = 0.5\n",
    "    k = 0.86\n",
    "    gaussian_kernel = gauss2D(sigma,sigma,5)\n",
    "    laplacian_kernel = np.array([[-1,-1,-1],[-1,8,-1],[-1,-1,-1]])\n",
    "    if LOG_type == 1:\n",
    "        #method 1 \n",
    "\n",
    "        imOut = scipy.signal.convolve2d(image,gaussian_kernel)\n",
    "        imOut = scipy.signal.convolve2d(image,laplacian_kernel)\n",
    "\n",
    "\n",
    "    elif LOG_type == 2:\n",
    "          #method 2\n",
    "        log_kernel = scipy.signal.convolve2d(gaussian_kernel,laplacian_kernel)\n",
    "        print(log_kernel.shape)\n",
    "        imOut = scipy.signal.convolve2d(image,log_kernel)\n",
    "\n",
    "    elif LOG_type == 3:\n",
    "        im1 = scipy.signal.convolve2d(image,gaussian_kernel)\n",
    "        gaussian_kernel_2 = gauss2D(sigma*k,sigma*5,5)\n",
    "        im2 = scipy.signal.convolve2d(image,gaussian_kernel_2) \n",
    "    \n",
    "        imOut = im2 - im1\n",
    "    \n",
    "\n",
    "\n",
    "        \n",
    "        \n",
    "    return imOut"
   ]
  },
  {
   "cell_type": "markdown",
   "metadata": {
    "id": "p5GSV9v2FMHA"
   },
   "source": [
    "### Questions (10 pts)\n",
    "\n",
    "1.   Test your function using image2.jpg and visualize your results using the three methods.\n",
    "\n",
    "\n",
    "\n"
   ]
  },
  {
   "cell_type": "code",
   "execution_count": 117,
   "metadata": {},
   "outputs": [
    {
     "ename": "error",
     "evalue": "OpenCV(4.5.4-dev) D:\\a\\opencv-python\\opencv-python\\opencv\\modules\\imgproc\\src\\color.cpp:182: error: (-215:Assertion failed) !_src.empty() in function 'cv::cvtColor'\n",
     "output_type": "error",
     "traceback": [
      "\u001b[1;31m---------------------------------------------------------------------------\u001b[0m",
      "\u001b[1;31merror\u001b[0m                                     Traceback (most recent call last)",
      "\u001b[1;32m<ipython-input-117-e29d6d5fc7a3>\u001b[0m in \u001b[0;36m<module>\u001b[1;34m\u001b[0m\n\u001b[0;32m      1\u001b[0m \u001b[0mcd\u001b[0m \u001b[1;33m=\u001b[0m \u001b[1;34m'./sample_data/sample_data/image2.jpg'\u001b[0m\u001b[1;33m\u001b[0m\u001b[1;33m\u001b[0m\u001b[0m\n\u001b[0;32m      2\u001b[0m \u001b[0mimage\u001b[0m \u001b[1;33m=\u001b[0m \u001b[0mcv2\u001b[0m\u001b[1;33m.\u001b[0m\u001b[0mimread\u001b[0m\u001b[1;33m(\u001b[0m\u001b[0mcd\u001b[0m\u001b[1;33m)\u001b[0m\u001b[1;33m\u001b[0m\u001b[1;33m\u001b[0m\u001b[0m\n\u001b[1;32m----> 3\u001b[1;33m \u001b[0mimage\u001b[0m \u001b[1;33m=\u001b[0m \u001b[0mcv2\u001b[0m\u001b[1;33m.\u001b[0m\u001b[0mcvtColor\u001b[0m\u001b[1;33m(\u001b[0m\u001b[0mimage\u001b[0m\u001b[1;33m,\u001b[0m \u001b[0mcv2\u001b[0m\u001b[1;33m.\u001b[0m\u001b[0mCOLOR_BGR2GRAY\u001b[0m\u001b[1;33m)\u001b[0m\u001b[1;33m\u001b[0m\u001b[1;33m\u001b[0m\u001b[0m\n\u001b[0m\u001b[0;32m      4\u001b[0m \u001b[1;33m\u001b[0m\u001b[0m\n\u001b[0;32m      5\u001b[0m \u001b[0mimage_list\u001b[0m \u001b[1;33m=\u001b[0m \u001b[1;33m[\u001b[0m\u001b[1;33m]\u001b[0m\u001b[1;33m\u001b[0m\u001b[1;33m\u001b[0m\u001b[0m\n",
      "\u001b[1;31merror\u001b[0m: OpenCV(4.5.4-dev) D:\\a\\opencv-python\\opencv-python\\opencv\\modules\\imgproc\\src\\color.cpp:182: error: (-215:Assertion failed) !_src.empty() in function 'cv::cvtColor'\n"
     ]
    }
   ],
   "source": [
    "cd = './sample_data/sample_data/image2.jpg'\n",
    "image = cv2.imread(cd)\n",
    "image = cv2.cvtColor(image, cv2.COLOR_BGR2GRAY)\n",
    "\n",
    "image_list = [] \n",
    "for i in range(3):\n",
    "    imOut = compute_LoG(image,i+1)\n",
    "    imOut = scale(imOut)\n",
    "    image_list.append(imOut)\n",
    "\n",
    "plt.figure(figsize=(20, 18), dpi=80)\n",
    "plt.subplot(221)\n",
    "plt.imshow(np.ascontiguousarray(image_list[0]),cmap='gray', vmin=0, vmax=255)\n",
    "plt.title('Method 1')\n",
    "\n",
    "plt.subplot(222)\n",
    "plt.imshow(image_list[1],cmap='gray', vmin=0, vmax=255)\n",
    "plt.title('Method 2')\n",
    "\n",
    "plt.subplot(223)\n",
    "plt.imshow(image_list[2],cmap='gray', vmin=0, vmax=255)\n",
    "plt.title('Method 3')\n",
    "\n",
    "\n",
    "plt.show()\n",
    "\n"
   ]
  },
  {
   "cell_type": "markdown",
   "metadata": {
    "id": "HnXZnTGqqnVw"
   },
   "source": [
    "YOUR ANSWER HERE"
   ]
  },
  {
   "cell_type": "markdown",
   "metadata": {
    "id": "7DF4d8ZCgPgd"
   },
   "source": [
    "\n",
    "2.   Discuss the difference between applying the three methods.\n"
   ]
  },
  {
   "cell_type": "markdown",
   "metadata": {
    "id": "y1kbBulkgWsn"
   },
   "source": [
    "Since convolution is associative, the order of convolution with different filters should not effect the final output of the image, hence the output between the first two methods should be the same. One difference between the output of the two methods is the dimensions, since the filters are different sized, the final output of the image will also be a different size if no additional padding is added. Furthermore, the amount of computation is different between the first two methods, since the amount of computation of a convulation with a w x w filter scales with $w^2$. In the first method, we convolute 2, 2d gaussian kernel of dimension (3 x 3), and the second method involves in a convolution of a filter with dimensions of (7x7), hence the first method is more computationally efficient. The third method is an approximation of the LoG, by subtracting two images convoluted with different standard deviation of the gaussian kernel. This allows us to change the parameters to select the frequency in which we want the image to display. "
   ]
  },
  {
   "cell_type": "markdown",
   "metadata": {
    "id": "mDOR_Ee_gQy5"
   },
   "source": [
    "\n",
    "3.   In the first method, why is it important to convolve an image with a Gaussian before convolving with a Laplacian?\n",
    "\n"
   ]
  },
  {
   "cell_type": "markdown",
   "metadata": {
    "id": "Xfas5xWPgXSb"
   },
   "source": [
    "The calculation of the second derivative (Laplacian) is very sensitive to noise, hence if the image contains lots of noise the calculation could lead to erronous/noisy result. By applying the Gaussian filter before hand, the high frequency components are reduced, making the convolutation with the Laplacian less noisy."
   ]
  },
  {
   "cell_type": "markdown",
   "metadata": {
    "id": "mONfgLCbgR-o"
   },
   "source": [
    "4.   In the third method, what is the best ratio between $\\sigma_1$ and $\\sigma_2$ to achieve the best approximation of the LoG? What is the purpose of having 2 standard deviations?\n",
    "\n"
   ]
  },
  {
   "cell_type": "markdown",
   "metadata": {
    "id": "IzCa85MtgYDM"
   },
   "source": [
    "The two different standard deviation to calculate the Difference of Gaussians, can be seen as the range of frequency of the image in which we want to filter, therefore the Difference of Gaussians can be seen as a bandpass filter. To illustrate this effect, the equation for the application of Difference of Gaussian is shown below. \n",
    "\n",
    "$$\\Gamma_{\\sigma_1,\\sigma_2}(x) = I * (\\frac{1}{2\\pi\\sigma^2}e^{-\\frac{x^2+y^2}{2\\sigma^2}}-\\frac{1}{2\\pi K^2\\sigma^2}e^{-\\frac{x^2+y^2}{2K^2\\sigma^2}})$$\n",
    "\n",
    "Where K is the ratio between $\\sigma_1$ and $\\sigma_2$. \n",
    "\n",
    "Gaussian filters are smoothing filters, where the larger the $\\sigma$, the higher frequencies from the image will be removed, hence $\\sigma_1$ can be seen as the parameters removing the high frequency. Since the second gaussian term is being subtracted from the first term, $\\sigma_2$ has the opposite effect of $\\sigma_1$, where frequencies above $\\sigma_2$ are retained. Combining these terms essentially means that any frequencies between the range of $\\sigma_1$ and $\\sigma_2$ are kept, and any outside this range are removed.\n",
    "\n",
    "To find the optimal ratio (K) of $\\sigma_1$ and $\\sigma_2$, a range of K will be simulated in the calculation of the Difference of Gaussian, and the mean-squared error of the output from the Difference of Gaussian and the Laplacian of Gaussian will be calculated. The K resulting in the lowest error will be the best ratio for $\\frac{\\sigma_1}{\\sigma_2}$. As shown below, it was found that a K of 0.86 will result in the best approximation."
   ]
  },
  {
   "cell_type": "code",
   "execution_count": 118,
   "metadata": {},
   "outputs": [
    {
     "data": {
      "image/png": "[encoded data removed]",
      "text/plain": [
       "<Figure size 432x288 with 1 Axes>"
      ]
     },
     "metadata": {
      "needs_background": "light"
     },
     "output_type": "display_data"
    }
   ],
   "source": [
    "x = np.linspace(-4,4,100)\n",
    "sigma = 1 \n",
    "K_list = np.linspace(0.1,2,1000)\n",
    "error_list = [] \n",
    "\n",
    "for K in K_list:\n",
    "    LoG = (x**2/sigma**4 - 1/sigma**2)*np.exp(-x**2/(2*sigma**2))\n",
    "    DoG = np.exp(-x**2/(2*sigma**2)/(2*np.pi*sigma**2)) - np.exp(-x**2/(2*K**2*sigma**2)/(2*K**2*np.pi*sigma**2))\n",
    "    error_list.append(np.mean((LoG - DoG)**2) )\n",
    "\n",
    "    \n",
    "idx = np.argmin(error_list)\n",
    "opt_K = K_list[idx]\n",
    "DoG = np.exp(-x**2/(2*sigma**2)/(2*np.pi*sigma**2)) - np.exp(-x**2/(2*opt_K**2*sigma**2)/(2*opt_K**2*np.pi*sigma**2))\n",
    "\n",
    "plt.figure()\n",
    "plt.plot(x,LoG)\n",
    "plt.plot(x,DoG)\n",
    "plt.title('Approximation of LoG with DoG for a K of %s' %(opt_K) )\n",
    "plt.show()"
   ]
  },
  {
   "cell_type": "markdown",
   "metadata": {
    "id": "p577tWgNgTFe"
   },
   "source": [
    "5.   What else is needed to improve the performance and isolate the road,  i.e. what else should be done? You don't have to provide any specific parameter or specific algorithm. Try to propose a direction which would be interesting to explore and how you would approach it.\n"
   ]
  },
  {
   "cell_type": "markdown",
   "metadata": {
    "id": "5mpHhL9BFlq4"
   },
   "source": [
    "I would improve the resulting output image by applying a gamma correction to the output image, as currently the contrast of the image is quite low and it is difficult to distinguish between the output edges and the background. \n",
    "\n",
    "To isolate the road, I would apply the Difference of Gaussian kernel and fine tune the $\\sigma$ such that the high frequency components found in the vicinity of the trees are removed and more of the low frequency components in the roads are kept. This will reduce the amount of edge detections along the trees making the edges of the road become more isolated. Then I will apply a classification algorithm, which determines what value of a pixel intensity will most likely belong in the road, then I will use this pixel value as a threshold to binarize the image. Then I will perform an opening morphology to remove any noise, then I will apply the Hough transform to try to detect the line on the edges of the road."
   ]
  },
  {
   "cell_type": "markdown",
   "metadata": {
    "id": "5sgm7JVhFubg"
   },
   "source": [
    "## 4.4 Foreground-background separation"
   ]
  },
  {
   "cell_type": "markdown",
   "metadata": {
    "id": "ewTmbkTFHh01"
   },
   "source": [
    "Foreground-background separation is an important task in the field of computer vision (see Figure). In this exercise, you will implement a simple unsupervised algorithm that leverages the variations in texture to segment the foreground object from the background. We will assume the foreground object has a distinct combination of textures compared to background. As mentioned earlier, Gabor filters are well-suited for texture analysis thanks to their frequency domain characteristics. Therefore, we will use a collection of Gabor filters with varying scale and orientations which we call a *filter bank*. The outline of the algorithm is as follows:"
   ]
  },
  {
   "cell_type": "markdown",
   "metadata": {
    "id": "UScTstnoH8Yz"
   },
   "source": [
    "![](https://drive.google.com/uc?export=view&id=1w60xJ4UlG60Ie6ljRkHn0GJDdVu9eb5e)"
   ]
  },
  {
   "cell_type": "markdown",
   "metadata": {
    "id": "ieFPLOKTImzD"
   },
   "source": [
    "**(Left)** Input image, **(Middle)** Foreground mask, **(Right)** Masked object. Foreground-Background separation aims at masking out the salient object pixels from the background pixels."
   ]
  },
  {
   "cell_type": "markdown",
   "metadata": {
    "id": "-cggieAGXBNp"
   },
   "source": [
    "---\n",
    "\n",
    "**Algorithm 1** Foreground-Background Segmentation Algorithm\n",
    "\n",
    "---\n",
    "\n",
    "**Input:** $x$ - input image\n",
    "\n",
    "**Output:** $y$ - pixelwise labels\n",
    "\n",
    "\n",
    "\n",
    "1.   Convert to grayscale if necessary.\n",
    "\n",
    ">>**if** $x$ is RGB **then**\n",
    "\n",
    ">>>$x$ $\\leftarrow$ rgb2gray($x$)\n",
    "\n",
    ">>**end if**\n",
    "\n",
    "2.   Create Gabor filterbank, $\\mathcal{F}_{gabor}$, with varying $\\sigma$, $\\lambda$ and $\\theta$.\n",
    "\n",
    "3.   Filter $x$ with the filterbank. Store each output in $fmaps$.\n",
    "\n",
    "4.   Compute the magnitude of the complex $fmaps$. Store the results in $fmags$.\n",
    "\n",
    ">>$fmags$ $\\leftarrow$  $\\vert fmaps \\vert$\n",
    "\n",
    "5.   Smooth $fmags$.\n",
    "\n",
    ">>$fmags$ $\\leftarrow$  smooth($fmags$)\n",
    "\n",
    "6.   Convert $fmags$ into data matrix, $f$.\n",
    "\n",
    ">>$f$ $\\leftarrow$  reshape($fmags$)\n",
    "\n",
    "7.   Cluster $f$ using kmeans into two sets.\n",
    "\n",
    ">>$y$ $\\leftarrow$  kmeans($f$, 2)\n",
    "\n",
    "---\n"
   ]
  },
  {
   "cell_type": "markdown",
   "metadata": {
    "id": "Zo-iPmhla2G9"
   },
   "source": [
    "### Questions (20 pts)\n",
    "\n",
    "1.   Run the algorithm on all test images with the provided parameter settings. What do you observe? Explain shortly.\n"
   ]
  },
  {
   "cell_type": "markdown",
   "metadata": {
    "id": "UwYMD8qkdx5m"
   },
   "source": [
    "YOUR ANSWER HERE"
   ]
  },
  {
   "cell_type": "markdown",
   "metadata": {
    "id": "fG0G4XmldzDB"
   },
   "source": [
    "\n",
    "2.   Experiment with different $\\lambda$, $\\sigma$ and $\\theta$ settings until you get reasonable outputs. Report what parameter settings work better for each input image and try to explain why.\n",
    "\n",
    ">**Hint:** \n",
    "Don't change multiple variables at once. You might not need to change some at all.\n",
    "\n"
   ]
  },
  {
   "cell_type": "markdown",
   "metadata": {
    "id": "KMcXMskXdzFO"
   },
   "source": [
    "YOUR ANSWER HERE"
   ]
  },
  {
   "cell_type": "markdown",
   "metadata": {
    "id": "6NzeqBhJdzHv"
   },
   "source": [
    "3.   After you achieve good separation on all test images, run the script again with corresponding parameters but this time with\n",
    "\n",
    ">>>smoothingFlag = False\n",
    "\n",
    ">Describe what you observe at the output when smoothing is not applied on the magnitude images. Explain why it happens and try to reason about the motivation behind this step."
   ]
  },
  {
   "cell_type": "markdown",
   "metadata": {
    "id": "mCyG914YcKcb"
   },
   "source": [
    "YOUR ANSWER HERE"
   ]
  },
  {
   "cell_type": "markdown",
   "metadata": {
    "id": "hiDCgYrlcL9r"
   },
   "source": [
    "###Exercise"
   ]
  },
  {
   "cell_type": "markdown",
   "metadata": {
    "id": "mR5GreUHcPtd"
   },
   "source": [
    "Please get yourself familiar with provided skeleton code **gabor_segmentation**.py. Keep in mind that you will need your implementation of the **createGabor** function.\n",
    "\n",
    "When you succesfully implement it all, it should run without problems and produce a reasonable segmentation with the default parameters on **kobi.png**."
   ]
  },
  {
   "cell_type": "code",
   "execution_count": null,
   "metadata": {
    "id": "N3f9_GNhvqH7"
   },
   "outputs": [],
   "source": [
    "image_id = \"Polar\"\n",
    "img = load_image(image_id) # load an image with the Polar bear\n",
    "\n",
    "show_image(img, f'Input image: {image_id}')\n"
   ]
  },
  {
   "cell_type": "code",
   "execution_count": null,
   "metadata": {
    "id": "abk-us2ZiR3k",
    "scrolled": false
   },
   "outputs": [],
   "source": [
    "from sklearn.cluster import KMeans\n",
    "\n",
    "# Control settings\n",
    "visFlag = False  # Set to true to visualize filter responses.\n",
    "smoothingFlag = True  # Set to true to postprocess filter outputs.\n",
    "\n",
    "# Design array of Gabor Filters\n",
    "# In this code section, you will create a Gabor Filterbank. A filterbank is\n",
    "# a collection of filters with varying properties (e.g. {shape, texture}).\n",
    "# A Gabor filterbank consists of Gabor filters of distinct orientations\n",
    "# and scales. We will use this bank to extract texture information from the\n",
    "# input image.\n",
    "\n",
    "numRows, numCols = img.shape\n",
    "\n",
    "# Estimate the minimum and maximum of the wavelengths for the sinusoidal\n",
    "# carriers.\n",
    "# ** This step is pretty much standard, therefore, you don't have to\n",
    "#    worry about it. It is cycles in pixels. **\n",
    "lambdaMin = 4/np.sqrt(2)\n",
    "lambdaMax = np.sqrt(abs(numRows)**2 + abs(numCols)**2)\n",
    "\n",
    "# Specify the carrier wavelengths.\n",
    "# (or the central frequency of the carrier signal, which is 1/lambda)\n",
    "n = np.floor(np.log2(lambdaMax/lambdaMin))\n",
    "lambdas = 2**np.arange(0, (n-2)+1) * lambdaMin\n",
    "\n",
    "# Define the set of orientations for the Gaussian envelope.\n",
    "dTheta = 2 * np.pi/8                  # \\\\ the step size\n",
    "orientations = np.arange(0, np.pi+dTheta, dTheta)\n",
    "\n",
    "# Define the set of sigmas for the Gaussian envelope. Sigma here defines\n",
    "# the standard deviation, or the spread of the Gaussian.\n",
    "sigmas = np.array([1, 2])\n",
    "\n",
    "# Now you can create the filterbank. We provide you with a Python list\n",
    "# called gaborFilterBank in which we will hold the filters and their\n",
    "# corresponding parameters such as sigma, lambda and etc.\n",
    "# ** All you need to do is to implement createGabor(). Rest will be handled\n",
    "#    by the provided code block. **\n",
    "gaborFilterBank = []\n",
    "tic = time.time()\n",
    "for lmbda in lambdas:\n",
    "    for sigma in sigmas:\n",
    "        for theta in orientations:\n",
    "            # Filter parameter configuration for this filter.\n",
    "            psi = 0\n",
    "            gamma = 0.5\n",
    "\n",
    "            # Create a Gabor filter with the specs above.\n",
    "            # (We also record the settings in which they are created. )\n",
    "            # // TODO: Implement the function createGabor() following\n",
    "            #          the guidelines in the given function template.\n",
    "            #          ** See createGabor.py for instructions ** //\n",
    "            filter_config = {}\n",
    "            filter_config[\"filterPairs\"] = createGabor(\n",
    "                sigma, theta, lmbda, psi, gamma)\n",
    "            filter_config[\"sigma\"] = sigma\n",
    "            filter_config[\"lmbda\"] = lmbda\n",
    "            filter_config[\"theta\"] = theta\n",
    "            filter_config[\"psi\"] = psi\n",
    "            filter_config[\"gamma\"] = gamma\n",
    "            gaborFilterBank.append(filter_config)\n",
    "ctime = time.time() - tic\n",
    "\n",
    "print('--------------------------------------\\n \\t\\tDetails\\n--------------------------------------')\n",
    "print(f'Total number of filters       : {len(gaborFilterBank)}')\n",
    "print(f'Number of scales (sigma)      : {len(sigmas)}')\n",
    "print(f'Number of orientations (theta): {len(orientations)}')\n",
    "print(f'Number of carriers (lambda)   : {len(lambdas)}')\n",
    "print(f'---------------------------------------')\n",
    "print(f'Filter bank created in {ctime} seconds.')\n",
    "print(f'---------------------------------------')\n",
    "\n",
    "# Filter images using Gabor filter bank using quadrature pairs (real and imaginary parts)\n",
    "# You will now filter the input image with each complex Gabor filter in\n",
    "# gaborFilterBank structure and store the output in the cell called\n",
    "# featureMaps.\n",
    "# // Hint-1: Apply both the real imaginary parts of each kernel\n",
    "#            separately in the spatial domain (i.e. over the image). //\n",
    "# // Hint-2: Assign each output (i.e. real and imaginary parts) in\n",
    "#            variables called real_out and imag_out. //\n",
    "# // Hint-3: Use built-in cv2 function, filter2D, to convolve the filter\n",
    "#            with the input image. Check the options for padding. Find\n",
    "#            the one that works well. You might want to\n",
    "#            explain what works better and why shortly in the report.\n",
    "featureMaps = []\n",
    "\n",
    "for gaborFilter in gaborFilterBank:\n",
    "    # gaborFilter[\"filterPairs\"] has two elements. One is related to the real part\n",
    "    # of the Gabor Filter and the other one is the imagineray part.\n",
    "    real_out = cv2.filter2D(img, -1, np.ascontiguousarray(gaborFilter['filterPairs'][:, :, 0]), borderType=cv2.BORDER_REFLECT)  # \\\\TODO: filter the grayscale input with real part of the Gabor\n",
    "    imag_out = cv2.filter2D(img, -1, np.ascontiguousarray(gaborFilter['filterPairs'][:, :, 1]), borderType=cv2.BORDER_REFLECT)  # \\\\TODO: filter the grayscale input with imaginary part of the Gabor\n",
    "    featureMaps.append(np.stack((real_out, imag_out), 2))\n",
    "    \n",
    "    # Visualize the filter responses if you wish.\n",
    "    if visFlag:\n",
    "        fig = plt.figure()\n",
    "\n",
    "        ax = fig.add_subplot(1, 2, 1)\n",
    "        ax.imshow(real_out)    # Real\n",
    "        title = \"Re[h(x,y)], \\n lambda = {0:.4f}, \\n theta = {1:.4f}, \\n sigma = {2:.4f}\".format(\n",
    "            gaborFilter[\"lmbda\"], gaborFilter[\"theta\"], gaborFilter[\"sigma\"])\n",
    "        ax.set_title(title)\n",
    "        ax.axis(\"off\")\n",
    "\n",
    "        ax = fig.add_subplot(1, 2, 2)\n",
    "        ax.imshow(imag_out)    # Real\n",
    "        title = \"Im[h(x,y)], \\n lambda = {0:.4f}, \\n theta = {1:.4f}, \\n sigma = {2:.4f}\".format(\n",
    "            gaborFilter[\"lmbda\"], gaborFilter[\"theta\"], gaborFilter[\"sigma\"])\n",
    "        ax.set_title(title)\n",
    "        ax.axis(\"off\")\n",
    "        plt.show()\n",
    "\n",
    "# Compute the magnitude\n",
    "# Now, you will compute the magnitude of the output responses.\n",
    "# \\\\ Hint: (real_part^2 + imaginary_part^2)^(1/2) \\\\\n",
    "featureMags = []\n",
    "for i, fm in enumerate(featureMaps):\n",
    "    real_part = fm[..., 0]\n",
    "    imag_part = fm[..., 1]\n",
    "    mag = (real_part**2 + imag_part**2)**(1/2)  # \\\\TODO: Compute the magnitude here\n",
    "    featureMags.append(mag)\n",
    "\n",
    "    # Visualize the magnitude response if you wish.\n",
    "    if visFlag:\n",
    "        fig = plt.figure()\n",
    "\n",
    "        ax = fig.add_subplot(1, 1, 1)\n",
    "        ax.imshow(mag.astype(np.uint8))    # visualize magnitude\n",
    "        title = \"Re[h(x,y)], \\n lambda = {0:.4f}, \\n theta = {1:.4f}, \\n sigma = {2:.4f}\".format(gaborFilterBank[i][\"lmbda\"],\n",
    "                                                                                                 gaborFilterBank[i][\"theta\"],\n",
    "                                                                                                 gaborFilterBank[i][\"sigma\"])\n",
    "        ax.set_title(title)\n",
    "        ax.axis(\"off\")\n",
    "\n",
    "# Prepare and Preprocess features\n",
    "# You can think of each filter response as a sort of feature representation\n",
    "# for the pixels. Now that you have numFilters = |gaborFilterBank| filters,\n",
    "# we can represent each pixel by this many features.\n",
    "# \\\\ Q: What kind of features do you think gabor filters might correspond to?\n",
    "\n",
    "# You will now implement a smoothing operation over the magnitude images in\n",
    "# featureMags.\n",
    "# \\\\ Hint: For each i in [1, length(featureMags)], smooth featureMags{i}\n",
    "#          using an appropriate first order Gaussian kernel.\n",
    "# \\\\ Hint: cv2 filter2D function is helpful here.\n",
    "features = np.zeros(shape=(numRows, numCols, len(featureMags)))\n",
    "if smoothingFlag:\n",
    "    # \\\\TODO:\n",
    "    # FOR_LOOP\n",
    "    for i, fmag in enumerate(featureMags):\n",
    "        features[:, :, i] = cv2.Sobel(fmag, cv2.CV_64F, 1, 0,ksize=3)\n",
    "    # i)  filter the magnitude response with appropriate Gaussian kernels\n",
    "    # ii) insert the smoothed image into features[:,:,j]\n",
    "    # END_FOR\n",
    "else:\n",
    "    # Don't smooth but just insert magnitude images into the matrix\n",
    "    # called features.\n",
    "    for i, fmag in enumerate(featureMags):\n",
    "        features[:, :, i] = fmag\n",
    "\n",
    "\n",
    "# Reshape the filter outputs (i.e. tensor called features) of size\n",
    "# [numRows, numCols, numFilters] into a matrix of size [numRows*numCols, numFilters]\n",
    "# This will constitute our data matrix which represents each pixel in the\n",
    "# input image with numFilters features.\n",
    "features = np.reshape(features, newshape=(numRows * numCols, -1))\n",
    "\n",
    "\n",
    "# Standardize features.\n",
    "# \\\\ Hint: see http://ufldl.stanford.edu/wiki/index.php/Data_Preprocessing for more information.\n",
    "\n",
    "# \\\\ TODO: i)  Implement standardization on matrix called features.\n",
    "features = sklearn.preprocessing.scale(features)\n",
    "#          ii) Return the standardized data matrix.\n",
    "\n",
    "\n",
    "# (Optional) Visualize the saliency map using the first principal component\n",
    "# of the features matrix. It will be useful to diagnose possible problems\n",
    "# with the pipeline and filterbank.\n",
    "\n",
    "transformed_feature = PCA(n_components=1).fit_transform(\n",
    "    features)  # select the first component\n",
    "transformed_feature = np.ascontiguousarray(\n",
    "    transformed_feature, dtype=np.float32)\n",
    "feature2DImage = np.reshape(transformed_feature, newshape=(numRows, numCols))\n",
    "plt.figure()\n",
    "plt.title(f'Pixel representation projected onto first PC')\n",
    "plt.imshow(feature2DImage, cmap='gray')\n",
    "plt.axis(\"off\")\n",
    "plt.show()\n",
    "\n",
    "# Apply k-means algorithm to cluster pixels using the data matrix,\n",
    "# features.\n",
    "# \\\\ Hint-1: search about sklearn kmeans function https://scikit-learn.org/stable/modules/generated/sklearn.cluster.KMeans.html.\n",
    "# \\\\ Hint-2: use the parameter k defined in the first section when calling\n",
    "#            sklearn's built-in kmeans function.\n",
    "tic = time.time()\n",
    "pixLabels = KMeans(n_clusters=2).fit_predict(features)  # \\\\TODO: Return cluster labels per pixel\n",
    "ctime = time.time() - tic\n",
    "print(f'Clustering completed in {ctime} seconds.')\n",
    "\n",
    "\n",
    "# Visualize the clustering by reshaping pixLabels into original grayscale\n",
    "# input size [numRows numCols].\n",
    "pixLabels = np.reshape(pixLabels, newshape=(numRows, numCols))\n",
    "\n",
    "plt.figure()\n",
    "plt.title(f'Pixel clusters')\n",
    "plt.imshow(pixLabels)\n",
    "plt.axis(\"off\")\n",
    "plt.show()\n",
    "\n",
    "\n",
    "# Use the pixLabels to visualize segmentation.\n",
    "Aseg1 = np.zeros_like(img)\n",
    "Aseg2 = np.zeros_like(img)\n",
    "# check for the value of your labels in pixLabels (could be 1 or 0 instead of 2)\n",
    "BW = pixLabels == 1\n",
    "# do this only if you have 3 channels in the img\n",
    "# BW = np.repeat(BW[:, :, np.newaxis], 3, axis=2)\n",
    "Aseg1[BW] = img[BW]\n",
    "Aseg2[~BW] = img[~BW]\n",
    "\n",
    "plt.figure()\n",
    "plt.title(f'montage')\n",
    "plt.imshow(Aseg1, 'gray', interpolation='none')\n",
    "plt.imshow(Aseg2, 'jet',  interpolation='none', alpha=0.7)\n",
    "plt.axis(\"off\")\n",
    "plt.show()\n"
   ]
  },
  {
   "cell_type": "code",
   "execution_count": null,
   "metadata": {},
   "outputs": [],
   "source": []
  },
  {
   "cell_type": "code",
   "execution_count": null,
   "metadata": {},
   "outputs": [],
   "source": []
  },
  {
   "cell_type": "code",
   "execution_count": null,
   "metadata": {},
   "outputs": [],
   "source": []
  },
  {
   "cell_type": "code",
   "execution_count": null,
   "metadata": {},
   "outputs": [],
   "source": []
  },
  {
   "cell_type": "code",
   "execution_count": null,
   "metadata": {},
   "outputs": [],
   "source": []
  },
  {
   "cell_type": "code",
   "execution_count": null,
   "metadata": {},
   "outputs": [],
   "source": []
  },
  {
   "cell_type": "code",
   "execution_count": null,
   "metadata": {},
   "outputs": [],
   "source": []
  },
  {
   "cell_type": "code",
   "execution_count": null,
   "metadata": {},
   "outputs": [],
   "source": []
  },
  {
   "cell_type": "code",
   "execution_count": null,
   "metadata": {},
   "outputs": [],
   "source": []
  },
  {
   "cell_type": "code",
   "execution_count": null,
   "metadata": {},
   "outputs": [],
   "source": []
  },
  {
   "cell_type": "code",
   "execution_count": null,
   "metadata": {},
   "outputs": [],
   "source": []
  },
  {
   "cell_type": "code",
   "execution_count": null,
   "metadata": {},
   "outputs": [],
   "source": []
  },
  {
   "cell_type": "code",
   "execution_count": null,
   "metadata": {},
   "outputs": [],
   "source": []
  },
  {
   "cell_type": "code",
   "execution_count": null,
   "metadata": {},
   "outputs": [],
   "source": []
  },
  {
   "cell_type": "code",
   "execution_count": null,
   "metadata": {},
   "outputs": [],
   "source": []
  },
  {
   "cell_type": "code",
   "execution_count": null,
   "metadata": {},
   "outputs": [],
   "source": []
  },
  {
   "cell_type": "code",
   "execution_count": null,
   "metadata": {},
   "outputs": [],
   "source": []
  },
  {
   "cell_type": "code",
   "execution_count": null,
   "metadata": {},
   "outputs": [],
   "source": []
  },
  {
   "cell_type": "code",
   "execution_count": null,
   "metadata": {},
   "outputs": [],
   "source": []
  },
  {
   "cell_type": "code",
   "execution_count": null,
   "metadata": {},
   "outputs": [],
   "source": []
  },
  {
   "cell_type": "code",
   "execution_count": null,
   "metadata": {},
   "outputs": [],
   "source": []
  },
  {
   "cell_type": "code",
   "execution_count": null,
   "metadata": {},
   "outputs": [],
   "source": []
  }
 ],
 "metadata": {
  "colab": {
   "collapsed_sections": [
    "1oBHyce1saAI",
    "V2NtMMr9RSVv",
    "RkT7BklaTUmj",
    "762bvpRYTual",
    "-2ZB6tEeV_Ls",
    "ViVNlHPOa2Jd",
    "eMgRkSaSa-7u",
    "H1mP6EytbZE2",
    "a2fL29EAbaYt",
    "32eQTHQobdGG",
    "WIpIVPE4tvE9",
    "38iQckSqkLjC"
   ],
   "provenance": []
  },
  "kernelspec": {
   "display_name": "Python 3",
   "language": "python",
   "name": "python3"
  },
  "language_info": {
   "codemirror_mode": {
    "name": "ipython",
    "version": 3
   },
   "file_extension": ".py",
   "mimetype": "text/x-python",
   "name": "python",
   "nbconvert_exporter": "python",
   "pygments_lexer": "ipython3",
   "version": "3.8.8"
  }
 },
 "nbformat": 4,
 "nbformat_minor": 1
}
