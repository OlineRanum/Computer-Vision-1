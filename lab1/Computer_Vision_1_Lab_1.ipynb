{
 "cells": [
  {
   "cell_type": "markdown",
   "id": "fa2e566f",
   "metadata": {},
   "source": [
    "<img src=\"https://d3i71xaburhd42.cloudfront.net/261c3e30bae8b8bdc83541ffa9331b52fcf015e6/3-Figure2-1.png\" width=50% >\n",
    "\n",
    "# <center> Assignment 1: Photometric Stereo & Colour </center>\n",
    "<center> Computer Vision 1 University of Amsterdam </center>\n",
    "    <center> Due 23:59 PM, September 17, 2022 (Amsterdam time) </center>\n",
    "    \n",
    "***"
   ]
  },
  {
   "cell_type": "markdown",
   "id": "b1f383ff",
   "metadata": {},
   "source": [
    "## General guidelines\n",
    "Your code and discussion must be submitted through this jupyter notebook, renamed to **StudentID1_StudentID2_StudentID3.ipynb** before the deadline by submitting it to the Canvas Lab 1 Assignment. For full credit, make sure your answer follows these guidelines:\n",
    "- Please express your thoughts concisely. The number of words does not necessarily correlate with how well you understand the concepts.\n",
    "- Answer all given questions.\n",
    "- Try to understand the problem as much as you can. When answering a question, give evidences (qualitative and/or quantitative results, references to papers, figures etc.) to support your arguments. Note that not everything might be explicitly asked for and you are expected to think about what might strengthen you arguments and make your notebook self-contained and complete.\n",
    "- Analyze your results and discuss them, e.g. why algorithm A works better than algorithm B in a certain problem.\n",
    "- Tables and figures must be accompanied by a brief description. Do not forget to add a number, a title, and if applicable name and unit of variables in a table, name and unit of axes and legends in a figure.\n",
    "\n",
    "Late submissions are not allowed. Assignments that are submitted after the strict deadline will not be graded. In case of submission conflicts, TAs’ system clock is taken as reference. We strongly recommend submitting well in advance, to avoid last minute system failure issues.\n",
    "Plagiarism note: Keep in mind that plagiarism (submitted materials which are not your work) is a serious crime and any misconduct shall be punished with the university regulations."
   ]
  },
  {
   "cell_type": "markdown",
   "id": "26a7e047",
   "metadata": {},
   "source": [
    "## 0 Environment Set Up\n",
    "\n",
    "You are allowed to use **only** the following library versions:\n",
    "- python=3.10.4\n",
    "- matplotlib==3.5.3\n",
    "- matplotlib-inline==0.1.6\n",
    "- numpy==1.23.2\n",
    "- opencv-python==4.6.0.66\n",
    "\n",
    "Using functions that are not working in these versions could lead to grade deduction."
   ]
  },
  {
   "cell_type": "markdown",
   "id": "f3fa2dc5",
   "metadata": {},
   "source": [
    "## 1 Photometric Stereo (50pts)\n",
    "\n",
    "In this part of the assignment, you are going to implement the photometric stereo algorithm as described in Section 5.4 (Forsyth and Ponce, *Computer Vision: A Modern Approach*). The chapter snippet can be found in the course materials.\n",
    "\n",
    "Following this instruction, you will have to edit and fill in your code in the functions **estimate_alb_nrm**, **check_integrability**, and **construct_surface**. The main function **photometric_stereo** is provided for reference and should not be taken as is. Throughout the assignment, you will be asked to perform different trials and experiments which will require you to adjust the main code accordingly, this also shows how well you can cope with the materials.\n",
    "\n",
    "Include images of the results into this notebook. For 3D models, make sure to choose a viewpoint that makes the structure as clear as possible and/or feel free to take them from multiple viewpoints."
   ]
  },
  {
   "cell_type": "markdown",
   "id": "7caca639",
   "metadata": {},
   "source": [
    "### 1.1 Estimating Albedo and Surface Normal (15pts)\n",
    "Let us start with the grayscale sphere model, which is located in the SphereGray5 folder. The folder contains 5 images of a sphere with grayscale checker texture under similar lighting conditions with the one in the book. Your task is to estimate the surface reflectance (albedo) and surface normal of this model. The light source directions are encoded in the image file names.\n",
    "\n",
    "1. Complete the code for function **estimate_alb_nrm()** to estimate albedo and surface normal map for the SphereGray5 folder. What do you expect to see in albedo image and how is it different with your result?\n",
    "2. In principle, what is the minimum number of images you need to estimate albedo and surface normal? Run the algorithm with more images by using SphereGray25 and observe the differences in the results. You could try all images at once or a few at the time, in an incremental fashion. Choose a strategy and justify it by discussing your results.\n",
    "3. What is the impact of shadows in photometric stereo? Explain the trick that is used in the text to deal with shadows. Remove that trick and check your results. Is the trick necessary in the case of 5 images, how about 25 images?\n",
    "\n",
    "**Hint**: To get the least-squares solution of a linear system, you can use **numpy.linalg.lstsq** function."
   ]
  },
  {
   "cell_type": "code",
   "execution_count": 2,
   "id": "42e0c3b9",
   "metadata": {},
   "outputs": [],
   "source": [
    "# First some utils we need\n",
    "import os\n",
    "import numpy as np\n",
    "import glob\n",
    "import cv2\n",
    "import matplotlib.pyplot as plt\n",
    "from mpl_toolkits.mplot3d import Axes3D\n",
    "\n",
    "def load_syn_images(image_dir='./images/photometrics_images/SphereGray25/', channel=0):\n",
    "    files = os.listdir(image_dir)\n",
    "    #files = [os.path.join(image_dir, f) for f in files]\n",
    "    nfiles = len(files)\n",
    "    \n",
    "    image_stack = None\n",
    "    V = 0\n",
    "    Z = 0.5\n",
    "    \n",
    "    for i in range(nfiles):\n",
    "        # read input image\n",
    "        im = cv2.imread(os.path.join(image_dir, files[i]))\n",
    "        im = im[:,:,channel]\n",
    "        \n",
    "        # stack at third dimension\n",
    "        if image_stack is None:\n",
    "            h, w = im.shape\n",
    "            print('Image size (H*W): %d*%d' %(h,w) )\n",
    "            image_stack = np.zeros([h, w, nfiles], dtype=int)\n",
    "            V = np.zeros([nfiles, 3], dtype=np.float64)\n",
    "            \n",
    "        image_stack[:,:,i] = im\n",
    "        \n",
    "        # read light direction from image name\n",
    "        X = np.double(files[i][(files[i].find('_')+1):files[i].rfind('_')])\n",
    "        Y = np.double(files[i][files[i].rfind('_')+1:files[i].rfind('.png')])\n",
    "        V[i, :] = [-X, Y, Z]\n",
    "        \n",
    "    # normalization\n",
    "    image_stack = np.double(image_stack)\n",
    "    min_val = np.min(image_stack)\n",
    "    max_val = np.max(image_stack)\n",
    "    image_stack = (image_stack - min_val) / (max_val - min_val)\n",
    "    normV = np.tile(np.sqrt(np.sum(V ** 2, axis=1, keepdims=True)), (1, V.shape[1]))\n",
    "    scriptV = V / normV\n",
    "    \n",
    "    return image_stack, scriptV\n",
    "    \n",
    "    \n",
    "def load_face_images(image_dir='./yaleB02/'):\n",
    "    num_images = 64\n",
    "    filename = os.path.join(image_dir, 'yaleB02_P00_Ambient.pgm')\n",
    "    ambient_image = cv2.imread(filename, -1)\n",
    "    h, w = ambient_image.shape\n",
    "\n",
    "    # get list of all other image files\n",
    "    import glob \n",
    "    d = glob.glob(os.path.join(image_dir, 'yaleB02_P00A*.pgm'))\n",
    "    import random\n",
    "    d = random.sample(d, num_images)\n",
    "    filenames = [os.path.basename(x) for x in d]\n",
    "\n",
    "    ang = np.zeros([2, num_images])\n",
    "    image_stack = np.zeros([h, w, num_images])\n",
    "\n",
    "    for j in range(num_images):\n",
    "        ang[0,j], ang[1,j] = np.double(filenames[j][12:16]), np.double(filenames[j][17:20])\n",
    "        image_stack[...,j] = cv2.imread(os.path.join(image_dir, filenames[j]), -1) - ambient_image\n",
    "\n",
    "\n",
    "    x = np.cos(np.pi*ang[1,:]/180) * np.cos(np.pi*ang[0,:]/180)\n",
    "    y = np.cos(np.pi*ang[1,:]/180) * np.sin(np.pi*ang[0,:]/180)\n",
    "    z = np.sin(np.pi*ang[1,:]/180)\n",
    "    scriptV = np.array([y,z,x]).transpose(1,0)\n",
    "\n",
    "    image_stack = np.double(image_stack)\n",
    "    image_stack[image_stack<0] = 0\n",
    "    min_val = np.min(image_stack)\n",
    "    max_val = np.max(image_stack)\n",
    "    image_stack = (image_stack - min_val) / (max_val - min_val)\n",
    "    \n",
    "    return image_stack, scriptV\n",
    "\n",
    "\n",
    "def load_apple_images(image_dir='./Apples_png/'):\n",
    "    num_images = 100\n",
    "    filename = os.path.join(image_dir, 'I_0000.png')\n",
    "    try_image = cv2.imread(filename, -1)\n",
    "    h, w = try_image[:,:,0].shape\n",
    "\n",
    "    # get list of all other image files\n",
    "    import glob \n",
    "    d = glob.glob(os.path.join(image_dir, 'I_00*.png'))\n",
    "    import random\n",
    "    d = random.sample(d, num_images)\n",
    "    filenames = [os.path.basename(x) for x in d]\n",
    "    filenames_idx = []\n",
    "    for i in filenames:\n",
    "        filenames_idx.append(int(i.split('_')[1].split('.')[0]))\n",
    "\n",
    "    ang = np.zeros([2, num_images])\n",
    "    image_stack = np.zeros([h, w, num_images])\n",
    "\n",
    "    for j in range(num_images):\n",
    "        image_stack[...,j] = cv2.imread(os.path.join(image_dir, filenames[j]), -1)[:,:,0]\n",
    "        \n",
    "    with open('./images/photometrics_images/Apple/light_directions_refined.txt') as file:\n",
    "        lines = [line.split() for line in file]\n",
    "        x, y, z = [], [], []\n",
    "        for idx in filenames_idx:\n",
    "            x.append(float(lines[idx][0]))\n",
    "            y.append(float(lines[idx][1]))\n",
    "            z.append(float(lines[idx][2]))\n",
    "\n",
    "    scriptV = np.array([y,z,x]).transpose(1,0)\n",
    "\n",
    "    image_stack = np.double(image_stack)\n",
    "    image_stack[image_stack<0] = 0\n",
    "    min_val = np.min(image_stack)\n",
    "    max_val = np.max(image_stack)\n",
    "    image_stack = (image_stack - min_val) / (max_val - min_val)\n",
    "    \n",
    "    return image_stack, scriptV\n",
    "    \n",
    "    \n",
    "def show_results(albedo, normals, height_map, SE):\n",
    "    # Stride in the plot, you may want to adjust it to different images\n",
    "    stride = 1\n",
    "    \n",
    "    # showing albedo map\n",
    "    fig = plt.figure()\n",
    "    albedo_max = albedo.max()\n",
    "    albedo_max = 1\n",
    "    albedo = albedo / albedo_max\n",
    "    print(albedo.shape)\n",
    "    plt.imshow(albedo, cmap=\"gray\")\n",
    "    plt.show()\n",
    "    \n",
    "    # showing normals as three separate channels\n",
    "    figure = plt.figure()\n",
    "    ax1 = figure.add_subplot(131)\n",
    "    ax1.imshow(normals[..., 0])\n",
    "    ax2 = figure.add_subplot(132)\n",
    "    ax2.imshow(normals[..., 1])\n",
    "    ax3 = figure.add_subplot(133)\n",
    "    ax3.imshow(normals[..., 2])\n",
    "    plt.show()\n",
    "    \n",
    "    # meshgrid\n",
    "    X, Y, _ = np.meshgrid(np.arange(0,np.shape(normals)[0], stride),\n",
    "    np.arange(0,np.shape(normals)[1], stride),\n",
    "    np.arange(1))\n",
    "    X = X[..., 0]\n",
    "    Y = Y[..., 0]\n",
    "    \n",
    "    '''\n",
    "    =============\n",
    "    You could further inspect the shape of the objects and normal directions by using plt.quiver() function.  \n",
    "    =============\n",
    "    '''\n",
    "    \n",
    "    # plotting the SE\n",
    "    H = SE[::stride,::stride]\n",
    "    fig = plt.figure()\n",
    "    ax = fig.gca(projection='3d')\n",
    "    ax.plot_surface(X,Y, H.T)\n",
    "    plt.show()\n",
    "    \n",
    "    # plotting model geometry\n",
    "    H = height_map[::stride,::stride]\n",
    "    fig = plt.figure()\n",
    "    ax = fig.gca(projection='3d')\n",
    "    ax.plot_surface(X,Y, H.T)\n",
    "    plt.show()\n"
   ]
  },
  {
   "cell_type": "code",
   "execution_count": 3,
   "id": "7c27cb30",
   "metadata": {},
   "outputs": [
    {
     "ename": "FileNotFoundError",
     "evalue": "[Errno 2] No such file or directory: './images/photometrics_images/SphereGray25/'",
     "output_type": "error",
     "traceback": [
      "\u001b[0;31m---------------------------------------------------------------------------\u001b[0m",
      "\u001b[0;31mFileNotFoundError\u001b[0m                         Traceback (most recent call last)",
      "Input \u001b[0;32mIn [3]\u001b[0m, in \u001b[0;36m<cell line: 47>\u001b[0;34m()\u001b[0m\n\u001b[1;32m     45\u001b[0m     \u001b[38;5;28;01mreturn\u001b[39;00m albedo, normal\n\u001b[1;32m     47\u001b[0m \u001b[38;5;28;01mif\u001b[39;00m \u001b[38;5;18m__name__\u001b[39m \u001b[38;5;241m==\u001b[39m \u001b[38;5;124m'\u001b[39m\u001b[38;5;124m__main__\u001b[39m\u001b[38;5;124m'\u001b[39m:\n\u001b[1;32m     48\u001b[0m \u001b[38;5;66;03m#     n = 5\u001b[39;00m\n\u001b[1;32m     49\u001b[0m \u001b[38;5;66;03m#     image_stack = np.zeros([10,10,n])\u001b[39;00m\n\u001b[1;32m     50\u001b[0m \u001b[38;5;66;03m#     scriptV = np.zeros([n,3])\u001b[39;00m\n\u001b[0;32m---> 51\u001b[0m     image_stack, scriptV \u001b[38;5;241m=\u001b[39m \u001b[43mload_syn_images\u001b[49m\u001b[43m(\u001b[49m\u001b[43m)\u001b[49m\n\u001b[1;32m     52\u001b[0m     albedo, normal \u001b[38;5;241m=\u001b[39m estimate_alb_nrm( image_stack, scriptV, shadow_trick\u001b[38;5;241m=\u001b[39m\u001b[38;5;28;01mTrue\u001b[39;00m)\n",
      "Input \u001b[0;32mIn [2]\u001b[0m, in \u001b[0;36mload_syn_images\u001b[0;34m(image_dir, channel)\u001b[0m\n\u001b[1;32m      9\u001b[0m \u001b[38;5;28;01mdef\u001b[39;00m \u001b[38;5;21mload_syn_images\u001b[39m(image_dir\u001b[38;5;241m=\u001b[39m\u001b[38;5;124m'\u001b[39m\u001b[38;5;124m./images/photometrics_images/SphereGray25/\u001b[39m\u001b[38;5;124m'\u001b[39m, channel\u001b[38;5;241m=\u001b[39m\u001b[38;5;241m0\u001b[39m):\n\u001b[0;32m---> 10\u001b[0m     files \u001b[38;5;241m=\u001b[39m \u001b[43mos\u001b[49m\u001b[38;5;241;43m.\u001b[39;49m\u001b[43mlistdir\u001b[49m\u001b[43m(\u001b[49m\u001b[43mimage_dir\u001b[49m\u001b[43m)\u001b[49m\n\u001b[1;32m     11\u001b[0m     \u001b[38;5;66;03m#files = [os.path.join(image_dir, f) for f in files]\u001b[39;00m\n\u001b[1;32m     12\u001b[0m     nfiles \u001b[38;5;241m=\u001b[39m \u001b[38;5;28mlen\u001b[39m(files)\n",
      "\u001b[0;31mFileNotFoundError\u001b[0m: [Errno 2] No such file or directory: './images/photometrics_images/SphereGray25/'"
     ]
    }
   ],
   "source": [
    "def estimate_alb_nrm( image_stack, scriptV, shadow_trick=True):\n",
    "    \n",
    "    # COMPUTE_SURFACE_GRADIENT compute the gradient of the surface\n",
    "    # INPUT:\n",
    "    # image_stack : the images of the desired surface stacked up on the 3rd dimension\n",
    "    # scriptV : matrix V (in the algorithm) of source and camera information\n",
    "    # shadow_trick: (true/false) whether or not to use shadow trick in solving linear equations\n",
    "    # OUTPUT:\n",
    "    # albedo : the surface albedo\n",
    "    # normal : the surface normal\n",
    "\n",
    "    h, w, _ = image_stack.shape\n",
    "    \n",
    "    # create arrays for \n",
    "    # albedo (1 channel)\n",
    "    # normal (3 channels)\n",
    "    albedo = np.zeros([h, w])\n",
    "    normal = np.zeros([h, w, 3])\n",
    "    \n",
    "    \"\"\"\n",
    "    ================\n",
    "    Your code here\n",
    "    ================\n",
    "    for each point in the image array\n",
    "        stack image values into a vector i\n",
    "        construct the diagonal matrix scriptI\n",
    "        solve scriptI * scriptV * g = scriptI * i to obtain g for this point\n",
    "        albedo at this point is |g|\n",
    "        normal at this point is g / |g|\n",
    "    \"\"\"\n",
    "    for k in range(h):\n",
    "        for l in range(w):\n",
    "            i = image_stack[k, l, :]\n",
    "            scriptI = np.diag(i)\n",
    "            \n",
    "            if shadow_trick:\n",
    "                g = np.linalg.lstsq(scriptI@scriptV, scriptI@i, rcond=None)[0]\n",
    "            else:\n",
    "                g = np.linalg.lstsq(scriptV, i, rcond=None)[0]\n",
    "                \n",
    "            norm = np.linalg.norm(g)\n",
    "            albedo[k, l] = norm\n",
    "            normal[k, l] = 0 if norm == 0 else g/norm\n",
    "    \n",
    "    return albedo, normal\n",
    "    \n",
    "if __name__ == '__main__':\n",
    "#     n = 5\n",
    "#     image_stack = np.zeros([10,10,n])\n",
    "#     scriptV = np.zeros([n,3])\n",
    "    image_stack, scriptV = load_syn_images()\n",
    "    albedo, normal = estimate_alb_nrm( image_stack, scriptV, shadow_trick=True)"
   ]
  },
  {
   "cell_type": "markdown",
   "id": "2f0425a1",
   "metadata": {},
   "source": [
    "### 1.2 Test of Integrability (10pts)\n",
    "\n",
    "Before we can reconstruct the surface height map, it is required to compute the partial derivatives $\\frac{\\delta f}{\\delta x}$ and $\\frac{\\delta f}{\\delta y}$ (or *p* and *q* in the algorithm). The partial derivatives also give us a chance to double check our computation, namely the test of *integrability*.\n",
    "\n",
    "1. Compute the partial derivatives (p and q in the algorithm) by filling in your code into **check_integrability()**."
   ]
  },
  {
   "cell_type": "code",
   "execution_count": null,
   "id": "6652c1fb",
   "metadata": {},
   "outputs": [],
   "source": [
    "def check_integrability(normals):\n",
    "    #  CHECK_INTEGRABILITY check the surface gradient is acceptable\n",
    "    #   normals: normal image\n",
    "    #   p : df / dx\n",
    "    #   q : df / dy\n",
    "    #   SE : Squared Errors of the 2 second derivatives\n",
    "\n",
    "    # initalization\n",
    "    p = np.zeros(normals.shape[:2])\n",
    "    q = np.zeros(normals.shape[:2])\n",
    "    SE = np.zeros(normals.shape[:2])\n",
    "    \n",
    "    \"\"\"\n",
    "    ================\n",
    "    Your code here\n",
    "    ================\n",
    "    Compute p and q, where\n",
    "    p measures value of df / dx\n",
    "    q measures value of df / dy\n",
    "    \n",
    "    \"\"\"\n",
    "    for i in range(normals.shape[0]):\n",
    "        for j in range(normals.shape[1]):\n",
    "            norm_vector = normals[i, j]\n",
    "            p[i, j] = norm_vector[0]/norm_vector[2]\n",
    "            q[i, j] = norm_vector[1]/norm_vector[2]\n",
    "            \n",
    "    # change nan to 0\n",
    "    p[p!=p] = 0\n",
    "    q[q!=q] = 0\n",
    "    \n",
    "    \"\"\"\n",
    "    ================\n",
    "    Your code here\n",
    "    ================\n",
    "    approximate second derivate by neighbor difference\n",
    "    and compute the Squared Errors SE of the 2 second derivatives SE\n",
    "    \n",
    "    \"\"\"\n",
    "    # differentiating p with respect to y \n",
    "    py = np.zeros(p.shape)\n",
    "    for col in range(p.shape[1]):\n",
    "        py[:, col] = np.gradient(p[:, col])\n",
    "    \n",
    "    qx = np.zeros(p.shape)\n",
    "    for row in range(q.shape[0]):\n",
    "        py[row, :] = np.gradient(q[row, :])\n",
    "#     py = cv2.Sobel(p, ddepth=-1, dx = 0, dy = 1, ksize = 3)\n",
    "    # differentiating q with respect to x\n",
    "#     qx = cv2.Sobel(q, ddepth=-1, dx = 1, dy = 0, ksize = 3)\n",
    "    SE = (py - qx)**2\n",
    "\n",
    "    return p, q, SE\n",
    "\n",
    "if __name__ == '__main__':\n",
    "#     normals = np.zeros([10,10,3])\n",
    "    p, q, SE = check_integrability(normal)"
   ]
  },
  {
   "cell_type": "markdown",
   "id": "979f6d09",
   "metadata": {},
   "source": [
    "2. Implement and compute the second derivatives according to the algorithm and perform the test of integrability by choosing a reasonable threshold. What could be the reasons for the errors? How does the test perform with different number of images used in the reconstruction process in Question 1?"
   ]
  },
  {
   "cell_type": "markdown",
   "id": "7eb87a7e",
   "metadata": {},
   "source": [
    "*Write your answer here*"
   ]
  },
  {
   "cell_type": "markdown",
   "id": "497a42de",
   "metadata": {},
   "source": [
    "### 1.3 Shape by Integration (10pts)\n",
    "To reconstruct the surface height map, we need to continuously integrate the partial derivatives over a path. However, as we are working with discrete structures, you will be simply summing their values.\n",
    "\n",
    "The algorithm in the chapter presents a way to do the integration in column-major order, that is you start at the top-left corner and integrate along the first column, then go towards right along each row. Yet, it is also noticed that it would be better to use many different paths and average so as to spread around the errors in the derivative estimates.\n",
    "\n",
    "1. Construct the surface height map using column-major order as described in the algorithm, then implement row-major path integration. Your code should now go to **construct_surface()**.\n",
    "\n",
    "**Note**: By default, Numpy used row-major operations. So if you are unrolling an image to linearize the operation, you will end up with a row-major representation. Numpy can be configured to be column-major. Otherwise, if you are using the double for-loops without an unrolling operation, then this concern doesn’t apply.\n",
    "\n",
    "**Hint**: You could further inspect the shape of the objects and normal directions by using **matplotlib.pyplot.quiver** function. You will have to choose appropriate sub-sampling ratios for proper illustration. You code goes to the **show_results()** in the first code cell."
   ]
  },
  {
   "cell_type": "code",
   "execution_count": null,
   "id": "58aaf5bc",
   "metadata": {},
   "outputs": [],
   "source": [
    "def construct_surface(p, q, path_type='column'):\n",
    "\n",
    "    '''\n",
    "    CONSTRUCT_SURFACE construct the surface function represented as height_map\n",
    "       p : measures value of df / dx\n",
    "       q : measures value of df / dy\n",
    "       path_type: type of path to construct height_map, either 'column',\n",
    "       'row', or 'average'\n",
    "       height_map: the reconstructed surface\n",
    "    '''\n",
    "    \n",
    "    h, w = p.shape\n",
    "    height_map = np.zeros([h, w])\n",
    "    \n",
    "    if path_type=='column':\n",
    "        \"\"\"\n",
    "        ================\n",
    "        Your code here\n",
    "        ================\n",
    "        % top left corner of height_map is zero\n",
    "        % for each pixel in the left column of height_map\n",
    "        %   height_value = previous_height_value + corresponding_q_value\n",
    "        \n",
    "        % for each row\n",
    "        %   for each element of the row except for leftmost\n",
    "        %       height_value = previous_height_value + corresponding_p_value\n",
    "        \n",
    "        \"\"\"\n",
    "        height_map = integrate_column_path(height_map, h, w, p, q)\n",
    "        \n",
    "    elif path_type=='row':\n",
    "        \"\"\"\n",
    "        ================\n",
    "        Your code here\n",
    "        ================\n",
    "        \"\"\"\n",
    "        height_map = integrate_row_path(height_map, h, w, p, q)\n",
    "\n",
    "                \n",
    "    elif path_type=='average':\n",
    "        \"\"\"\n",
    "        ================\n",
    "        Your code here\n",
    "        ================\n",
    "        \"\"\"\n",
    "        height_map_column = integrate_column_path(np.zeros([h, w]), h, w, p, q)\n",
    "        height_map_row = integrate_row_path(np.zeros([h, w]), h, w, p, q)\n",
    "        height_map = (height_map_column+height_map_row)/2\n",
    "        \n",
    "    return height_map\n",
    "\n",
    "def integrate_column_path(height_map, h, w, p, q):\n",
    "    height_map[0, 0] = 0\n",
    "    for i in range(1, h):\n",
    "        height_map[i, 0] = height_map[i-1, 0] + q[i, 0]\n",
    "\n",
    "    for i in range(h):\n",
    "        for j in range(1, w):\n",
    "            height_map[i, j] = height_map[i, j-1] + p[i, j]\n",
    "    \n",
    "    return height_map\n",
    "\n",
    "def integrate_row_path(height_map, h, w, p, q):\n",
    "    height_map[0, 0] = 0\n",
    "    for i in range(1, w):\n",
    "        height_map[0, i] = height_map[0, i-1] + p[0, i]\n",
    "\n",
    "    for i in range(w):\n",
    "        for j in range(1, h):\n",
    "            height_map[i, j] = height_map[i-1, j] + q[i, j]\n",
    "\n",
    "    return height_map"
   ]
  },
  {
   "cell_type": "markdown",
   "id": "1389c62a",
   "metadata": {},
   "source": [
    "2. What are the differences in the results of the two paths?\n"
   ]
  },
  {
   "cell_type": "markdown",
   "id": "1d2d1a05",
   "metadata": {},
   "source": [
    "*Write your answer here*"
   ]
  },
  {
   "cell_type": "markdown",
   "id": "dc400508",
   "metadata": {},
   "source": [
    "3. Now, take the average of the results. Do you see any improvement compared to when using only one path? Are the construction results different with different number of images being used?"
   ]
  },
  {
   "cell_type": "markdown",
   "id": "aea353ec",
   "metadata": {},
   "source": [
    "*Write your answer here*"
   ]
  },
  {
   "cell_type": "markdown",
   "id": "f39a92cb",
   "metadata": {},
   "source": [
    "### 1.4 Experiments with different objects (15pts)\n",
    "In this part, you will try to run the photometric stereo algorithm in various number of scenarios to see how well it can be generalized.\n",
    "\n",
    "1. Run the algorithm and show the results for the MonkeyGray model. "
   ]
  },
  {
   "cell_type": "code",
   "execution_count": null,
   "id": "51a81909",
   "metadata": {},
   "outputs": [],
   "source": [
    "def photometric_stereo(image_dir='./images/photometrics_images/SphereGray5/' ):\n",
    "\n",
    "    # obtain many images in a fixed view under different illumination\n",
    "    print('Loading images...\\n')\n",
    "    [image_stack, scriptV] = load_syn_images(image_dir)\n",
    "    [h, w, n] = image_stack.shape\n",
    "    print('Finish loading %d images.\\n' % n)\n",
    "\n",
    "    # compute the surface gradient from the stack of imgs and light source mat\n",
    "    print('Computing surface albedo and normal map...\\n')\n",
    "    [albedo, normals] = estimate_alb_nrm(image_stack, scriptV)\n",
    "\n",
    "\n",
    "    # integrability check: is (dp / dy  -  dq / dx) ^ 2 small everywhere?\n",
    "    print('Integrability checking\\n')\n",
    "    [p, q, SE] = check_integrability(normals)\n",
    "\n",
    "    threshold = 0.005;\n",
    "    print('Number of outliers: %d\\n' % np.sum(SE > threshold))\n",
    "    SE[SE <= threshold] = float('nan') # for good visualization\n",
    "\n",
    "    # compute the surface height\n",
    "    height_map = construct_surface( p, q )\n",
    "\n",
    "    # show results\n",
    "    show_results(albedo, normals, height_map, SE)\n",
    "\n",
    "## Face\n",
    "def photometric_stereo_face(image_dir='./images/photometrics_images/yaleB02/'):\n",
    "    [image_stack, scriptV] = load_face_images(image_dir)\n",
    "    [h, w, n] = image_stack.shape\n",
    "    print('Finish loading %d images.\\n' % n)\n",
    "    print('Computing surface albedo and normal map...\\n')\n",
    "    albedo, normals = estimate_alb_nrm(image_stack, scriptV)\n",
    "\n",
    "    # integrability check: is (dp / dy  -  dq / dx) ^ 2 small everywhere?\n",
    "    print('Integrability checking')\n",
    "    p, q, SE = check_integrability(normals)\n",
    "\n",
    "    threshold = 0.005;\n",
    "    print('Number of outliers: %d\\n' % np.sum(SE > threshold))\n",
    "    SE[SE <= threshold] = float('nan') # for good visualization\n",
    "\n",
    "    # compute the surface height\n",
    "    height_map = construct_surface(p, q )\n",
    "\n",
    "    # show results\n",
    "    show_results(albedo, normals, height_map, SE)\n",
    "    \n",
    "## Apple\n",
    "def photometric_stereo_apple(image_dir='./images/photometrics_images/Apple/'):\n",
    "    [image_stack, scriptV] = load_apple_images(image_dir)\n",
    "    [h, w, n] = image_stack.shape\n",
    "    print('Finish loading %d images.\\n' % n)\n",
    "    print('Computing surface albedo and normal map...\\n')\n",
    "    albedo, normals = estimate_alb_nrm(image_stack, scriptV)\n",
    "\n",
    "    # integrability check: is (dp / dy  -  dq / dx) ^ 2 small everywhere?\n",
    "    print('Integrability checking')\n",
    "    p, q, SE = check_integrability(normals)\n",
    "\n",
    "    threshold = 0.005;\n",
    "    print('Number of outliers: %d\\n' % np.sum(SE > threshold))\n",
    "    SE[SE <= threshold] = float('nan') # for good visualization\n",
    "\n",
    "    # compute the surface height\n",
    "    height_map = construct_surface(p, q )\n",
    "\n",
    "    # show results\n",
    "    show_results(albedo, normals, height_map, SE)\n",
    "\n",
    "    \n",
    "if __name__ == '__main__':\n",
    "    photometric_stereo()\n",
    "    photometric_stereo('./images/photometrics_images/SphereGray25/')\n",
    "    photometric_stereo_face()\n",
    "    photometric_stereo_apple()\n"
   ]
  },
  {
   "cell_type": "markdown",
   "id": "09c44adc",
   "metadata": {},
   "source": [
    "2. The albedo results of the monkey may comprise more albedo errors than in case of the sphere. Observe and describe the errors. What could be the reason for those errors? You may want to experiment with different number of images as you did in Question 1 to see the effects. "
   ]
  },
  {
   "cell_type": "markdown",
   "id": "5300d077",
   "metadata": {},
   "source": [
    "*Write your answer here*"
   ]
  },
  {
   "cell_type": "markdown",
   "id": "75d9e17d",
   "metadata": {},
   "source": [
    "3. How do you think that could help solving these errors?"
   ]
  },
  {
   "cell_type": "markdown",
   "id": "e378f616",
   "metadata": {},
   "source": [
    "*Write your answer here*"
   ]
  },
  {
   "cell_type": "markdown",
   "id": "e8d05c2b",
   "metadata": {},
   "source": [
    "So far, we have assumed that albedos are 1-channel grayscale images and that input images are also 1-channel. To work with 3-channel images, a simple solution is to split the input image into separate channels and treat them individually. Yet, that would generate a small problem while constructing the surface normal map if a pixel value in a channel is zero.\n",
    "\n",
    "1. Update the implementation to work for 3-channel RGB inputs and test it with 2 models SphereColor and MonkeyColor. \n",
    "2. Explain your changes and show your results. "
   ]
  },
  {
   "cell_type": "markdown",
   "id": "7da16d95",
   "metadata": {},
   "source": [
    "*Write your answer here*"
   ]
  },
  {
   "cell_type": "markdown",
   "id": "388254ec",
   "metadata": {},
   "source": [
    "3. Observe the problem in the constructed surface normal map and height map, explain why a zero pixel could be a problem and propose a way to overcome that."
   ]
  },
  {
   "cell_type": "markdown",
   "id": "c3405a82",
   "metadata": {},
   "source": [
    "*Write your answer here*"
   ]
  },
  {
   "cell_type": "markdown",
   "id": "384d6338",
   "metadata": {},
   "source": [
    "Now, it's the time to try the algorithm on real-world datasets. For that purpose, we are going to use the [Yale Face Database](http://cvc.cs.yale.edu/cvc/projects/yalefaces/yalefaces.html)\n",
    "\n",
    "1. Run the algorithm for the Yale Face images (included in the lab material). \n",
    "2. Observe and discuss the results for different integration paths. \n",
    "\n",
    "**Hint**: For proper computation of albedo and surface normal, you may want to suspend the shadow trick described in the text, and use the original formula:\n",
    "$$i = Vg(x,y)$$"
   ]
  },
  {
   "cell_type": "markdown",
   "id": "8df034f7",
   "metadata": {},
   "source": [
    "*Write your answer here*"
   ]
  },
  {
   "cell_type": "markdown",
   "id": "edf4f6ea",
   "metadata": {},
   "source": [
    "3. Discuss how the images violate the assumptions of the shape-from-shading methods. Remember to include specific input images to illustrate your points. \n"
   ]
  },
  {
   "cell_type": "markdown",
   "id": "581e71de",
   "metadata": {},
   "source": [
    "*Write your answer here*"
   ]
  },
  {
   "cell_type": "markdown",
   "id": "fcc40200",
   "metadata": {},
   "source": [
    "4. How would the results improve when the problematic images are all removed? Try it out and show the results here."
   ]
  },
  {
   "cell_type": "markdown",
   "id": "619e1c89",
   "metadata": {},
   "source": [
    "*Write your answer here*"
   ]
  },
  {
   "cell_type": "markdown",
   "id": "b15dde1f",
   "metadata": {},
   "source": [
    "Finally, show your results on real-world 3-channel RGB inputs, contained in the \"Apple\" folder, taken from [this dataset](http://vision.ucsd.edu/~nalldrin/research/cvpr08/datasets/) from the University of California San Diego."
   ]
  },
  {
   "cell_type": "markdown",
   "id": "cdbeaf07",
   "metadata": {},
   "source": [
    "1. Observe and discuss the results for different integration paths. "
   ]
  },
  {
   "cell_type": "markdown",
   "id": "b5896dbe",
   "metadata": {},
   "source": [
    "## 2 Colour Spaces (20pts)\n",
    "\n",
    "In this part of the assignment, you will study the different colour spaces for image representations and experiment how to convert a given RGB image to a specific colour space.\n",
    "\n",
    "### 2.1 RGB Colour Model (3pts)\n",
    "\n",
    "Why do we use RGB colour model as a basis of our digital cameras and photography? How does a standard digital camera capture the full RGB colour image?\n",
    "\n",
    "Red, Green and Blue are the three primary colours that can be blended or added into a very broad range of colours, thus a large space of images can be represented by just multiple sets of 3 8-bit integers. The RGB model is also based on how humans perceive colour. A human eye has 3 different types of cones. These three colour sensors are especially focused on the colours Red, Green and Blue (though Red and Green are by far the most pre-dominant among the cones). A standard digital camera uses either CCD or CMOS to capture the full RGB colour image. They work by converting electromagnetic radiations emitted by lightwaves into electrical charges/voltages. \n",
    "\n",
    "### 2.2 Colour Space Conversion (10pts)\n",
    "\n",
    "Create a function to convert an RGB image into the following colour spaces by using the template code you are provided at the ConvertColourSpace function and other sub-functions. Visualize the new image and its channels separately in the same figure. That is, for example, in the case of HSV colour space, you need to visualize the converted HSV image, and its Hue, Saturation and Value channels separately (4 images, 1 figure). Do not change the already given code.\n",
    "\n",
    "__Opponent Colour Space__\n",
    "\n",
    "$\\begin{pmatrix}\n",
    "O_1 \\\\\n",
    "O_2 \\\\\n",
    "O_3 \n",
    "\\end{pmatrix}$ = $\\begin{pmatrix}\n",
    "\\frac{R-G}{\\sqrt{2}} \\\\\n",
    "\\frac{R+G-2B}{\\sqrt{6}} \\\\\n",
    "\\frac{R+G+B}{\\sqrt{3}} \n",
    "\\end{pmatrix}$ \n",
    "\n",
    "__Normalized RGB (rgb) Colour Space__\n",
    "\n",
    "$\\begin{pmatrix}\n",
    "r \\\\\n",
    "g \\\\\n",
    "b \n",
    "\\end{pmatrix}$ = $\\begin{pmatrix}\n",
    "\\frac{R}{R+G+B} \\\\\n",
    "\\frac{G}{R+G+B} \\\\\n",
    "\\frac{B}{R+G+B} \n",
    "\\end{pmatrix}$ \n",
    "\n",
    "__HSV Colour Space__\n",
    "\n",
    "Convert the RGB image into HSV Colour Space. Use OpenCV’s built-in function *cv2.cvtColor(img, cv2.RGB2HSV)*.\n",
    "\n",
    "__YCbCr Colour Space__\n",
    "\n",
    "Convert the RGB image into YCbCr Colour Space. Use OpenCV’s built-in function *cv2.cvtColor(img, cv2.RGB2YCrCb)*. Note, you need to arrange the channels in $Y, C_b$ and $C_r$ order.\n",
    "\n",
    "__Grayscale__\n",
    "\n",
    "Convert the RGB image into grayscale by using 3 different methods mentioned in\n",
    "https://www.johndcook.com/blog/2009/08/24/algorithms-convert-color-grayscale/\n",
    "In the end, check and report which method OpenCV uses for grayscale conversion, include it as well, and visualize all 4 in the same figure.\n",
    "\n",
    "\n"
   ]
  },
  {
   "cell_type": "code",
   "execution_count": 4,
   "id": "1abeaed6",
   "metadata": {},
   "outputs": [],
   "source": [
    "def rgb2grays(input_image):\n",
    "    # converts an RGB into grayscale by using 4 different methods\n",
    "    R, G, B = getColourChannels(input_image)\n",
    "    new_image = np.empty((input_image.shape[0], input_image.shape[1], 4))\n",
    "    \n",
    "    # ligtness method\n",
    "    new_image[:, :, 0] = (np.max(input_image, axis=2) + np.min(input_image, axis=2)) / 2\n",
    "\n",
    "    # average method\n",
    "    new_image[:, :, 1] = (R + G + B)/3\n",
    "\n",
    "    # luminosity method\n",
    "    new_image[:, :, 2] = 0.21*R + 0.72*G + 0.07*B\n",
    "\n",
    "    # built-in opencv function\n",
    "    new_image[:, :, 3] = cv2.cvtColor(input_image, cv2.COLOR_RGB2GRAY)\n",
    "\n",
    "    return new_image\n",
    "\n",
    "\n",
    "def rgb2opponent(input_image):\n",
    "    # converts an RGB image into opponent colour space\n",
    "    R, G, B = getColourChannels(input_image)\n",
    "    new_image = np.empty(input_image.shape)\n",
    "    new_image[:, :, 0] = (R-G)/np.sqrt(2)\n",
    "    new_image[:, :, 1] = (R+G-2*B)/np.sqrt(6)\n",
    "    new_image[:, :, 2] = (R+G+B)/np.sqrt(3)\n",
    "    return new_image\n",
    "\n",
    "\n",
    "def rgb2normedrgb(input_image):\n",
    "    # converts an RGB image into normalized rgb colour space\n",
    "    R, G, B = getColourChannels(input_image)\n",
    "    RGB_total = R + G + B\n",
    "    new_image = np.empty(input_image.shape)\n",
    "    new_image[:, :, 0] = R/RGB_total\n",
    "    new_image[:, :, 1] = G/RGB_total\n",
    "    new_image[:, :, 2] = B/RGB_total\n",
    "    \n",
    "    return new_image\n",
    "\n",
    "\n",
    "def getColourChannels(input_image):\n",
    "\n",
    "    R = input_image[:, :, 0]\n",
    "    G = input_image[:, :, 1]\n",
    "    B = input_image[:, :, 2]\n",
    "\n",
    "    return [R, G, B]"
   ]
  },
  {
   "cell_type": "code",
   "execution_count": 5,
   "id": "5ff21289",
   "metadata": {},
   "outputs": [],
   "source": [
    "def visualize(input_image):\n",
    "    # Fill in this function. Remember to remove the pass command\n",
    "    fig, axis = plt.subplots(2, 2)\n",
    "    fig.tight_layout()\n",
    "    axis[0, 0].imshow(input_image)\n",
    "    axis[0, 0].set_title('Full image with new colourspace')\n",
    "    axis[0, 1].imshow(input_image[:, :, 0])\n",
    "    axis[0, 1].set_title('First dimension of colourspace')\n",
    "    axis[1, 0].imshow(input_image[:, :, 1])\n",
    "    axis[1, 0].set_title('Second dimension of colourspace')\n",
    "    axis[1, 1].imshow(input_image[:, :, 2])\n",
    "    axis[1, 1].set_title('Third dimension of colourspace')\n",
    "    \n",
    "def visualize_grayscale(input_image):\n",
    "    fig, axis = plt.subplots(2, 2)\n",
    "    fig.tight_layout()\n",
    "    axis[0, 0].imshow(input_image[:, :, 0], cmap='gray')\n",
    "    axis[0, 0].set_title('Lightness grayscale')\n",
    "    axis[0, 1].imshow(input_image[:, :, 1], cmap='gray')\n",
    "    axis[0, 1].set_title('Average grayscale')\n",
    "    axis[1, 0].imshow(input_image[:, :, 2], cmap='gray')\n",
    "    axis[1, 0].set_title('Luminosity grayscale')\n",
    "    axis[1, 1].imshow(input_image[:, :, 3], cmap='gray')\n",
    "    axis[1, 1].set_title('OpenCV grayscale')"
   ]
  },
  {
   "cell_type": "code",
   "execution_count": 6,
   "id": "d17101c3",
   "metadata": {},
   "outputs": [
    {
     "name": "stderr",
     "output_type": "stream",
     "text": [
      "[ WARN:0@2.136] global /io/opencv/modules/imgcodecs/src/loadsave.cpp (239) findDecoder imread_('images/awb/awb.jpg'): can't open/read file: check file path/integrity\n"
     ]
    },
    {
     "ename": "TypeError",
     "evalue": "'NoneType' object is not subscriptable",
     "output_type": "error",
     "traceback": [
      "\u001b[0;31m---------------------------------------------------------------------------\u001b[0m",
      "\u001b[0;31mTypeError\u001b[0m                                 Traceback (most recent call last)",
      "Input \u001b[0;32mIn [6]\u001b[0m, in \u001b[0;36m<cell line: 53>\u001b[0;34m()\u001b[0m\n\u001b[1;32m     57\u001b[0m I \u001b[38;5;241m=\u001b[39m cv2\u001b[38;5;241m.\u001b[39mimread(img_path)\n\u001b[1;32m     58\u001b[0m \u001b[38;5;66;03m# Convert from BGR to RGB\u001b[39;00m\n\u001b[1;32m     59\u001b[0m \u001b[38;5;66;03m# This is a shorthand.\u001b[39;00m\n\u001b[0;32m---> 60\u001b[0m I \u001b[38;5;241m=\u001b[39m \u001b[43mI\u001b[49m\u001b[43m[\u001b[49m\u001b[43m:\u001b[49m\u001b[43m,\u001b[49m\u001b[43m \u001b[49m\u001b[43m:\u001b[49m\u001b[43m,\u001b[49m\u001b[43m \u001b[49m\u001b[43m:\u001b[49m\u001b[43m:\u001b[49m\u001b[38;5;241;43m-\u001b[39;49m\u001b[38;5;241;43m1\u001b[39;49m\u001b[43m]\u001b[49m\n\u001b[1;32m     62\u001b[0m out_img \u001b[38;5;241m=\u001b[39m ConvertColourSpace(I, \u001b[38;5;124m'\u001b[39m\u001b[38;5;124mycbcr\u001b[39m\u001b[38;5;124m'\u001b[39m)\n",
      "\u001b[0;31mTypeError\u001b[0m: 'NoneType' object is not subscriptable"
     ]
    }
   ],
   "source": [
    "def ConvertColourSpace(input_image, colourspace):\n",
    "    '''\n",
    "    Converts an RGB image into a specified color space, visualizes the\n",
    "    color channels and returns the image in its new color space.\n",
    "\n",
    "    Colorspace options:\n",
    "      opponent\n",
    "      rgb -> for normalized RGB\n",
    "      hsv\n",
    "      ycbcr\n",
    "      gray\n",
    "\n",
    "    P.S: Do not forget the visualization part!\n",
    "    '''\n",
    "\n",
    "    # Convert the image into double precision for conversions\n",
    "    input_image = input_image.astype(np.float32)\n",
    "\n",
    "    if colourspace.lower() == 'opponent':\n",
    "        # fill in the rgb2opponent function\n",
    "        new_image = rgb2opponent(input_image)\n",
    "\n",
    "    elif colourspace.lower() == 'rgb':\n",
    "        # fill in the rgb2normedrgb function\n",
    "        new_image = rgb2normedrgb(input_image)\n",
    "\n",
    "    elif colourspace.lower() == 'hsv':\n",
    "        # use built-in function from opencv\n",
    "        new_image = cv2.cvtColor(input_image, cv2.COLOR_RGB2HSV)\n",
    "\n",
    "    elif colourspace.lower() == 'ycbcr':\n",
    "        # use built-in function from opencv\n",
    "        new_image = cv2.cvtColor(input_image, cv2.COLOR_RGB2YCrCb)\n",
    "        cb, cr = new_image[:, :, 2], new_image[:, :, 1]\n",
    "        new_image[:, :, 1] = cb\n",
    "        new_image[:, :, 2] = cr\n",
    "\n",
    "    elif colourspace.lower() == 'gray':\n",
    "        # fill in the rgb2grays function\n",
    "        new_image = rgb2grays(input_image)\n",
    "        visualize_grayscale(new_image)\n",
    "        return new_image\n",
    "\n",
    "    else:\n",
    "        print('Error: Unknown colorspace type [%s]...' % colourspace)\n",
    "        new_image = input_image\n",
    "\n",
    "    visualize(new_image)\n",
    "\n",
    "    return new_image\n",
    "\n",
    "\n",
    "if __name__ == '__main__':\n",
    "    ## Replace the image name with a valid image\n",
    "    img_path = 'images/awb/awb.jpg'\n",
    "    # Read with opencv\n",
    "    I = cv2.imread(img_path)\n",
    "    # Convert from BGR to RGB\n",
    "    # This is a shorthand.\n",
    "    I = I[:, :, ::-1]\n",
    "\n",
    "    out_img = ConvertColourSpace(I, 'ycbcr')\n"
   ]
  },
  {
   "cell_type": "markdown",
   "id": "b378a05e",
   "metadata": {},
   "source": [
    "<b>What grayscale does OpenCV use?</b> OpenCV uses the luminosity grayscale."
   ]
  },
  {
   "cell_type": "markdown",
   "id": "b283cd2f",
   "metadata": {},
   "source": [
    "### 2.3 Colour Space Properties (5pts)\n",
    "\n",
    "Explain each of those 5 colour spaces and their properties. What are the benefits of using a different colour space other than RGB? Provide reasons for each of the above cases. You can include your observations from the visualizations."
   ]
  },
  {
   "cell_type": "markdown",
   "id": "ceae5311",
   "metadata": {},
   "source": [
    "<b>Grayscale</b>: Grayscale expresses the image in one single matrix of 8bit integers or 0 through 1 floats. Zero indicates totally black, one indicates totally white. It saves space by only using a single dimension of colour. Contrast is also preserved and now expressed in a single matrix, which makes it easier to do feature extraction by i.e. taking derivatives of the image. \n",
    "\n",
    "<b>YCbCr</b>: YCbCr consists of three components like RGB. Y is the luma of the image; it determines the black-to-white brightness of an image. This brightness is combined with the two other parts, namely the blue chrominance (Cb) and the red chrominance (Cr). Cb is defined as the blue difference between the luma and the chrominance itself. Cr is the red difference between the luma and the respective chrominance. The human eye is most sensitive to the luma component (or brightness in general); while the chrominance of objects is less important. Therefore RGB is often translated to YCbCr to save storage space, since the luma (Y) will be stored with great precision, but Cb and Cr can be stored with more data efficiency. YCbCr is often used for video transmission to preserve storage.\n",
    "\n",
    "<b>HSV</b>: HSV has three components: Hue, Saturation and Value. HSV stores colours with a non-linear scale which can be envisioned as a cilinder. The Hue of an image is determined around the circumference of this cilinder, where the scale of 0 to 360 degrees express the difference in colour. Saturation controls the purity/intensity of the colour (relative to the value). If there is no saturation, then the value will determine a colour solely on the grayscale. The value thus decides the brightness of the colour. A zero value will always result in the colour black. HSV has a benefit that is modeled more to the conception of how humans perceive colours of objects. On top of that, just like with YCbCr, the chrominance is split from the luminance which makes it easier to change brightness or intensity of an image without actually messing up the colourscheme.\n",
    "\n",
    "<b>Normalized RGB</b>: As it states in the name, normalized RGB normalizes a specific component with respect to all three components in the colourscale. This tends to remove dark pitches, shadow and lighting distortions across the image and therefore gives a clearer view of which objects are actually in the image. This could be useful for object detection, where shadows and distortions might trick a detection algorithm into seeing non-existent objects.\n",
    "\n",
    "<b>Opponent</b>: This colourspace was derived from the opponent process, a theory by Ewald Hering. This is the idea that human perception is based on three channels for seeing colour, a luminance channel and two chromatic channels. The luminance channel is a distinction between black versus white; while the other two channels make distinction between red versus green and blue versus yellow. In our colourspace, $O_1$ represents red versus green, $O_2$ blue versus yellow and $O_3$ is the luminance. It's benefit is thus that a human eye supposedly is better able to make distinctions between objects in opponent colour images, since it adheres to the channel structure in our own cones and rods.  "
   ]
  },
  {
   "cell_type": "markdown",
   "id": "4eb04f78",
   "metadata": {},
   "source": [
    "### 2.4 More on Colour Spaces (2pts)\n",
    "\n",
    "Find one more colour space from the literature and simply explain its properties and give a use case."
   ]
  },
  {
   "cell_type": "markdown",
   "id": "30b842e3",
   "metadata": {},
   "source": [
    "<b>CMYK</b>: CMYK stands for Cyan, Magenta, Yellow and Key. Key can also be seen as Black. The CMYK scheme is mainly used for printers. It is a colourspace that is centered around subtractive colours. RGB is additive, so colours are creating by adding new colour wavelengths. In subtractive colour mixing, various wave lengths are removed and in turn creating new colours. CMYK is naturally used in printing because paper is white. Thus, subtracting colours from white paper gives the best results instead of adding colours onto the white paper."
   ]
  },
  {
   "cell_type": "markdown",
   "id": "5b280abd",
   "metadata": {},
   "source": [
    "## 3 Intrinsic Image Decomposition (15pts)\n",
    "Intrinsic image decomposition is the process of separating an image into its formation components, such as reflectance (albedo) and shading (illumination). <a name=\"cite_ref-1\"></a>[<sup>[1]</sup>](#cite_note-1) Then, under the assumption of body (diffuse) reflection, linear sensor response and narrow band filters, the decomposition of the observed image $I(\\vec{x})$ at position $\\vec{x}$ can be approximated as the element-wise product of its albedo $R(\\vec{x})$ and shading $S(\\vec{x})$ intrinsics:\n",
    "\n",
    "$$I(\\vec{x})=R(\\vec{x}) \\times S(\\vec{x})$$\n",
    "\n",
    "In this part of the assignment, you will experiment with intrinsic image components to perform one of the computational photography applications; material recolouring. For the experiments, we will use images from a synthetic intrinsic image dataset. <a name=\"cite_ref-2\"></a>[<sup>[2]</sup>](#cite_note-2)\n",
    "\n",
    "<a name=\"cite_note-1\"></a><small>1. [^](#cite_ref-1) H. G. Barrow and J. M. Tenenbaum. Recovering intrinsic scene characteristics from images. Computer Vision Systems, pages 3-26, 1978.</small>\n",
    "\n",
    "<a name=\"cite_note-2\"></a><small>2. [^](#cite_ref-1) http://www.cic.uab.cat/Datasets/synthetic_intrinsic_image_dataset/\n",
    "\n"
   ]
  },
  {
   "cell_type": "markdown",
   "id": "3c3ef75c",
   "metadata": {},
   "source": [
    "1. What other components can an image be decomposed other than albedo and shading Give an example and explain your reasoning. *(4pts)*"
   ]
  },
  {
   "cell_type": "markdown",
   "id": "78e148a1",
   "metadata": {},
   "source": [
    "*Write your answer here*"
   ]
  },
  {
   "cell_type": "markdown",
   "id": "d74d17f0",
   "metadata": {},
   "source": [
    "2. If you check the literature, you will see that almost all the intrinsic image decomposition datasets are composed of synthetic images. What might be the reason for that? *(2pts)*"
   ]
  },
  {
   "cell_type": "markdown",
   "id": "a52379ea",
   "metadata": {},
   "source": [
    "*Write your answer here*"
   ]
  },
  {
   "cell_type": "markdown",
   "id": "c79a267f",
   "metadata": {},
   "source": [
    "3. Show that you can actually reconstruct the original *turtle.png* image from its intrinsics using *turtle_albedo.png* and *turtle_shading.png*. In the end, your script should output a figure displaying the original image, its intrinsic images and the reconstructed one. Complete the code for function **iid_image_formation()**. *(4pts)*"
   ]
  },
  {
   "cell_type": "code",
   "execution_count": 7,
   "id": "8f07d3c1",
   "metadata": {},
   "outputs": [],
   "source": [
    "def iid_image_formation(albedo_img, shading_img):\n",
    "    \"\"\"\n",
    "    ================\n",
    "    Your code here\n",
    "    ================\n",
    "    \"\"\"\n",
    "    return"
   ]
  },
  {
   "cell_type": "markdown",
   "id": "7bc26735",
   "metadata": {},
   "source": [
    "### Recoloring *(5pts)*\n",
    "Manipulating colours in photographs is an important problem with many applications in computer vision. Since the aim for recolouring algorithms is just to manipulate colours, better results can be obtained for such a task if the albedo image is available as it is independent of confounding illumination effects.\n",
    "\n",
    "Assume that you are given the *turtle.png* image and you have access to its\n",
    "intrinsic images *turtle_albedo.png* and *turtle_shading.png*.\n",
    "1. Find out the true material colour of the turtle in RGB space (which is uniform in this case).\n",
    "2. Recolour the turtle image with pure green (0, 255, 0). Display the original turtle image and the recoloured version on the same figure. Complete the code for function **recoloring()**."
   ]
  },
  {
   "cell_type": "code",
   "execution_count": 8,
   "id": "15435d05",
   "metadata": {},
   "outputs": [],
   "source": [
    "def recoloring(albedo_img, shading_img):\n",
    "    \"\"\"\n",
    "    ================\n",
    "    Your code here\n",
    "    ================\n",
    "    \"\"\"\n",
    "    return"
   ]
  },
  {
   "cell_type": "markdown",
   "id": "f0d94cb2",
   "metadata": {},
   "source": [
    "3. Although you have recoloured the object with pure green, the reconstructed images do not seem to display those pure colors and thus the colour distributions over the object do not appear uniform. Explain the reason."
   ]
  },
  {
   "cell_type": "markdown",
   "id": "02a44258",
   "metadata": {},
   "source": [
    "*Write your answer here*"
   ]
  },
  {
   "cell_type": "markdown",
   "id": "5d6030a9",
   "metadata": {},
   "source": [
    "Note that this was a simple case where the image is synthetic, object centered and has only one colour, and you have access to its ground-truth intrinsic images. Real world scenarios require more than just replacing a single colour with another, not to mention the complexity of achieving a decent intrinsic image decomposition."
   ]
  },
  {
   "cell_type": "markdown",
   "id": "a0fb41c2",
   "metadata": {},
   "source": [
    "## 4 Colour Constancy (15pts)\n",
    "\n",
    "Colour constancy is the ability to perceive colors of objects, invariant to the colour of the light source. The aim for colour constancy algorithms is first to estimate the illuminant of the light source, and then correct the image so that the corrected image appears to be taken under a canonical (white) light source. The task of the automatic white balance (AWB) is to do the same in digital cameras so that the images taken by a digital camera look as natural as possible.\n",
    "\n",
    "In this part of the assignment, you will implement the most famous colour constancy algorithm; *Grey-World Algorithm*.\n",
    "\n",
    "### Grey-World Algorithm\n",
    "The algorithm assumes that, under a white light source, the average colour in a scene should be achromatic (grey, [128, 128, 128]).\n",
    "\n",
    "1. Complete the function to apply colour correction to an RGB image by using Grey-World algorithm. Display the original image and the colour corrected one on the same figure. Use awb.jpg image to test your algorithm. In the end, you should see that the reddish colour cast on the image is removed and it looks more natural.\n",
    "\n",
    "  ***Note:*** You do not need to apply any pre or post processing steps. For the calculation or processing, you are not allowed to use any available code or any dedicated library function except *standard Numpy functions*.\n",
    "   \n",
    "   ***Hint:*** Check the von Kries model for this step.\n"
   ]
  },
  {
   "cell_type": "code",
   "execution_count": 11,
   "id": "b2bb3984",
   "metadata": {},
   "outputs": [
    {
     "name": "stderr",
     "output_type": "stream",
     "text": [
      "Clipping input data to the valid range for imshow with RGB data ([0..1] for floats or [0..255] for integers).\n"
     ]
    },
    {
     "name": "stdout",
     "output_type": "stream",
     "text": [
      "format: JPEG\n",
      "mode: RGB\n",
      "size: (256, 320)\n",
      "RGB mean values =  [121.17 107.4  109.3 ]\n"
     ]
    },
    {
     "data": {
      "text/plain": [
       "Text(0.5, 1.0, 'Gray World Correction')"
      ]
     },
     "execution_count": 11,
     "metadata": {},
     "output_type": "execute_result"
    },
    {
     "data": {
      "image/png": "[encoded data removed]",
      "text/plain": [
       "<Figure size 640x480 with 2 Axes>"
      ]
     },
     "metadata": {},
     "output_type": "display_data"
    }
   ],
   "source": [
    "import cv2\n",
    "from PIL import Image\n",
    "\n",
    "def grey_world(awb_img):\n",
    "    \"\"\" A function for applying the grey world algorithm to the\n",
    "    input image file, in order to mimic a colour constancy ability.\n",
    "    The gray world algorithm [1] assumes that the average colour in a scene \n",
    "    is achromatic (gray[128, 128, 128])\n",
    "    \n",
    "    Input:\n",
    "        awb_img = The image file \n",
    "        \n",
    "    Returns:\n",
    "        cc_img = The color constancy correction\n",
    "    \"\"\"\n",
    "    \n",
    "    img_array = np.array(awb_img)\n",
    "    \n",
    "    # Estimate the mean value per channel\n",
    "    means = [np.mean(img_array[:,:,i]) for i in range(3)]\n",
    "    print(\"RGB mean values = \", np.round(means,2))\n",
    "\n",
    "    # Colour correction in terms of the gray world normalization\n",
    "    cc_img = np.dstack((np.array(img_array[:,:,0]*(128/means[0]), dtype=int), np.array(img_array[:,:,1]*(128/means[1]), dtype=int), np.array(img_array[:,:,2]*(128/means[2]), dtype=int))) \n",
    "    \n",
    "    return cc_img\n",
    "\n",
    "# Source Image\n",
    "imgAWB = Image.open('images/awb/awb.jpg') \n",
    "\n",
    "# prints format, mode, size of i mage \n",
    "print('format:', imgAWB.format) \n",
    "print('mode:', imgAWB.mode) \n",
    "print('size:', imgAWB.size)\n",
    "\n",
    "\n",
    "# Run Gray World algorithm\n",
    "imgCC = grey_world(imgAWB)\n",
    "\n",
    "\n",
    "# Output Images \n",
    "fig = plt.figure()\n",
    "plt.suptitle('Colour Constancy - Gray World Normalization', horizontalalignment='right')\n",
    "\n",
    "plt.subplot(1, 3, 1)\n",
    "plt.imshow(imgAWB)    # Red\n",
    "plt.title('Original Image')\n",
    "\n",
    "plt.subplot(1, 3, 2)\n",
    "plt.imshow(imgCC)    # Green\n",
    "plt.title('Gray World Correction')\n"
   ]
  },
  {
   "cell_type": "markdown",
   "id": "28c12a2c",
   "metadata": {},
   "source": [
    "2. Give an example case for Grey-World Algorithm on where it might fail. Remember to include your reasoning."
   ]
  },
  {
   "cell_type": "markdown",
   "id": "7a0aaaf7",
   "metadata": {},
   "source": [
    "A nesecarry condition for applying the Gray World assumption to an image is that the image is comprised of sufficient amount of color variation, so that the average value of the R, G and B components do average to the common gray value [128, 128, 128]. Only in this circumstance is it natural to expect that any deviation of the average color away from gray is caused by the effects of the light source. However, not all photograpgs are of scenes comprised of such rich colour spectra. As such, an example of cases where the Gray World algorithm potentially fail is when an image has a large dominant colour patch [2]. For instance, when the motive on a picture is of a singuar color ideal diffuse surface against a minorly displaying more complex background. If this foregorund item for example is a dark shade of red it will cause a low average in the channel which when used to normalize the entire channel can cause a heavy distortion of all other pixels in this spectra. This is because the fundamental assumtion of the average pixel value for the channel should in reality be 128 only weighted by the deviation from the reflected light of the source, which is not the case for this particular scene. \n"
   ]
  },
  {
   "cell_type": "markdown",
   "id": "04d2715e",
   "metadata": {},
   "source": [
    "3. Find out one more colour constancy algorithms from the literature and explain it briefly."
   ]
  },
  {
   "cell_type": "markdown",
   "id": "33f8785c",
   "metadata": {},
   "source": [
    "The White-Patch algorithm is a color constancy algorithm often considered to be the alternative to Gray-World for color correction. The fundamental assumption of White-Patch however, is that the maximum response in the RGB-channels is caused by a white patch. The algorithm searches for the lighetst patch  to use as a white reference, in a similar fashion to the mechanisms of the human visual system [3]. In the same fashion as the Gray World algorithm we use a scaling factor to correct the colors in the image. To find this scaling factor the algorithm searches for the RGB values of the white area or pixel, and then it divides all the RGB values by the corresponding RGB values of the white patch. Such an white area can for instance be determined by performing an upper percentile cut in the channels values. In the case that the values exceed the maximum index 255, the values are cropped back to allowed range [4]. "
   ]
  },
  {
   "cell_type": "markdown",
   "id": "db351211",
   "metadata": {},
   "source": [
    "# References\n",
    "\n",
    "[1] Buchsbaum, G.: A spatial processor model for object color perception. Journal of the\n",
    "Franklin Institute 310, 1–26 (1980)\n",
    "\n",
    "[2] Li, Xiaoqiang & Wu, Jingjing. (2013). Improved Gray World Algorithm Based on Salient Detection. Communications in Computer and Information Science. 363. 315-321. 10.1007/978-3-642-37149-3_38. \n",
    "\n",
    "[3] Rizzi, Alessandro & Gatta, Carlo & Marini, Daniele. (2002). Color correction between Gray World and White Patch. Proceedings of SPIE - The International Society for Optical Engineering. 4662. 10.1117/12.469534. \n",
    "\n",
    "[4] Cepeda-Negrete, J. y Sanchez-Yanez, RE. (2012). Experiments on the\n",
    "White Patch Retinex in RGB and CIELAB color spaces. Acta Universitaria,\n",
    "22 (01886266), 21-26."
   ]
  },
  {
   "cell_type": "code",
   "execution_count": null,
   "id": "34326510",
   "metadata": {},
   "outputs": [],
   "source": []
  }
 ],
 "metadata": {
  "kernelspec": {
   "display_name": "Python 3 (ipykernel)",
   "language": "python",
   "name": "python3"
  },
  "language_info": {
   "codemirror_mode": {
    "name": "ipython",
    "version": 3
   },
   "file_extension": ".py",
   "mimetype": "text/x-python",
   "name": "python",
   "nbconvert_exporter": "python",
   "pygments_lexer": "ipython3",
   "version": "3.10.4"
  }
 },
 "nbformat": 4,
 "nbformat_minor": 5
}
